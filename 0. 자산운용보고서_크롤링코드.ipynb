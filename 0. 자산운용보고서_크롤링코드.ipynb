{
 "cells": [
  {
   "cell_type": "code",
   "execution_count": 1,
   "metadata": {
    "id": "wVGe8yG-SGyK"
   },
   "outputs": [],
   "source": [
    "import pandas as pd\n",
    "import numpy as np\n",
    "\n",
    "import warnings\n",
    "warnings.filterwarnings('ignore')\n",
    "\n",
    "#from google.colab import drive\n",
    "#drive.mount('/content/drive')"
   ]
  },
  {
   "cell_type": "code",
   "execution_count": 2,
   "metadata": {
    "id": "Cd0oEX7XSUcp",
    "outputId": "7d517b1e-cc76-4a3b-90b6-3e66b0b06476"
   },
   "outputs": [
    {
     "data": {
      "text/plain": [
       "(154, 1)"
      ]
     },
     "execution_count": 2,
     "metadata": {},
     "output_type": "execute_result"
    }
   ],
   "source": [
    "# 펀드 코드(154개) 추출\n",
    "data = pd.read_csv(\"mali_data1.csv\")\n",
    "unique_fund = data[['fund_cd']].drop_duplicates()\n",
    "unique_fund.shape"
   ]
  },
  {
   "cell_type": "code",
   "execution_count": 3,
   "metadata": {
    "id": "tWYAiktTkgqV"
   },
   "outputs": [],
   "source": [
    "fund_cd_list = unique_fund['fund_cd'].tolist()"
   ]
  },
  {
   "cell_type": "code",
   "execution_count": 4,
   "metadata": {
    "colab": {
     "base_uri": "https://localhost:8080/"
    },
    "id": "XyDMuMRUloUZ",
    "outputId": "04d41e28-a7e4-4380-e54e-444cdc333f5c"
   },
   "outputs": [
    {
     "data": {
      "text/plain": [
       "{'seq0': ['·운용전략'],\n",
       " 'seq1': ['·투자포인트'],\n",
       " 'seq2': ['·기본정보'],\n",
       " 'seq3': ['운용경과', '및', '향후', '운용계획'],\n",
       " 'seq4': ['펀드의', '개요']}"
      ]
     },
     "execution_count": 4,
     "metadata": {},
     "output_type": "execute_result"
    }
   ],
   "source": [
    "seq0 = \"·운용전략\"\n",
    "seq1 = \"·투자포인트\"\n",
    "seq2 = \"·기본정보\"\n",
    "seq3 = \"운용경과 및 향후 운용계획\"\n",
    "seq4 = \"펀드의 개요\"\n",
    "\n",
    "sequences = {'seq{}'.format(idx): i.split() for idx, i in enumerate([seq0, seq1, seq2, seq3, seq4])}\n",
    "sequences"
   ]
  },
  {
   "cell_type": "code",
   "execution_count": 5,
   "metadata": {
    "id": "orhLwp9UJUL0",
    "outputId": "0b55b92e-313a-4c48-9895-5cf1ab4c3113"
   },
   "outputs": [
    {
     "name": "stdout",
     "output_type": "stream",
     "text": [
      "seq0 104\n",
      "seq1 118\n",
      "seq2 133\n",
      "seq3 228\n",
      "seq4 383\n",
      "운용전략: ·운용전략 아시아 인프라, 부동산 자산에 투자하여 배당 및 시장가치 상승 에 따른 수혜 기대\n",
      "투자포인트: ·투자포인트 아시아 지역 인프라산업에 관련된 기업에 투자함으로써 배당 수 익이 누적적으로 재투자되는 효과를 기대하는 펀드\n",
      "운용경과: 운용경과 및 향후 운용계획 영국, 미국 등에서 코로나19 백신 접종이 빠르게 진행되고 있고 부작용도 거의 없는 반면 백신 효과는 있는 것으로 알려지면서 코로나19 종식 기대감으로 2020년에는 상대적으로 소외되었던 섹터들이 큰 폭으로 상승했습니다. 반면 이미 많이 올랐던 섹 터들은 조정을 받는 Global Reflation Trade가 시장을 주도했습니다. 미국 바이든 정부의 대규모 인프라 투자 계획이 발표되 었고 경제 회복 기대감에 장기 금리와 유가 등 커머디티 가격이 지속적으로 상승한 점도 금융, 에너지, 산업재, 인프라 섹터 등 의 상승에 영향을 미쳤습니다. ● 운용경과 코로나19로 인한 Great Lock-down이 주도했던 시장 상황에서 코로나19 종식 후로 시장의 관심이 바뀌고 미국 바이든 정부 의 적극적인 경제 부양책까지 겹치면서 상대적으로 오르지 못했던 섹터들이 반등하는 계기가 되었습니다. 이미 많이 오른 섹터 들이 상대적으로 조정을 받았으나 코로나19가 종식되더라도 시장은 계속해서 글로벌 혁신 트렌드를 장기적으로 좌우할 수 있 는 우량 기업에 주목할 것으로 전망하며 미국 경제 부양책의 수혜를 가장 많이 받을 수 있는 글로벌 우량 인프라 자산에 대해서 는 계속 긍정적인 관점으로 접근하고 있습니다. ● 향후 운용계획 3\n"
     ]
    }
   ],
   "source": [
    "# load file\n",
    "filename = \"자산운용보고서/\" + str(fund_cd_list[0]) + \".txt\"\n",
    "file = open(filename, 'rt',encoding='UTF8')\n",
    "text = file.read()\n",
    "file.close()\n",
    "\n",
    "# split into words by ws\n",
    "words = text.split()\n",
    "\n",
    "# index\n",
    "idx_list = []\n",
    "for idx in range(len(words)):\n",
    "    for k,v in sequences.items():\n",
    "        if idx + len(v) < len(words) and words[idx: idx+len(v)] == v:\n",
    "            print(k, idx)\n",
    "            idx_list.append(idx)\n",
    "\n",
    "# 운용전략 / 투자포인트 / 운용경과\n",
    "string1 = \" \".join(words[idx_list[0]:idx_list[1]])\n",
    "string2 = \" \".join(words[idx_list[1]:idx_list[2]])\n",
    "string3 = \" \".join(words[idx_list[3]:idx_list[4]])\n",
    "print(\"운용전략:\",string1)\n",
    "print(\"투자포인트:\",string2)\n",
    "print(\"운용경과:\",string3)"
   ]
  },
  {
   "cell_type": "code",
   "execution_count": 6,
   "metadata": {
    "id": "Ys02MnmPJUL0"
   },
   "outputs": [],
   "source": [
    "strategy_text = []\n",
    "invpoint_text=[]\n",
    "prognplan_text = []\n",
    "\n",
    "for code in fund_cd_list:\n",
    "  # pdf 파일 텍스트 추출\n",
    "    filename = \"자산운용보고서/\" +str(code) + \".txt\"\n",
    "    file = open(filename, 'rt',encoding='UTF8')\n",
    "    text = file.read()\n",
    "    file.close()\n",
    "    \n",
    "    words = text.split()\n",
    "    \n",
    "    #운용전략/투자포인트/운용경과 텍스트 추출\n",
    "    \n",
    "    idx_list = []\n",
    "    for idx in range(len(words)):\n",
    "        for k,v in sequences.items():\n",
    "            if idx + len(v) < len(words) and words[idx: idx+len(v)] == v:\n",
    "                #print(k, idx)\n",
    "                idx_list.append(idx)\n",
    "    string1 = \" \".join(words[idx_list[0]:idx_list[1]])\n",
    "    string2 = \" \".join(words[idx_list[1]:idx_list[2]])\n",
    "    string3 = \" \".join(words[idx_list[3]:idx_list[4]])\n",
    "    \n",
    "    strategy_text.append(string1)\n",
    "    invpoint_text.append(string2)\n",
    "    prognplan_text.append(string3)\n",
    "    \n"
   ]
  },
  {
   "cell_type": "code",
   "execution_count": 7,
   "metadata": {
    "id": "tukU8GqOJUL1",
    "outputId": "37cc1f01-1238-4659-8d0d-be37fdbe0ab0"
   },
   "outputs": [
    {
     "data": {
      "text/html": [
       "<div>\n",
       "<style scoped>\n",
       "    .dataframe tbody tr th:only-of-type {\n",
       "        vertical-align: middle;\n",
       "    }\n",
       "\n",
       "    .dataframe tbody tr th {\n",
       "        vertical-align: top;\n",
       "    }\n",
       "\n",
       "    .dataframe thead th {\n",
       "        text-align: right;\n",
       "    }\n",
       "</style>\n",
       "<table border=\"1\" class=\"dataframe\">\n",
       "  <thead>\n",
       "    <tr style=\"text-align: right;\">\n",
       "      <th></th>\n",
       "      <th>fund_cd</th>\n",
       "      <th>strategy</th>\n",
       "      <th>invest_point</th>\n",
       "      <th>progress_plan</th>\n",
       "    </tr>\n",
       "  </thead>\n",
       "  <tbody>\n",
       "    <tr>\n",
       "      <th>0</th>\n",
       "      <td>N2C0</td>\n",
       "      <td>·운용전략 아시아 인프라, 부동산 자산에 투자하여 배당 및 시장가치 상승 에 따른 ...</td>\n",
       "      <td>·투자포인트 아시아 지역 인프라산업에 관련된 기업에 투자함으로써 배당 수 익이 누적...</td>\n",
       "      <td>운용경과 및 향후 운용계획 영국, 미국 등에서 코로나19 백신 접종이 빠르게 진행되...</td>\n",
       "    </tr>\n",
       "    <tr>\n",
       "      <th>1</th>\n",
       "      <td>N5A0</td>\n",
       "      <td>·운용전략 MMF형 펀드, 콜론(Call Loan), 양도성예금증서(CD), 단기국...</td>\n",
       "      <td>·투자포인트 콜론, 기업어음, 양도성예금증서, 증권어음, 단기채권 등 일정등 급 이...</td>\n",
       "      <td>운용경과 및 향후 운용계획 1분기 채권 금리는 만기가 긴 채권일수록 금리 상승폭이 ...</td>\n",
       "    </tr>\n",
       "    <tr>\n",
       "      <th>2</th>\n",
       "      <td>N1B0</td>\n",
       "      <td>·운용전략 순자산의 50%를 국내주식 및 국내주식형펀드, 50%를 국내채 권 및 국...</td>\n",
       "      <td>·투자포인트 장기적으로 성장 가능성이 높은 산업의 우수한 기업의 주식과 함께 안정적...</td>\n",
       "      <td>운용경과 및 향후 운용계획 의약 업종의 비중 하향과 SK바이오사이언스, 네오이뮨텍 ...</td>\n",
       "    </tr>\n",
       "    <tr>\n",
       "      <th>3</th>\n",
       "      <td>N4C0</td>\n",
       "      <td>·운용전략 주식과 채권을 중심으로 다양한 자산군을 활용하여 안정적인 이 자수익과 장...</td>\n",
       "      <td>·투자포인트 주식 및 커버드콜, 전환사채, 하이일드 채권 등의 투자를 통해 포트폴리...</td>\n",
       "      <td>운용경과 및 향후 운용계획 영국, 미국 등에서 코로나19 백신 접종이 빠르게 진행되...</td>\n",
       "    </tr>\n",
       "    <tr>\n",
       "      <th>4</th>\n",
       "      <td>N750</td>\n",
       "      <td>·운용전략 단기 미국 국채 및 한국의 은행, 공사, 기업 등이 발행한 미국 달 러 ...</td>\n",
       "      <td>·투자포인트 금융시장이 불안한 시기에 안전자산의 수요는 증가하며, 금융시 장 하락기...</td>\n",
       "      <td>운용경과 및 향후 운용계획 펀드는 미래에셋 달러단기자금 펀드에 투자하고 있습니다. ...</td>\n",
       "    </tr>\n",
       "    <tr>\n",
       "      <th>...</th>\n",
       "      <td>...</td>\n",
       "      <td>...</td>\n",
       "      <td>...</td>\n",
       "      <td>...</td>\n",
       "    </tr>\n",
       "    <tr>\n",
       "      <th>149</th>\n",
       "      <td>N9H0</td>\n",
       "      <td>·운용전략 대부분의 자산을 국내 채권 자산에 투자하여 안정적인 이자수익 추구. 주가...</td>\n",
       "      <td>·투자포인트 국채, 공사채, 통안채 등 국내 우량 채권을 주 투자대상으로 하 여 안...</td>\n",
       "      <td>운용경과 및 향후 운용계획 펀드는 국내채권형 수익증권 위주로 투자하고 있습니다. 수...</td>\n",
       "    </tr>\n",
       "    <tr>\n",
       "      <th>150</th>\n",
       "      <td>N250</td>\n",
       "      <td>·운용전략 높은 성장을 지속하는 중국 내 산업별 대표 기업에 주로 투자하 여 장기적...</td>\n",
       "      <td>·투자포인트 실질 소득 증가의 수혜를 보는 중국내수시장의 일등 기업, 정부 의 적극...</td>\n",
       "      <td>운용경과 및 향후 운용계획 상승세를 이어가던 아시아 증시는 시장금리 급등, 밸류에이...</td>\n",
       "    </tr>\n",
       "    <tr>\n",
       "      <th>151</th>\n",
       "      <td>N9D0</td>\n",
       "      <td>·운용전략 이스트스프링 맥스 초이스 증권투자신탁에 자산의 60% 이상을 투자하며 장...</td>\n",
       "      <td>·투자포인트 국채, 공사채, 통안채 등 국내 우량 채권을 주 투자대상으로 하 여 안...</td>\n",
       "      <td>운용경과 및 향후 운용계획 펀드는 보험상품의 운용 목표에 부합하도록 변동성을 최소화...</td>\n",
       "    </tr>\n",
       "    <tr>\n",
       "      <th>152</th>\n",
       "      <td>U204</td>\n",
       "      <td>·운용전략 전세계 인구 절반을 차지하는 중국과 인도의 소비 수혜주 및 산 업별 대표...</td>\n",
       "      <td>·투자포인트 친디아(Chindia, 중국+인도) 지역의 경제성장에 수혜를 받는 섹터...</td>\n",
       "      <td>운용경과 및 향후 운용계획 상승세를 이어가던 아시아 증시는 시장금리 급등, 밸류에이...</td>\n",
       "    </tr>\n",
       "    <tr>\n",
       "      <th>153</th>\n",
       "      <td>N9E0</td>\n",
       "      <td>·운용전략 이스트스프링 맥스 초이스 증권투자신탁 2호에 자산의 60% 이 상을 투자...</td>\n",
       "      <td>·투자포인트 국채, 공사채, 통안채 등 국내 우량 채권을 주 투자대상으로 하 여 안...</td>\n",
       "      <td>운용경과 및 향후 운용계획 펀드는 보험상품의 운용 목표에 부합하도록 변동성을 최소화...</td>\n",
       "    </tr>\n",
       "  </tbody>\n",
       "</table>\n",
       "<p>154 rows × 4 columns</p>\n",
       "</div>"
      ],
      "text/plain": [
       "    fund_cd                                           strategy  \\\n",
       "0      N2C0  ·운용전략 아시아 인프라, 부동산 자산에 투자하여 배당 및 시장가치 상승 에 따른 ...   \n",
       "1      N5A0  ·운용전략 MMF형 펀드, 콜론(Call Loan), 양도성예금증서(CD), 단기국...   \n",
       "2      N1B0  ·운용전략 순자산의 50%를 국내주식 및 국내주식형펀드, 50%를 국내채 권 및 국...   \n",
       "3      N4C0  ·운용전략 주식과 채권을 중심으로 다양한 자산군을 활용하여 안정적인 이 자수익과 장...   \n",
       "4      N750  ·운용전략 단기 미국 국채 및 한국의 은행, 공사, 기업 등이 발행한 미국 달 러 ...   \n",
       "..      ...                                                ...   \n",
       "149    N9H0  ·운용전략 대부분의 자산을 국내 채권 자산에 투자하여 안정적인 이자수익 추구. 주가...   \n",
       "150    N250  ·운용전략 높은 성장을 지속하는 중국 내 산업별 대표 기업에 주로 투자하 여 장기적...   \n",
       "151    N9D0  ·운용전략 이스트스프링 맥스 초이스 증권투자신탁에 자산의 60% 이상을 투자하며 장...   \n",
       "152    U204  ·운용전략 전세계 인구 절반을 차지하는 중국과 인도의 소비 수혜주 및 산 업별 대표...   \n",
       "153    N9E0  ·운용전략 이스트스프링 맥스 초이스 증권투자신탁 2호에 자산의 60% 이 상을 투자...   \n",
       "\n",
       "                                          invest_point  \\\n",
       "0    ·투자포인트 아시아 지역 인프라산업에 관련된 기업에 투자함으로써 배당 수 익이 누적...   \n",
       "1    ·투자포인트 콜론, 기업어음, 양도성예금증서, 증권어음, 단기채권 등 일정등 급 이...   \n",
       "2    ·투자포인트 장기적으로 성장 가능성이 높은 산업의 우수한 기업의 주식과 함께 안정적...   \n",
       "3    ·투자포인트 주식 및 커버드콜, 전환사채, 하이일드 채권 등의 투자를 통해 포트폴리...   \n",
       "4    ·투자포인트 금융시장이 불안한 시기에 안전자산의 수요는 증가하며, 금융시 장 하락기...   \n",
       "..                                                 ...   \n",
       "149  ·투자포인트 국채, 공사채, 통안채 등 국내 우량 채권을 주 투자대상으로 하 여 안...   \n",
       "150  ·투자포인트 실질 소득 증가의 수혜를 보는 중국내수시장의 일등 기업, 정부 의 적극...   \n",
       "151  ·투자포인트 국채, 공사채, 통안채 등 국내 우량 채권을 주 투자대상으로 하 여 안...   \n",
       "152  ·투자포인트 친디아(Chindia, 중국+인도) 지역의 경제성장에 수혜를 받는 섹터...   \n",
       "153  ·투자포인트 국채, 공사채, 통안채 등 국내 우량 채권을 주 투자대상으로 하 여 안...   \n",
       "\n",
       "                                         progress_plan  \n",
       "0    운용경과 및 향후 운용계획 영국, 미국 등에서 코로나19 백신 접종이 빠르게 진행되...  \n",
       "1    운용경과 및 향후 운용계획 1분기 채권 금리는 만기가 긴 채권일수록 금리 상승폭이 ...  \n",
       "2    운용경과 및 향후 운용계획 의약 업종의 비중 하향과 SK바이오사이언스, 네오이뮨텍 ...  \n",
       "3    운용경과 및 향후 운용계획 영국, 미국 등에서 코로나19 백신 접종이 빠르게 진행되...  \n",
       "4    운용경과 및 향후 운용계획 펀드는 미래에셋 달러단기자금 펀드에 투자하고 있습니다. ...  \n",
       "..                                                 ...  \n",
       "149  운용경과 및 향후 운용계획 펀드는 국내채권형 수익증권 위주로 투자하고 있습니다. 수...  \n",
       "150  운용경과 및 향후 운용계획 상승세를 이어가던 아시아 증시는 시장금리 급등, 밸류에이...  \n",
       "151  운용경과 및 향후 운용계획 펀드는 보험상품의 운용 목표에 부합하도록 변동성을 최소화...  \n",
       "152  운용경과 및 향후 운용계획 상승세를 이어가던 아시아 증시는 시장금리 급등, 밸류에이...  \n",
       "153  운용경과 및 향후 운용계획 펀드는 보험상품의 운용 목표에 부합하도록 변동성을 최소화...  \n",
       "\n",
       "[154 rows x 4 columns]"
      ]
     },
     "execution_count": 7,
     "metadata": {},
     "output_type": "execute_result"
    }
   ],
   "source": [
    "dict = {'fund_cd' : fund_cd_list,\n",
    "        'strategy' : strategy_text, \n",
    "        'invest_point' : invpoint_text,\n",
    "        'progress_plan' : prognplan_text}\n",
    "df = pd.DataFrame(dict)\n",
    "df"
   ]
  },
  {
   "cell_type": "code",
   "execution_count": 8,
   "metadata": {
    "id": "3RFbNipNJUL1"
   },
   "outputs": [],
   "source": [
    "df.to_csv('자산운용보고서_크롤링결과.csv', index=False, encoding=\"cp949\")"
   ]
  }
 ],
 "metadata": {
  "accelerator": "GPU",
  "colab": {
   "collapsed_sections": [],
   "name": "자산운용보고서_크롤링.ipynb",
   "provenance": []
  },
  "kernelspec": {
   "display_name": "Python 3",
   "language": "python",
   "name": "python3"
  },
  "language_info": {
   "codemirror_mode": {
    "name": "ipython",
    "version": 3
   },
   "file_extension": ".py",
   "mimetype": "text/x-python",
   "name": "python",
   "nbconvert_exporter": "python",
   "pygments_lexer": "ipython3",
   "version": "3.9.4"
  }
 },
 "nbformat": 4,
 "nbformat_minor": 1
}
