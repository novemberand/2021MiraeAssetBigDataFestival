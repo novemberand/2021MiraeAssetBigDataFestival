{
 "cells": [
  {
   "cell_type": "markdown",
   "metadata": {
    "id": "W0Y4Ga2BMrkY"
   },
   "source": [
    "# 투자성향기반 변액펀드 추천\n",
    "고객의 특성을 파악할 수 있는 기존 변수 및 파생 변수를 이용해 클러스터링을 진행하였습니다. 고객그룹을 클러스터별로 구분하여 클러스터별 특징을 파악하고 클러스터별로 선호하는 펀드와 관련 키워드를 추출하였습니다. 이를 이용하여 태블로 대시보드에서 고객이 자신의 투자성향을 파악하고 이에 맞는 펀드를 추천받을 수 있도록 했습니다. \n",
    "\n",
    "\n",
    "[목차]\n",
    "\n",
    "1.  파생변수 생성\n",
    "\n",
    "2. 클러스터링(k-means clustering)\n",
    "  - 클러스터링 변수 선택\n",
    "  - 변수 정규화\n",
    "  - 최적의 클러스터 개수 찾기\n",
    "  - K-means clustering\n",
    "  - 클러스터 해석\n",
    "  - 클러스터별 시계열 추이 비교\n",
    "\n",
    "\n",
    "3. 클러스터별 선호 펀드 파악\n",
    "  - 최빈 거래 펀드\n",
    "  - 최다 그룹 거래 펀드\n",
    "  - 클러스터별 선호 펀드 스타일\n",
    "\n",
    "4. 태블로 시각화용 데이터셋 완성\n",
    "  - 클러스터 정보 \n",
    "  - 펀드 및 키워드 시각화를 위한 전처리\n",
    "  - 클러스터 예측"
   ]
  },
  {
   "cell_type": "code",
   "execution_count": 192,
   "metadata": {
    "executionInfo": {
     "elapsed": 956,
     "status": "ok",
     "timestamp": 1632918600601,
     "user": {
      "displayName": "성균관대이지연",
      "photoUrl": "https://lh3.googleusercontent.com/a/default-user=s64",
      "userId": "06932829462441791260"
     },
     "user_tz": -540
    },
    "id": "EJWDwT-r6zwy"
   },
   "outputs": [],
   "source": [
    "import pandas as pd\n",
    "import numpy as np\n",
    "import os\n",
    "import math\n",
    "import seaborn as sns\n",
    "import re\n",
    "import matplotlib.pyplot as plt\n",
    "from sklearn.metrics import silhouette_samples, silhouette_score\n",
    "from matplotlib import cm\n",
    "from sklearn.cluster import KMeans \n",
    "from sklearn import preprocessing\n",
    "import random\n",
    "import ast\n",
    "import collections"
   ]
  },
  {
   "cell_type": "code",
   "execution_count": 193,
   "metadata": {
    "executionInfo": {
     "elapsed": 8,
     "status": "ok",
     "timestamp": 1632918600602,
     "user": {
      "displayName": "성균관대이지연",
      "photoUrl": "https://lh3.googleusercontent.com/a/default-user=s64",
      "userId": "06932829462441791260"
     },
     "user_tz": -540
    },
    "id": "MGfuTgL0-YJE"
   },
   "outputs": [],
   "source": [
    "# seed값 고정 \n",
    "seed = 0\n",
    "random.seed(seed)\n",
    "np.random.seed(seed)"
   ]
  },
  {
   "cell_type": "code",
   "execution_count": 194,
   "metadata": {
    "colab": {
     "base_uri": "https://localhost:8080/"
    },
    "executionInfo": {
     "elapsed": 8,
     "status": "ok",
     "timestamp": 1632918600603,
     "user": {
      "displayName": "성균관대이지연",
      "photoUrl": "https://lh3.googleusercontent.com/a/default-user=s64",
      "userId": "06932829462441791260"
     },
     "user_tz": -540
    },
    "id": "8EjSI5Fm66qr",
    "outputId": "d5ff764d-44a0-4fcb-9033-7399554fc10f"
   },
   "outputs": [
    {
     "name": "stdout",
     "output_type": "stream",
     "text": [
      "Drive already mounted at /content/drive/; to attempt to forcibly remount, call drive.mount(\"/content/drive/\", force_remount=True).\n"
     ]
    }
   ],
   "source": [
    "from google.colab import drive\n",
    "drive.mount('/content/drive/')"
   ]
  },
  {
   "cell_type": "code",
   "execution_count": 195,
   "metadata": {
    "executionInfo": {
     "elapsed": 12465,
     "status": "ok",
     "timestamp": 1632918613063,
     "user": {
      "displayName": "성균관대이지연",
      "photoUrl": "https://lh3.googleusercontent.com/a/default-user=s64",
      "userId": "06932829462441791260"
     },
     "user_tz": -540
    },
    "id": "HklKsNI6689r"
   },
   "outputs": [],
   "source": [
    "# 데이터 불러오기\n",
    "data = pd.read_csv('/content/drive/MyDrive/miraeasset/mali_data1.csv')"
   ]
  },
  {
   "cell_type": "markdown",
   "metadata": {
    "id": "s93y0-iwOh2C"
   },
   "source": [
    "### 1. 파생변수 생성\n",
    "\n",
    "그룹ID별 특징을 파악할 수 있는 파생변수 생성"
   ]
  },
  {
   "cell_type": "markdown",
   "metadata": {
    "id": "-FEQO9dLktgp"
   },
   "source": [
    "- 그룹ID별로 거래한 펀드의 종류의 유니크 개수\n"
   ]
  },
  {
   "cell_type": "code",
   "execution_count": 196,
   "metadata": {
    "colab": {
     "base_uri": "https://localhost:8080/",
     "height": 0
    },
    "executionInfo": {
     "elapsed": 10,
     "status": "ok",
     "timestamp": 1632918613069,
     "user": {
      "displayName": "성균관대이지연",
      "photoUrl": "https://lh3.googleusercontent.com/a/default-user=s64",
      "userId": "06932829462441791260"
     },
     "user_tz": -540
    },
    "id": "mK_0a0UX6-RQ",
    "outputId": "1d14ef2b-4fe0-46be-9cc0-2f4038c72c64"
   },
   "outputs": [
    {
     "data": {
      "text/html": [
       "<div>\n",
       "<style scoped>\n",
       "    .dataframe tbody tr th:only-of-type {\n",
       "        vertical-align: middle;\n",
       "    }\n",
       "\n",
       "    .dataframe tbody tr th {\n",
       "        vertical-align: top;\n",
       "    }\n",
       "\n",
       "    .dataframe thead th {\n",
       "        text-align: right;\n",
       "    }\n",
       "</style>\n",
       "<table border=\"1\" class=\"dataframe\">\n",
       "  <thead>\n",
       "    <tr style=\"text-align: right;\">\n",
       "      <th></th>\n",
       "      <th>fund_cd_num</th>\n",
       "    </tr>\n",
       "    <tr>\n",
       "      <th>gid</th>\n",
       "      <th></th>\n",
       "    </tr>\n",
       "  </thead>\n",
       "  <tbody>\n",
       "    <tr>\n",
       "      <th>2214.0</th>\n",
       "      <td>26</td>\n",
       "    </tr>\n",
       "    <tr>\n",
       "      <th>5358.0</th>\n",
       "      <td>56</td>\n",
       "    </tr>\n",
       "    <tr>\n",
       "      <th>20540.0</th>\n",
       "      <td>19</td>\n",
       "    </tr>\n",
       "    <tr>\n",
       "      <th>23953.0</th>\n",
       "      <td>83</td>\n",
       "    </tr>\n",
       "    <tr>\n",
       "      <th>33984.0</th>\n",
       "      <td>61</td>\n",
       "    </tr>\n",
       "    <tr>\n",
       "      <th>...</th>\n",
       "      <td>...</td>\n",
       "    </tr>\n",
       "    <tr>\n",
       "      <th>9982667.0</th>\n",
       "      <td>56</td>\n",
       "    </tr>\n",
       "    <tr>\n",
       "      <th>9986583.0</th>\n",
       "      <td>25</td>\n",
       "    </tr>\n",
       "    <tr>\n",
       "      <th>9988743.0</th>\n",
       "      <td>14</td>\n",
       "    </tr>\n",
       "    <tr>\n",
       "      <th>9991983.0</th>\n",
       "      <td>22</td>\n",
       "    </tr>\n",
       "    <tr>\n",
       "      <th>9999493.0</th>\n",
       "      <td>50</td>\n",
       "    </tr>\n",
       "  </tbody>\n",
       "</table>\n",
       "<p>3062 rows × 1 columns</p>\n",
       "</div>"
      ],
      "text/plain": [
       "           fund_cd_num\n",
       "gid                   \n",
       "2214.0              26\n",
       "5358.0              56\n",
       "20540.0             19\n",
       "23953.0             83\n",
       "33984.0             61\n",
       "...                ...\n",
       "9982667.0           56\n",
       "9986583.0           25\n",
       "9988743.0           14\n",
       "9991983.0           22\n",
       "9999493.0           50\n",
       "\n",
       "[3062 rows x 1 columns]"
      ]
     },
     "execution_count": 196,
     "metadata": {},
     "output_type": "execute_result"
    }
   ],
   "source": [
    "# GID 별 펀드 종류 개수 변수 생성\n",
    "fund_cd_num = data.loc[:, ['gid', 'fund_cd', 'fund_stle_cd']].drop_duplicates(['gid', 'fund_cd', 'fund_stle_cd'])\n",
    "fund_cd_num = fund_cd_num.groupby('gid').count().loc[:, ['fund_cd']]\n",
    "fund_cd_num.rename(columns = {'fund_cd' : 'fund_cd_num'}, inplace = True)\n",
    "fund_cd_num"
   ]
  },
  {
   "cell_type": "markdown",
   "metadata": {
    "id": "8JOOSngROpXt"
   },
   "source": [
    "- 그룹ID별로 거래한 펀드의 스타일코드 종류의 유니크 개수"
   ]
  },
  {
   "cell_type": "code",
   "execution_count": 197,
   "metadata": {
    "colab": {
     "base_uri": "https://localhost:8080/",
     "height": 0
    },
    "executionInfo": {
     "elapsed": 8,
     "status": "ok",
     "timestamp": 1632918613070,
     "user": {
      "displayName": "성균관대이지연",
      "photoUrl": "https://lh3.googleusercontent.com/a/default-user=s64",
      "userId": "06932829462441791260"
     },
     "user_tz": -540
    },
    "id": "Ay6JTHYJ7Drb",
    "outputId": "d08113cb-b3a6-4d53-d7ad-61c1438c6300"
   },
   "outputs": [
    {
     "data": {
      "text/html": [
       "<div>\n",
       "<style scoped>\n",
       "    .dataframe tbody tr th:only-of-type {\n",
       "        vertical-align: middle;\n",
       "    }\n",
       "\n",
       "    .dataframe tbody tr th {\n",
       "        vertical-align: top;\n",
       "    }\n",
       "\n",
       "    .dataframe thead th {\n",
       "        text-align: right;\n",
       "    }\n",
       "</style>\n",
       "<table border=\"1\" class=\"dataframe\">\n",
       "  <thead>\n",
       "    <tr style=\"text-align: right;\">\n",
       "      <th></th>\n",
       "      <th>fund_stle_num</th>\n",
       "    </tr>\n",
       "    <tr>\n",
       "      <th>gid</th>\n",
       "      <th></th>\n",
       "    </tr>\n",
       "  </thead>\n",
       "  <tbody>\n",
       "    <tr>\n",
       "      <th>2214.0</th>\n",
       "      <td>11</td>\n",
       "    </tr>\n",
       "    <tr>\n",
       "      <th>5358.0</th>\n",
       "      <td>17</td>\n",
       "    </tr>\n",
       "    <tr>\n",
       "      <th>20540.0</th>\n",
       "      <td>8</td>\n",
       "    </tr>\n",
       "    <tr>\n",
       "      <th>23953.0</th>\n",
       "      <td>16</td>\n",
       "    </tr>\n",
       "    <tr>\n",
       "      <th>33984.0</th>\n",
       "      <td>15</td>\n",
       "    </tr>\n",
       "    <tr>\n",
       "      <th>...</th>\n",
       "      <td>...</td>\n",
       "    </tr>\n",
       "    <tr>\n",
       "      <th>9982667.0</th>\n",
       "      <td>17</td>\n",
       "    </tr>\n",
       "    <tr>\n",
       "      <th>9986583.0</th>\n",
       "      <td>15</td>\n",
       "    </tr>\n",
       "    <tr>\n",
       "      <th>9988743.0</th>\n",
       "      <td>9</td>\n",
       "    </tr>\n",
       "    <tr>\n",
       "      <th>9991983.0</th>\n",
       "      <td>11</td>\n",
       "    </tr>\n",
       "    <tr>\n",
       "      <th>9999493.0</th>\n",
       "      <td>16</td>\n",
       "    </tr>\n",
       "  </tbody>\n",
       "</table>\n",
       "<p>3062 rows × 1 columns</p>\n",
       "</div>"
      ],
      "text/plain": [
       "           fund_stle_num\n",
       "gid                     \n",
       "2214.0                11\n",
       "5358.0                17\n",
       "20540.0                8\n",
       "23953.0               16\n",
       "33984.0               15\n",
       "...                  ...\n",
       "9982667.0             17\n",
       "9986583.0             15\n",
       "9988743.0              9\n",
       "9991983.0             11\n",
       "9999493.0             16\n",
       "\n",
       "[3062 rows x 1 columns]"
      ]
     },
     "execution_count": 197,
     "metadata": {},
     "output_type": "execute_result"
    }
   ],
   "source": [
    "# GID별 펀드 스타일코드 개수 변수 생성\n",
    "fund_stle_num = data.loc[:, ['gid', 'fund_stle_cd']].drop_duplicates(['gid', 'fund_stle_cd'])\n",
    "fund_stle_num = fund_stle_num.groupby('gid').count()\n",
    "fund_stle_num.rename(columns = {'fund_stle_cd' : 'fund_stle_num'}, inplace = True)\n",
    "fund_stle_num"
   ]
  },
  {
   "cell_type": "code",
   "execution_count": 198,
   "metadata": {
    "executionInfo": {
     "elapsed": 3486,
     "status": "ok",
     "timestamp": 1632918616549,
     "user": {
      "displayName": "성균관대이지연",
      "photoUrl": "https://lh3.googleusercontent.com/a/default-user=s64",
      "userId": "06932829462441791260"
     },
     "user_tz": -540
    },
    "id": "N2Rn4TKp7E4D"
   },
   "outputs": [],
   "source": [
    "# 데이터에 파생변수 병합\n",
    "data = pd.merge(data, fund_cd_num, left_on = 'gid', right_on = 'gid', how = 'left')\n",
    "data = pd.merge(data, fund_stle_num, left_on = 'gid', right_on = 'gid', how = 'left')"
   ]
  },
  {
   "cell_type": "markdown",
   "metadata": {
    "id": "LF-vTu6IOrHv"
   },
   "source": [
    "- 그룹별 거래한 펀드 중 주식형 펀드의 비율 "
   ]
  },
  {
   "cell_type": "code",
   "execution_count": 199,
   "metadata": {
    "colab": {
     "base_uri": "https://localhost:8080/",
     "height": 0
    },
    "executionInfo": {
     "elapsed": 1742,
     "status": "ok",
     "timestamp": 1632918618287,
     "user": {
      "displayName": "성균관대이지연",
      "photoUrl": "https://lh3.googleusercontent.com/a/default-user=s64",
      "userId": "06932829462441791260"
     },
     "user_tz": -540
    },
    "id": "FQbuoHkA59OE",
    "outputId": "f9209810-cf58-44e7-9d7c-92d3c64ee8cd"
   },
   "outputs": [
    {
     "data": {
      "text/html": [
       "<div>\n",
       "<style scoped>\n",
       "    .dataframe tbody tr th:only-of-type {\n",
       "        vertical-align: middle;\n",
       "    }\n",
       "\n",
       "    .dataframe tbody tr th {\n",
       "        vertical-align: top;\n",
       "    }\n",
       "\n",
       "    .dataframe thead th {\n",
       "        text-align: right;\n",
       "    }\n",
       "</style>\n",
       "<table border=\"1\" class=\"dataframe\">\n",
       "  <thead>\n",
       "    <tr style=\"text-align: right;\">\n",
       "      <th></th>\n",
       "      <th>gid</th>\n",
       "      <th>fund_ratio</th>\n",
       "    </tr>\n",
       "  </thead>\n",
       "  <tbody>\n",
       "    <tr>\n",
       "      <th>0</th>\n",
       "      <td>2214.0</td>\n",
       "      <td>0.153846</td>\n",
       "    </tr>\n",
       "    <tr>\n",
       "      <th>1</th>\n",
       "      <td>5358.0</td>\n",
       "      <td>0.195440</td>\n",
       "    </tr>\n",
       "    <tr>\n",
       "      <th>2</th>\n",
       "      <td>20540.0</td>\n",
       "      <td>0.473684</td>\n",
       "    </tr>\n",
       "    <tr>\n",
       "      <th>3</th>\n",
       "      <td>23953.0</td>\n",
       "      <td>0.161491</td>\n",
       "    </tr>\n",
       "    <tr>\n",
       "      <th>4</th>\n",
       "      <td>33984.0</td>\n",
       "      <td>0.225434</td>\n",
       "    </tr>\n",
       "  </tbody>\n",
       "</table>\n",
       "</div>"
      ],
      "text/plain": [
       "       gid  fund_ratio\n",
       "0   2214.0    0.153846\n",
       "1   5358.0    0.195440\n",
       "2  20540.0    0.473684\n",
       "3  23953.0    0.161491\n",
       "4  33984.0    0.225434"
      ]
     },
     "execution_count": 199,
     "metadata": {},
     "output_type": "execute_result"
    }
   ],
   "source": [
    "# 주식형 펀드 비율 변수 생성\n",
    "data['fund_diff_cd'] = np.where(data['fund_diff_cd'] == 2 | 3, 1, 0) # 주식형 또는 주식혼합형 펀드의 경우 1 변환\n",
    "fund_ratio =  data.groupby('gid').sum()/data.groupby('gid').count()\n",
    "fund_ratio = fund_ratio['fund_diff_cd']\n",
    "fund_ratio = fund_ratio.reset_index()\n",
    "fund_ratio.rename(columns = {'fund_diff_cd': 'fund_ratio'}, inplace = True)\n",
    "fund_ratio.head()"
   ]
  },
  {
   "cell_type": "code",
   "execution_count": 200,
   "metadata": {
    "colab": {
     "base_uri": "https://localhost:8080/",
     "height": 0
    },
    "executionInfo": {
     "elapsed": 2801,
     "status": "ok",
     "timestamp": 1632918621082,
     "user": {
      "displayName": "성균관대이지연",
      "photoUrl": "https://lh3.googleusercontent.com/a/default-user=s64",
      "userId": "06932829462441791260"
     },
     "user_tz": -540
    },
    "id": "CU2Nn6Fd6ksn",
    "outputId": "5527efd0-0be2-4f8e-80b3-ba7a00c6a402"
   },
   "outputs": [
    {
     "data": {
      "text/html": [
       "<div>\n",
       "<style scoped>\n",
       "    .dataframe tbody tr th:only-of-type {\n",
       "        vertical-align: middle;\n",
       "    }\n",
       "\n",
       "    .dataframe tbody tr th {\n",
       "        vertical-align: top;\n",
       "    }\n",
       "\n",
       "    .dataframe thead th {\n",
       "        text-align: right;\n",
       "    }\n",
       "</style>\n",
       "<table border=\"1\" class=\"dataframe\">\n",
       "  <thead>\n",
       "    <tr style=\"text-align: right;\">\n",
       "      <th></th>\n",
       "      <th>gid</th>\n",
       "      <th>base_ym</th>\n",
       "      <th>product_cd</th>\n",
       "      <th>age_cd</th>\n",
       "      <th>channel_cd</th>\n",
       "      <th>gender</th>\n",
       "      <th>job_cd</th>\n",
       "      <th>pay_prd</th>\n",
       "      <th>loan_yn</th>\n",
       "      <th>rider</th>\n",
       "      <th>rcpt_cd</th>\n",
       "      <th>cntr_cnt</th>\n",
       "      <th>signgu_cd</th>\n",
       "      <th>avg_jn_amt</th>\n",
       "      <th>avg_cssc</th>\n",
       "      <th>sum_fee_amt</th>\n",
       "      <th>avg_max_pay</th>\n",
       "      <th>avg_ch_cntr_cnt</th>\n",
       "      <th>cntr_no_cnt</th>\n",
       "      <th>fund_avg_income_ratio</th>\n",
       "      <th>fund_min_income_ratio</th>\n",
       "      <th>fund_1q_income_ratio</th>\n",
       "      <th>fund_med_income_ratio</th>\n",
       "      <th>fund_3q_income_ratio</th>\n",
       "      <th>fund_max_income_ratio</th>\n",
       "      <th>fund_cd</th>\n",
       "      <th>avg_ch_fund_ratio</th>\n",
       "      <th>avg_bs_fund_ratio</th>\n",
       "      <th>avg_add_fund_ratio</th>\n",
       "      <th>in_fund_cnt</th>\n",
       "      <th>sum_in_fund_amt</th>\n",
       "      <th>min_in_fund_amt</th>\n",
       "      <th>max_in_fund_amt</th>\n",
       "      <th>med_in_fund_amt</th>\n",
       "      <th>avg_in_fund_amt</th>\n",
       "      <th>sum_in_fund_atcnt</th>\n",
       "      <th>min_in_fund_atcnt</th>\n",
       "      <th>max_in_fund_atcnt</th>\n",
       "      <th>med_in_fund_atcnt</th>\n",
       "      <th>avg_in_fund_atcnt</th>\n",
       "      <th>wd_fund_cnt</th>\n",
       "      <th>sum_wd_fund_amt</th>\n",
       "      <th>min_wd_fund_amt</th>\n",
       "      <th>max_wd_fund_amt</th>\n",
       "      <th>med_wd_fund_amt</th>\n",
       "      <th>avg_wd_fund_amt</th>\n",
       "      <th>sum_wd_fund_atcnt</th>\n",
       "      <th>min_wd_fund_atcnt</th>\n",
       "      <th>max_wd_fund_atcnt</th>\n",
       "      <th>med_wd_fund_atcnt</th>\n",
       "      <th>avg_wd_fund_atcnt</th>\n",
       "      <th>fund_price</th>\n",
       "      <th>fund_nm</th>\n",
       "      <th>fund_set_dt</th>\n",
       "      <th>operation_rsk</th>\n",
       "      <th>operation_conm</th>\n",
       "      <th>fund_expln</th>\n",
       "      <th>stck_expln</th>\n",
       "      <th>finan_bond_expln</th>\n",
       "      <th>fund_aset_cd</th>\n",
       "      <th>fund_stle_cd</th>\n",
       "      <th>insur_as_fund_cd</th>\n",
       "      <th>fund_diff_cd</th>\n",
       "      <th>finan_bond_cd</th>\n",
       "      <th>feh_cd</th>\n",
       "      <th>fund_cd_num</th>\n",
       "      <th>fund_stle_num</th>\n",
       "      <th>fund_ratio</th>\n",
       "    </tr>\n",
       "  </thead>\n",
       "  <tbody>\n",
       "    <tr>\n",
       "      <th>0</th>\n",
       "      <td>7766143.0</td>\n",
       "      <td>2020-11</td>\n",
       "      <td>2</td>\n",
       "      <td>41_55</td>\n",
       "      <td>2</td>\n",
       "      <td>0</td>\n",
       "      <td>B</td>\n",
       "      <td>1</td>\n",
       "      <td>0</td>\n",
       "      <td>1</td>\n",
       "      <td>1</td>\n",
       "      <td>1</td>\n",
       "      <td>1</td>\n",
       "      <td>4467</td>\n",
       "      <td>500</td>\n",
       "      <td>655</td>\n",
       "      <td>75</td>\n",
       "      <td>11.0</td>\n",
       "      <td>15</td>\n",
       "      <td>17.54</td>\n",
       "      <td>2.56</td>\n",
       "      <td>7.5</td>\n",
       "      <td>16.0</td>\n",
       "      <td>21.0</td>\n",
       "      <td>45.63</td>\n",
       "      <td>N2C0</td>\n",
       "      <td>NaN</td>\n",
       "      <td>NaN</td>\n",
       "      <td>NaN</td>\n",
       "      <td>1</td>\n",
       "      <td>5.0</td>\n",
       "      <td>5.0</td>\n",
       "      <td>5.0</td>\n",
       "      <td>5.0</td>\n",
       "      <td>5.0</td>\n",
       "      <td>4.0</td>\n",
       "      <td>4.0</td>\n",
       "      <td>4.0</td>\n",
       "      <td>4.0</td>\n",
       "      <td>4.0</td>\n",
       "      <td>2</td>\n",
       "      <td>0.0</td>\n",
       "      <td>0.0</td>\n",
       "      <td>0.0</td>\n",
       "      <td>0.0</td>\n",
       "      <td>0.0</td>\n",
       "      <td>0.0</td>\n",
       "      <td>0.0</td>\n",
       "      <td>0.0</td>\n",
       "      <td>0.0</td>\n",
       "      <td>0.0</td>\n",
       "      <td>1313.65</td>\n",
       "      <td>아시아인프라</td>\n",
       "      <td>20080415</td>\n",
       "      <td>3</td>\n",
       "      <td>이스트스프링자산운용</td>\n",
       "      <td>자산의 60% 이상을 아시아 국가의 인프라관련 주식 및 아시아국가 인프라 주식을 주...</td>\n",
       "      <td>60% 이상을 아시아 각국의 인프라 산업과 관련된 주식 및 주식형 펀드</td>\n",
       "      <td>40% 이내에서 현예금(외화 현예금 포함), MMF 등을 포함한 유동성 자산</td>\n",
       "      <td>8</td>\n",
       "      <td>6</td>\n",
       "      <td>KLVL3400W15</td>\n",
       "      <td>0</td>\n",
       "      <td>2</td>\n",
       "      <td>2</td>\n",
       "      <td>31</td>\n",
       "      <td>15</td>\n",
       "      <td>0.052288</td>\n",
       "    </tr>\n",
       "    <tr>\n",
       "      <th>1</th>\n",
       "      <td>7766143.0</td>\n",
       "      <td>2020-03</td>\n",
       "      <td>2</td>\n",
       "      <td>41_55</td>\n",
       "      <td>2</td>\n",
       "      <td>0</td>\n",
       "      <td>B</td>\n",
       "      <td>1</td>\n",
       "      <td>0</td>\n",
       "      <td>1</td>\n",
       "      <td>1</td>\n",
       "      <td>1</td>\n",
       "      <td>1</td>\n",
       "      <td>4467</td>\n",
       "      <td>500</td>\n",
       "      <td>655</td>\n",
       "      <td>75</td>\n",
       "      <td>11.0</td>\n",
       "      <td>15</td>\n",
       "      <td>9.82</td>\n",
       "      <td>0.12</td>\n",
       "      <td>4.0</td>\n",
       "      <td>8.0</td>\n",
       "      <td>12.5</td>\n",
       "      <td>27.71</td>\n",
       "      <td>N5A0</td>\n",
       "      <td>NaN</td>\n",
       "      <td>NaN</td>\n",
       "      <td>NaN</td>\n",
       "      <td>0</td>\n",
       "      <td>NaN</td>\n",
       "      <td>NaN</td>\n",
       "      <td>NaN</td>\n",
       "      <td>NaN</td>\n",
       "      <td>NaN</td>\n",
       "      <td>NaN</td>\n",
       "      <td>NaN</td>\n",
       "      <td>NaN</td>\n",
       "      <td>NaN</td>\n",
       "      <td>NaN</td>\n",
       "      <td>3</td>\n",
       "      <td>0.0</td>\n",
       "      <td>0.0</td>\n",
       "      <td>0.0</td>\n",
       "      <td>0.0</td>\n",
       "      <td>0.0</td>\n",
       "      <td>0.0</td>\n",
       "      <td>0.0</td>\n",
       "      <td>0.0</td>\n",
       "      <td>0.0</td>\n",
       "      <td>0.0</td>\n",
       "      <td>1438.67</td>\n",
       "      <td>MMF형</td>\n",
       "      <td>20040607</td>\n",
       "      <td>5</td>\n",
       "      <td>KB자산운용</td>\n",
       "      <td>MMF형 펀드, 콜론 등의 단기유동성 금융자산에 90% 이상 투자</td>\n",
       "      <td>투자하지 않음</td>\n",
       "      <td>단기유동성 금융자산</td>\n",
       "      <td>4</td>\n",
       "      <td>9</td>\n",
       "      <td>KLVL3400V14</td>\n",
       "      <td>0</td>\n",
       "      <td>1</td>\n",
       "      <td>2</td>\n",
       "      <td>31</td>\n",
       "      <td>15</td>\n",
       "      <td>0.052288</td>\n",
       "    </tr>\n",
       "    <tr>\n",
       "      <th>2</th>\n",
       "      <td>7766143.0</td>\n",
       "      <td>2020-05</td>\n",
       "      <td>2</td>\n",
       "      <td>41_55</td>\n",
       "      <td>2</td>\n",
       "      <td>0</td>\n",
       "      <td>B</td>\n",
       "      <td>1</td>\n",
       "      <td>0</td>\n",
       "      <td>1</td>\n",
       "      <td>1</td>\n",
       "      <td>1</td>\n",
       "      <td>1</td>\n",
       "      <td>4467</td>\n",
       "      <td>500</td>\n",
       "      <td>655</td>\n",
       "      <td>75</td>\n",
       "      <td>11.0</td>\n",
       "      <td>15</td>\n",
       "      <td>5.70</td>\n",
       "      <td>-11.87</td>\n",
       "      <td>1.0</td>\n",
       "      <td>5.0</td>\n",
       "      <td>10.5</td>\n",
       "      <td>19.89</td>\n",
       "      <td>N1B0</td>\n",
       "      <td>NaN</td>\n",
       "      <td>NaN</td>\n",
       "      <td>NaN</td>\n",
       "      <td>1</td>\n",
       "      <td>11.0</td>\n",
       "      <td>11.0</td>\n",
       "      <td>11.0</td>\n",
       "      <td>11.0</td>\n",
       "      <td>11.0</td>\n",
       "      <td>5.0</td>\n",
       "      <td>5.0</td>\n",
       "      <td>5.0</td>\n",
       "      <td>5.0</td>\n",
       "      <td>5.0</td>\n",
       "      <td>3</td>\n",
       "      <td>0.0</td>\n",
       "      <td>0.0</td>\n",
       "      <td>0.0</td>\n",
       "      <td>0.0</td>\n",
       "      <td>0.0</td>\n",
       "      <td>0.0</td>\n",
       "      <td>0.0</td>\n",
       "      <td>0.0</td>\n",
       "      <td>0.0</td>\n",
       "      <td>0.0</td>\n",
       "      <td>2388.41</td>\n",
       "      <td>혼합형</td>\n",
       "      <td>20040607</td>\n",
       "      <td>3</td>\n",
       "      <td>교보악사자산운용</td>\n",
       "      <td>자산의 50%를 주식 및 주식형펀드, 50%를 채권 및 채권형펀드에 투자</td>\n",
       "      <td>50%를 주식 및 주식형 펀드, 20% 범위 내에서 증감이 가능</td>\n",
       "      <td>50%를 채권 및 채권형 펀드, 20% 범위 내에서 증감이 가능, 현예금, MMF ...</td>\n",
       "      <td>1</td>\n",
       "      <td>2</td>\n",
       "      <td>KLVL3400V12</td>\n",
       "      <td>1</td>\n",
       "      <td>2</td>\n",
       "      <td>2</td>\n",
       "      <td>31</td>\n",
       "      <td>15</td>\n",
       "      <td>0.052288</td>\n",
       "    </tr>\n",
       "  </tbody>\n",
       "</table>\n",
       "</div>"
      ],
      "text/plain": [
       "         gid  base_ym  product_cd  ... fund_cd_num  fund_stle_num  fund_ratio\n",
       "0  7766143.0  2020-11           2  ...          31             15    0.052288\n",
       "1  7766143.0  2020-03           2  ...          31             15    0.052288\n",
       "2  7766143.0  2020-05           2  ...          31             15    0.052288\n",
       "\n",
       "[3 rows x 68 columns]"
      ]
     },
     "execution_count": 200,
     "metadata": {},
     "output_type": "execute_result"
    }
   ],
   "source": [
    "# 데이터에 병합\n",
    "data = pd.merge(data, fund_ratio, how = 'left', left_on = 'gid', right_on = 'gid')\n",
    "data.head(3)"
   ]
  },
  {
   "cell_type": "markdown",
   "metadata": {
    "id": "v9na4825PsdF"
   },
   "source": [
    "### 2. 클러스터링"
   ]
  },
  {
   "cell_type": "markdown",
   "metadata": {
    "id": "G8sawdiimi6D"
   },
   "source": [
    "#### 클러스터 변수 선택\n",
    "고객 그룹을 유의미하게 구별할 수 있는 변수를 선택했습니다.\n",
    "\n",
    "- 데이터 간의 거리를 정확히 구할 수 있도록 범주형 변수를 제외하였고, 수익률은 펀드 특성상 큰 차이가 없다고 판단하여 제외했습니다.\n",
    "- 결측비율이 높은 변수도 제외했습니다."
   ]
  },
  {
   "cell_type": "code",
   "execution_count": 201,
   "metadata": {
    "executionInfo": {
     "elapsed": 6,
     "status": "ok",
     "timestamp": 1632918621082,
     "user": {
      "displayName": "성균관대이지연",
      "photoUrl": "https://lh3.googleusercontent.com/a/default-user=s64",
      "userId": "06932829462441791260"
     },
     "user_tz": -540
    },
    "id": "Pygew-aJtF0f"
   },
   "outputs": [],
   "source": [
    "# 투자 성향에 관련된 변수만 선택\n",
    "select_var = data.loc[:,['gid','cntr_cnt', 'avg_cssc','avg_ch_cntr_cnt', 'cntr_no_cnt','avg_max_pay','avg_jn_amt','sum_fee_amt','operation_rsk',\n",
    "           'avg_ch_fund_ratio','avg_bs_fund_ratio','avg_add_fund_ratio','in_fund_cnt','sum_in_fund_amt','avg_in_fund_amt','sum_in_fund_atcnt','avg_in_fund_atcnt',\n",
    "            'wd_fund_cnt','sum_wd_fund_amt','avg_wd_fund_amt','sum_wd_fund_atcnt','avg_wd_fund_atcnt', 'fund_cd', 'fund_ratio', 'fund_cd_num', 'fund_stle_num']]"
   ]
  },
  {
   "cell_type": "code",
   "execution_count": 202,
   "metadata": {
    "colab": {
     "base_uri": "https://localhost:8080/"
    },
    "executionInfo": {
     "elapsed": 916,
     "status": "ok",
     "timestamp": 1632918621993,
     "user": {
      "displayName": "성균관대이지연",
      "photoUrl": "https://lh3.googleusercontent.com/a/default-user=s64",
      "userId": "06932829462441791260"
     },
     "user_tz": -540
    },
    "id": "ocRPmjEEuif3",
    "outputId": "e9f5ac93-d5ec-422f-9b14-fe750012c2a2"
   },
   "outputs": [
    {
     "data": {
      "text/plain": [
       "gid                         0\n",
       "cntr_cnt                    0\n",
       "avg_cssc                    0\n",
       "avg_ch_cntr_cnt             0\n",
       "cntr_no_cnt                 0\n",
       "avg_max_pay                 0\n",
       "avg_jn_amt                  0\n",
       "sum_fee_amt                 0\n",
       "operation_rsk               0\n",
       "avg_ch_fund_ratio      976130\n",
       "avg_bs_fund_ratio      984645\n",
       "avg_add_fund_ratio    1043992\n",
       "in_fund_cnt                 0\n",
       "sum_in_fund_amt        276362\n",
       "avg_in_fund_amt        276362\n",
       "sum_in_fund_atcnt      276362\n",
       "avg_in_fund_atcnt      276362\n",
       "wd_fund_cnt                 0\n",
       "sum_wd_fund_amt         12635\n",
       "avg_wd_fund_amt         12635\n",
       "sum_wd_fund_atcnt       12635\n",
       "avg_wd_fund_atcnt       12635\n",
       "fund_cd                     0\n",
       "fund_ratio                  0\n",
       "fund_cd_num                 0\n",
       "fund_stle_num               0\n",
       "dtype: int64"
      ]
     },
     "execution_count": 202,
     "metadata": {},
     "output_type": "execute_result"
    }
   ],
   "source": [
    "# 결측치가 많은 변수 제외\n",
    "select_var.isnull().sum()"
   ]
  },
  {
   "cell_type": "code",
   "execution_count": 203,
   "metadata": {
    "executionInfo": {
     "elapsed": 5,
     "status": "ok",
     "timestamp": 1632918621995,
     "user": {
      "displayName": "성균관대이지연",
      "photoUrl": "https://lh3.googleusercontent.com/a/default-user=s64",
      "userId": "06932829462441791260"
     },
     "user_tz": -540
    },
    "id": "7Drl1O26upSU"
   },
   "outputs": [],
   "source": [
    "select_var = select_var[select_var.columns.difference(['avg_ch_fund_ratio','avg_bs_fund_ratio', 'avg_add_fund_ratio'])]"
   ]
  },
  {
   "cell_type": "code",
   "execution_count": 204,
   "metadata": {
    "colab": {
     "base_uri": "https://localhost:8080/",
     "height": 359
    },
    "executionInfo": {
     "elapsed": 2065,
     "status": "ok",
     "timestamp": 1632918624056,
     "user": {
      "displayName": "성균관대이지연",
      "photoUrl": "https://lh3.googleusercontent.com/a/default-user=s64",
      "userId": "06932829462441791260"
     },
     "user_tz": -540
    },
    "id": "EVLigMwJkiCZ",
    "outputId": "6ca921a2-f152-4ba2-f210-31e65680137b"
   },
   "outputs": [
    {
     "data": {
      "image/png": "[encoded data removed]",
      "text/plain": [
       "<Figure size 432x288 with 2 Axes>"
      ]
     },
     "metadata": {
      "needs_background": "light"
     },
     "output_type": "display_data"
    }
   ],
   "source": [
    "# 변수별 상관관계 plot\n",
    "corr = select_var[select_var.columns.difference(['gid'])].corr(method = 'pearson')\n",
    "df_heatmap = sns.heatmap(corr, cbar = True, square = True, cmap = 'Blues')"
   ]
  },
  {
   "cell_type": "markdown",
   "metadata": {
    "id": "aBksCqZcuRGF"
   },
   "source": [
    "상관관계가 커보이는 변수가 있어 보여서  정확한 상관계수를 확인했습니다."
   ]
  },
  {
   "cell_type": "code",
   "execution_count": 205,
   "metadata": {
    "colab": {
     "base_uri": "https://localhost:8080/",
     "height": 728
    },
    "executionInfo": {
     "elapsed": 16,
     "status": "ok",
     "timestamp": 1632918624057,
     "user": {
      "displayName": "성균관대이지연",
      "photoUrl": "https://lh3.googleusercontent.com/a/default-user=s64",
      "userId": "06932829462441791260"
     },
     "user_tz": -540
    },
    "id": "CHCUnHbNlXVQ",
    "outputId": "2992459c-e265-46bb-bf2d-1269e5cfc1ef"
   },
   "outputs": [
    {
     "data": {
      "text/html": [
       "<div>\n",
       "<style scoped>\n",
       "    .dataframe tbody tr th:only-of-type {\n",
       "        vertical-align: middle;\n",
       "    }\n",
       "\n",
       "    .dataframe tbody tr th {\n",
       "        vertical-align: top;\n",
       "    }\n",
       "\n",
       "    .dataframe thead th {\n",
       "        text-align: right;\n",
       "    }\n",
       "</style>\n",
       "<table border=\"1\" class=\"dataframe\">\n",
       "  <thead>\n",
       "    <tr style=\"text-align: right;\">\n",
       "      <th></th>\n",
       "      <th>avg_ch_cntr_cnt</th>\n",
       "      <th>avg_cssc</th>\n",
       "      <th>avg_in_fund_amt</th>\n",
       "      <th>avg_in_fund_atcnt</th>\n",
       "      <th>avg_jn_amt</th>\n",
       "      <th>avg_max_pay</th>\n",
       "      <th>avg_wd_fund_amt</th>\n",
       "      <th>avg_wd_fund_atcnt</th>\n",
       "      <th>cntr_cnt</th>\n",
       "      <th>cntr_no_cnt</th>\n",
       "      <th>fund_cd_num</th>\n",
       "      <th>fund_ratio</th>\n",
       "      <th>fund_stle_num</th>\n",
       "      <th>in_fund_cnt</th>\n",
       "      <th>operation_rsk</th>\n",
       "      <th>sum_fee_amt</th>\n",
       "      <th>sum_in_fund_amt</th>\n",
       "      <th>sum_in_fund_atcnt</th>\n",
       "      <th>sum_wd_fund_amt</th>\n",
       "      <th>sum_wd_fund_atcnt</th>\n",
       "      <th>wd_fund_cnt</th>\n",
       "    </tr>\n",
       "  </thead>\n",
       "  <tbody>\n",
       "    <tr>\n",
       "      <th>avg_ch_cntr_cnt</th>\n",
       "      <td>1.0</td>\n",
       "      <td>NaN</td>\n",
       "      <td>NaN</td>\n",
       "      <td>NaN</td>\n",
       "      <td>NaN</td>\n",
       "      <td>NaN</td>\n",
       "      <td>NaN</td>\n",
       "      <td>NaN</td>\n",
       "      <td>NaN</td>\n",
       "      <td>NaN</td>\n",
       "      <td>NaN</td>\n",
       "      <td>NaN</td>\n",
       "      <td>NaN</td>\n",
       "      <td>NaN</td>\n",
       "      <td>NaN</td>\n",
       "      <td>NaN</td>\n",
       "      <td>NaN</td>\n",
       "      <td>NaN</td>\n",
       "      <td>NaN</td>\n",
       "      <td>NaN</td>\n",
       "      <td>NaN</td>\n",
       "    </tr>\n",
       "    <tr>\n",
       "      <th>avg_cssc</th>\n",
       "      <td>NaN</td>\n",
       "      <td>1.0</td>\n",
       "      <td>NaN</td>\n",
       "      <td>NaN</td>\n",
       "      <td>NaN</td>\n",
       "      <td>NaN</td>\n",
       "      <td>NaN</td>\n",
       "      <td>NaN</td>\n",
       "      <td>NaN</td>\n",
       "      <td>NaN</td>\n",
       "      <td>NaN</td>\n",
       "      <td>NaN</td>\n",
       "      <td>NaN</td>\n",
       "      <td>NaN</td>\n",
       "      <td>NaN</td>\n",
       "      <td>NaN</td>\n",
       "      <td>NaN</td>\n",
       "      <td>NaN</td>\n",
       "      <td>NaN</td>\n",
       "      <td>NaN</td>\n",
       "      <td>NaN</td>\n",
       "    </tr>\n",
       "    <tr>\n",
       "      <th>avg_in_fund_amt</th>\n",
       "      <td>NaN</td>\n",
       "      <td>NaN</td>\n",
       "      <td>1.000000</td>\n",
       "      <td>0.965459</td>\n",
       "      <td>NaN</td>\n",
       "      <td>NaN</td>\n",
       "      <td>NaN</td>\n",
       "      <td>NaN</td>\n",
       "      <td>NaN</td>\n",
       "      <td>NaN</td>\n",
       "      <td>NaN</td>\n",
       "      <td>NaN</td>\n",
       "      <td>NaN</td>\n",
       "      <td>NaN</td>\n",
       "      <td>NaN</td>\n",
       "      <td>NaN</td>\n",
       "      <td>0.782560</td>\n",
       "      <td>0.817013</td>\n",
       "      <td>NaN</td>\n",
       "      <td>NaN</td>\n",
       "      <td>NaN</td>\n",
       "    </tr>\n",
       "    <tr>\n",
       "      <th>avg_in_fund_atcnt</th>\n",
       "      <td>NaN</td>\n",
       "      <td>NaN</td>\n",
       "      <td>0.965459</td>\n",
       "      <td>1.000000</td>\n",
       "      <td>NaN</td>\n",
       "      <td>NaN</td>\n",
       "      <td>NaN</td>\n",
       "      <td>NaN</td>\n",
       "      <td>NaN</td>\n",
       "      <td>NaN</td>\n",
       "      <td>NaN</td>\n",
       "      <td>NaN</td>\n",
       "      <td>NaN</td>\n",
       "      <td>NaN</td>\n",
       "      <td>NaN</td>\n",
       "      <td>NaN</td>\n",
       "      <td>0.721096</td>\n",
       "      <td>0.803871</td>\n",
       "      <td>NaN</td>\n",
       "      <td>NaN</td>\n",
       "      <td>NaN</td>\n",
       "    </tr>\n",
       "    <tr>\n",
       "      <th>avg_jn_amt</th>\n",
       "      <td>NaN</td>\n",
       "      <td>NaN</td>\n",
       "      <td>NaN</td>\n",
       "      <td>NaN</td>\n",
       "      <td>1.0</td>\n",
       "      <td>NaN</td>\n",
       "      <td>NaN</td>\n",
       "      <td>NaN</td>\n",
       "      <td>NaN</td>\n",
       "      <td>NaN</td>\n",
       "      <td>NaN</td>\n",
       "      <td>NaN</td>\n",
       "      <td>NaN</td>\n",
       "      <td>NaN</td>\n",
       "      <td>NaN</td>\n",
       "      <td>NaN</td>\n",
       "      <td>NaN</td>\n",
       "      <td>NaN</td>\n",
       "      <td>NaN</td>\n",
       "      <td>NaN</td>\n",
       "      <td>NaN</td>\n",
       "    </tr>\n",
       "    <tr>\n",
       "      <th>avg_max_pay</th>\n",
       "      <td>NaN</td>\n",
       "      <td>NaN</td>\n",
       "      <td>NaN</td>\n",
       "      <td>NaN</td>\n",
       "      <td>NaN</td>\n",
       "      <td>1.0</td>\n",
       "      <td>NaN</td>\n",
       "      <td>NaN</td>\n",
       "      <td>NaN</td>\n",
       "      <td>NaN</td>\n",
       "      <td>NaN</td>\n",
       "      <td>NaN</td>\n",
       "      <td>NaN</td>\n",
       "      <td>NaN</td>\n",
       "      <td>NaN</td>\n",
       "      <td>NaN</td>\n",
       "      <td>NaN</td>\n",
       "      <td>NaN</td>\n",
       "      <td>NaN</td>\n",
       "      <td>NaN</td>\n",
       "      <td>NaN</td>\n",
       "    </tr>\n",
       "    <tr>\n",
       "      <th>avg_wd_fund_amt</th>\n",
       "      <td>NaN</td>\n",
       "      <td>NaN</td>\n",
       "      <td>NaN</td>\n",
       "      <td>NaN</td>\n",
       "      <td>NaN</td>\n",
       "      <td>NaN</td>\n",
       "      <td>1.000000</td>\n",
       "      <td>0.987893</td>\n",
       "      <td>NaN</td>\n",
       "      <td>NaN</td>\n",
       "      <td>NaN</td>\n",
       "      <td>NaN</td>\n",
       "      <td>NaN</td>\n",
       "      <td>NaN</td>\n",
       "      <td>NaN</td>\n",
       "      <td>NaN</td>\n",
       "      <td>NaN</td>\n",
       "      <td>NaN</td>\n",
       "      <td>0.776444</td>\n",
       "      <td>0.858153</td>\n",
       "      <td>NaN</td>\n",
       "    </tr>\n",
       "    <tr>\n",
       "      <th>avg_wd_fund_atcnt</th>\n",
       "      <td>NaN</td>\n",
       "      <td>NaN</td>\n",
       "      <td>NaN</td>\n",
       "      <td>NaN</td>\n",
       "      <td>NaN</td>\n",
       "      <td>NaN</td>\n",
       "      <td>0.987893</td>\n",
       "      <td>1.000000</td>\n",
       "      <td>NaN</td>\n",
       "      <td>NaN</td>\n",
       "      <td>NaN</td>\n",
       "      <td>NaN</td>\n",
       "      <td>NaN</td>\n",
       "      <td>NaN</td>\n",
       "      <td>NaN</td>\n",
       "      <td>NaN</td>\n",
       "      <td>NaN</td>\n",
       "      <td>NaN</td>\n",
       "      <td>0.786000</td>\n",
       "      <td>0.862178</td>\n",
       "      <td>NaN</td>\n",
       "    </tr>\n",
       "    <tr>\n",
       "      <th>cntr_cnt</th>\n",
       "      <td>NaN</td>\n",
       "      <td>NaN</td>\n",
       "      <td>NaN</td>\n",
       "      <td>NaN</td>\n",
       "      <td>NaN</td>\n",
       "      <td>NaN</td>\n",
       "      <td>NaN</td>\n",
       "      <td>NaN</td>\n",
       "      <td>1.0</td>\n",
       "      <td>NaN</td>\n",
       "      <td>NaN</td>\n",
       "      <td>NaN</td>\n",
       "      <td>NaN</td>\n",
       "      <td>NaN</td>\n",
       "      <td>NaN</td>\n",
       "      <td>NaN</td>\n",
       "      <td>NaN</td>\n",
       "      <td>NaN</td>\n",
       "      <td>NaN</td>\n",
       "      <td>NaN</td>\n",
       "      <td>NaN</td>\n",
       "    </tr>\n",
       "    <tr>\n",
       "      <th>cntr_no_cnt</th>\n",
       "      <td>NaN</td>\n",
       "      <td>NaN</td>\n",
       "      <td>NaN</td>\n",
       "      <td>NaN</td>\n",
       "      <td>NaN</td>\n",
       "      <td>NaN</td>\n",
       "      <td>NaN</td>\n",
       "      <td>NaN</td>\n",
       "      <td>NaN</td>\n",
       "      <td>1.000000</td>\n",
       "      <td>0.817207</td>\n",
       "      <td>NaN</td>\n",
       "      <td>NaN</td>\n",
       "      <td>NaN</td>\n",
       "      <td>NaN</td>\n",
       "      <td>NaN</td>\n",
       "      <td>NaN</td>\n",
       "      <td>NaN</td>\n",
       "      <td>NaN</td>\n",
       "      <td>NaN</td>\n",
       "      <td>NaN</td>\n",
       "    </tr>\n",
       "    <tr>\n",
       "      <th>fund_cd_num</th>\n",
       "      <td>NaN</td>\n",
       "      <td>NaN</td>\n",
       "      <td>NaN</td>\n",
       "      <td>NaN</td>\n",
       "      <td>NaN</td>\n",
       "      <td>NaN</td>\n",
       "      <td>NaN</td>\n",
       "      <td>NaN</td>\n",
       "      <td>NaN</td>\n",
       "      <td>0.817207</td>\n",
       "      <td>1.000000</td>\n",
       "      <td>NaN</td>\n",
       "      <td>0.822329</td>\n",
       "      <td>NaN</td>\n",
       "      <td>NaN</td>\n",
       "      <td>NaN</td>\n",
       "      <td>NaN</td>\n",
       "      <td>NaN</td>\n",
       "      <td>NaN</td>\n",
       "      <td>NaN</td>\n",
       "      <td>NaN</td>\n",
       "    </tr>\n",
       "    <tr>\n",
       "      <th>fund_ratio</th>\n",
       "      <td>NaN</td>\n",
       "      <td>NaN</td>\n",
       "      <td>NaN</td>\n",
       "      <td>NaN</td>\n",
       "      <td>NaN</td>\n",
       "      <td>NaN</td>\n",
       "      <td>NaN</td>\n",
       "      <td>NaN</td>\n",
       "      <td>NaN</td>\n",
       "      <td>NaN</td>\n",
       "      <td>NaN</td>\n",
       "      <td>1.0</td>\n",
       "      <td>NaN</td>\n",
       "      <td>NaN</td>\n",
       "      <td>NaN</td>\n",
       "      <td>NaN</td>\n",
       "      <td>NaN</td>\n",
       "      <td>NaN</td>\n",
       "      <td>NaN</td>\n",
       "      <td>NaN</td>\n",
       "      <td>NaN</td>\n",
       "    </tr>\n",
       "    <tr>\n",
       "      <th>fund_stle_num</th>\n",
       "      <td>NaN</td>\n",
       "      <td>NaN</td>\n",
       "      <td>NaN</td>\n",
       "      <td>NaN</td>\n",
       "      <td>NaN</td>\n",
       "      <td>NaN</td>\n",
       "      <td>NaN</td>\n",
       "      <td>NaN</td>\n",
       "      <td>NaN</td>\n",
       "      <td>NaN</td>\n",
       "      <td>0.822329</td>\n",
       "      <td>NaN</td>\n",
       "      <td>1.000000</td>\n",
       "      <td>NaN</td>\n",
       "      <td>NaN</td>\n",
       "      <td>NaN</td>\n",
       "      <td>NaN</td>\n",
       "      <td>NaN</td>\n",
       "      <td>NaN</td>\n",
       "      <td>NaN</td>\n",
       "      <td>NaN</td>\n",
       "    </tr>\n",
       "    <tr>\n",
       "      <th>in_fund_cnt</th>\n",
       "      <td>NaN</td>\n",
       "      <td>NaN</td>\n",
       "      <td>NaN</td>\n",
       "      <td>NaN</td>\n",
       "      <td>NaN</td>\n",
       "      <td>NaN</td>\n",
       "      <td>NaN</td>\n",
       "      <td>NaN</td>\n",
       "      <td>NaN</td>\n",
       "      <td>NaN</td>\n",
       "      <td>NaN</td>\n",
       "      <td>NaN</td>\n",
       "      <td>NaN</td>\n",
       "      <td>1.000000</td>\n",
       "      <td>NaN</td>\n",
       "      <td>NaN</td>\n",
       "      <td>NaN</td>\n",
       "      <td>NaN</td>\n",
       "      <td>NaN</td>\n",
       "      <td>NaN</td>\n",
       "      <td>0.830744</td>\n",
       "    </tr>\n",
       "    <tr>\n",
       "      <th>operation_rsk</th>\n",
       "      <td>NaN</td>\n",
       "      <td>NaN</td>\n",
       "      <td>NaN</td>\n",
       "      <td>NaN</td>\n",
       "      <td>NaN</td>\n",
       "      <td>NaN</td>\n",
       "      <td>NaN</td>\n",
       "      <td>NaN</td>\n",
       "      <td>NaN</td>\n",
       "      <td>NaN</td>\n",
       "      <td>NaN</td>\n",
       "      <td>NaN</td>\n",
       "      <td>NaN</td>\n",
       "      <td>NaN</td>\n",
       "      <td>1.0</td>\n",
       "      <td>NaN</td>\n",
       "      <td>NaN</td>\n",
       "      <td>NaN</td>\n",
       "      <td>NaN</td>\n",
       "      <td>NaN</td>\n",
       "      <td>NaN</td>\n",
       "    </tr>\n",
       "    <tr>\n",
       "      <th>sum_fee_amt</th>\n",
       "      <td>NaN</td>\n",
       "      <td>NaN</td>\n",
       "      <td>NaN</td>\n",
       "      <td>NaN</td>\n",
       "      <td>NaN</td>\n",
       "      <td>NaN</td>\n",
       "      <td>NaN</td>\n",
       "      <td>NaN</td>\n",
       "      <td>NaN</td>\n",
       "      <td>NaN</td>\n",
       "      <td>NaN</td>\n",
       "      <td>NaN</td>\n",
       "      <td>NaN</td>\n",
       "      <td>NaN</td>\n",
       "      <td>NaN</td>\n",
       "      <td>1.0</td>\n",
       "      <td>NaN</td>\n",
       "      <td>NaN</td>\n",
       "      <td>NaN</td>\n",
       "      <td>NaN</td>\n",
       "      <td>NaN</td>\n",
       "    </tr>\n",
       "    <tr>\n",
       "      <th>sum_in_fund_amt</th>\n",
       "      <td>NaN</td>\n",
       "      <td>NaN</td>\n",
       "      <td>0.782560</td>\n",
       "      <td>0.721096</td>\n",
       "      <td>NaN</td>\n",
       "      <td>NaN</td>\n",
       "      <td>NaN</td>\n",
       "      <td>NaN</td>\n",
       "      <td>NaN</td>\n",
       "      <td>NaN</td>\n",
       "      <td>NaN</td>\n",
       "      <td>NaN</td>\n",
       "      <td>NaN</td>\n",
       "      <td>NaN</td>\n",
       "      <td>NaN</td>\n",
       "      <td>NaN</td>\n",
       "      <td>1.000000</td>\n",
       "      <td>0.884472</td>\n",
       "      <td>NaN</td>\n",
       "      <td>NaN</td>\n",
       "      <td>NaN</td>\n",
       "    </tr>\n",
       "    <tr>\n",
       "      <th>sum_in_fund_atcnt</th>\n",
       "      <td>NaN</td>\n",
       "      <td>NaN</td>\n",
       "      <td>0.817013</td>\n",
       "      <td>0.803871</td>\n",
       "      <td>NaN</td>\n",
       "      <td>NaN</td>\n",
       "      <td>NaN</td>\n",
       "      <td>NaN</td>\n",
       "      <td>NaN</td>\n",
       "      <td>NaN</td>\n",
       "      <td>NaN</td>\n",
       "      <td>NaN</td>\n",
       "      <td>NaN</td>\n",
       "      <td>NaN</td>\n",
       "      <td>NaN</td>\n",
       "      <td>NaN</td>\n",
       "      <td>0.884472</td>\n",
       "      <td>1.000000</td>\n",
       "      <td>NaN</td>\n",
       "      <td>NaN</td>\n",
       "      <td>NaN</td>\n",
       "    </tr>\n",
       "    <tr>\n",
       "      <th>sum_wd_fund_amt</th>\n",
       "      <td>NaN</td>\n",
       "      <td>NaN</td>\n",
       "      <td>NaN</td>\n",
       "      <td>NaN</td>\n",
       "      <td>NaN</td>\n",
       "      <td>NaN</td>\n",
       "      <td>0.776444</td>\n",
       "      <td>0.786000</td>\n",
       "      <td>NaN</td>\n",
       "      <td>NaN</td>\n",
       "      <td>NaN</td>\n",
       "      <td>NaN</td>\n",
       "      <td>NaN</td>\n",
       "      <td>NaN</td>\n",
       "      <td>NaN</td>\n",
       "      <td>NaN</td>\n",
       "      <td>NaN</td>\n",
       "      <td>NaN</td>\n",
       "      <td>1.000000</td>\n",
       "      <td>0.823431</td>\n",
       "      <td>NaN</td>\n",
       "    </tr>\n",
       "    <tr>\n",
       "      <th>sum_wd_fund_atcnt</th>\n",
       "      <td>NaN</td>\n",
       "      <td>NaN</td>\n",
       "      <td>NaN</td>\n",
       "      <td>NaN</td>\n",
       "      <td>NaN</td>\n",
       "      <td>NaN</td>\n",
       "      <td>0.858153</td>\n",
       "      <td>0.862178</td>\n",
       "      <td>NaN</td>\n",
       "      <td>NaN</td>\n",
       "      <td>NaN</td>\n",
       "      <td>NaN</td>\n",
       "      <td>NaN</td>\n",
       "      <td>NaN</td>\n",
       "      <td>NaN</td>\n",
       "      <td>NaN</td>\n",
       "      <td>NaN</td>\n",
       "      <td>NaN</td>\n",
       "      <td>0.823431</td>\n",
       "      <td>1.000000</td>\n",
       "      <td>NaN</td>\n",
       "    </tr>\n",
       "    <tr>\n",
       "      <th>wd_fund_cnt</th>\n",
       "      <td>NaN</td>\n",
       "      <td>NaN</td>\n",
       "      <td>NaN</td>\n",
       "      <td>NaN</td>\n",
       "      <td>NaN</td>\n",
       "      <td>NaN</td>\n",
       "      <td>NaN</td>\n",
       "      <td>NaN</td>\n",
       "      <td>NaN</td>\n",
       "      <td>NaN</td>\n",
       "      <td>NaN</td>\n",
       "      <td>NaN</td>\n",
       "      <td>NaN</td>\n",
       "      <td>0.830744</td>\n",
       "      <td>NaN</td>\n",
       "      <td>NaN</td>\n",
       "      <td>NaN</td>\n",
       "      <td>NaN</td>\n",
       "      <td>NaN</td>\n",
       "      <td>NaN</td>\n",
       "      <td>1.000000</td>\n",
       "    </tr>\n",
       "  </tbody>\n",
       "</table>\n",
       "</div>"
      ],
      "text/plain": [
       "                   avg_ch_cntr_cnt  avg_cssc  ...  sum_wd_fund_atcnt  wd_fund_cnt\n",
       "avg_ch_cntr_cnt                1.0       NaN  ...                NaN          NaN\n",
       "avg_cssc                       NaN       1.0  ...                NaN          NaN\n",
       "avg_in_fund_amt                NaN       NaN  ...                NaN          NaN\n",
       "avg_in_fund_atcnt              NaN       NaN  ...                NaN          NaN\n",
       "avg_jn_amt                     NaN       NaN  ...                NaN          NaN\n",
       "avg_max_pay                    NaN       NaN  ...                NaN          NaN\n",
       "avg_wd_fund_amt                NaN       NaN  ...           0.858153          NaN\n",
       "avg_wd_fund_atcnt              NaN       NaN  ...           0.862178          NaN\n",
       "cntr_cnt                       NaN       NaN  ...                NaN          NaN\n",
       "cntr_no_cnt                    NaN       NaN  ...                NaN          NaN\n",
       "fund_cd_num                    NaN       NaN  ...                NaN          NaN\n",
       "fund_ratio                     NaN       NaN  ...                NaN          NaN\n",
       "fund_stle_num                  NaN       NaN  ...                NaN          NaN\n",
       "in_fund_cnt                    NaN       NaN  ...                NaN     0.830744\n",
       "operation_rsk                  NaN       NaN  ...                NaN          NaN\n",
       "sum_fee_amt                    NaN       NaN  ...                NaN          NaN\n",
       "sum_in_fund_amt                NaN       NaN  ...                NaN          NaN\n",
       "sum_in_fund_atcnt              NaN       NaN  ...                NaN          NaN\n",
       "sum_wd_fund_amt                NaN       NaN  ...           0.823431          NaN\n",
       "sum_wd_fund_atcnt              NaN       NaN  ...           1.000000          NaN\n",
       "wd_fund_cnt                    NaN       NaN  ...                NaN     1.000000\n",
       "\n",
       "[21 rows x 21 columns]"
      ]
     },
     "execution_count": 205,
     "metadata": {},
     "output_type": "execute_result"
    }
   ],
   "source": [
    "# 상관계수가 절댓값 0.7 이상인 변수들 추출\n",
    "corr[abs(corr) >= 0.7]"
   ]
  },
  {
   "cell_type": "markdown",
   "metadata": {
    "id": "M0TPpd9evP_L"
   },
   "source": [
    "상관계수가 높은 변수들을 살펴보면 크게 투입 관련 변수, 인출 관련 변수, 펀드 종류 개수 관련 변수, 금액 관련 변수로 볼 수 있다. 이를 반영할 수 있으면서 서로 상관성이 높지 않은 변수들로 '평균 편드 변경 건수', '펀드 종류 개수', '평균 가입금액'을 선택했습니다.\n",
    "  \n",
    "  또한 투자 성향을 가장 잘 보여줄 수 있는 것이 리스크 감수 측면이라고 판단해 이를 고려할 수 있는 '주식형 펀드 비율'을 추가로 선택하였습니다."
   ]
  },
  {
   "cell_type": "code",
   "execution_count": 206,
   "metadata": {
    "colab": {
     "base_uri": "https://localhost:8080/",
     "height": 143
    },
    "executionInfo": {
     "elapsed": 15,
     "status": "ok",
     "timestamp": 1632918624058,
     "user": {
      "displayName": "성균관대이지연",
      "photoUrl": "https://lh3.googleusercontent.com/a/default-user=s64",
      "userId": "06932829462441791260"
     },
     "user_tz": -540
    },
    "id": "NpgZNCB5npzc",
    "outputId": "053dbf8d-914e-418c-d3dd-0e7ca8c086f8"
   },
   "outputs": [
    {
     "data": {
      "text/html": [
       "<div>\n",
       "<style scoped>\n",
       "    .dataframe tbody tr th:only-of-type {\n",
       "        vertical-align: middle;\n",
       "    }\n",
       "\n",
       "    .dataframe tbody tr th {\n",
       "        vertical-align: top;\n",
       "    }\n",
       "\n",
       "    .dataframe thead th {\n",
       "        text-align: right;\n",
       "    }\n",
       "</style>\n",
       "<table border=\"1\" class=\"dataframe\">\n",
       "  <thead>\n",
       "    <tr style=\"text-align: right;\">\n",
       "      <th></th>\n",
       "      <th>gid</th>\n",
       "      <th>avg_ch_cntr_cnt</th>\n",
       "      <th>fund_cd_num</th>\n",
       "      <th>avg_jn_amt</th>\n",
       "      <th>fund_ratio</th>\n",
       "    </tr>\n",
       "  </thead>\n",
       "  <tbody>\n",
       "    <tr>\n",
       "      <th>0</th>\n",
       "      <td>2214.0</td>\n",
       "      <td>0.0</td>\n",
       "      <td>26</td>\n",
       "      <td>3163</td>\n",
       "      <td>0.153846</td>\n",
       "    </tr>\n",
       "    <tr>\n",
       "      <th>1</th>\n",
       "      <td>5358.0</td>\n",
       "      <td>4.0</td>\n",
       "      <td>56</td>\n",
       "      <td>2839</td>\n",
       "      <td>0.195440</td>\n",
       "    </tr>\n",
       "    <tr>\n",
       "      <th>2</th>\n",
       "      <td>20540.0</td>\n",
       "      <td>0.0</td>\n",
       "      <td>19</td>\n",
       "      <td>6123</td>\n",
       "      <td>0.473684</td>\n",
       "    </tr>\n",
       "  </tbody>\n",
       "</table>\n",
       "</div>"
      ],
      "text/plain": [
       "       gid  avg_ch_cntr_cnt  fund_cd_num  avg_jn_amt  fund_ratio\n",
       "0   2214.0              0.0           26        3163    0.153846\n",
       "1   5358.0              4.0           56        2839    0.195440\n",
       "2  20540.0              0.0           19        6123    0.473684"
      ]
     },
     "execution_count": 206,
     "metadata": {},
     "output_type": "execute_result"
    }
   ],
   "source": [
    "# 최종 변수 선택\n",
    "cluster_data = data.loc[:, ['gid', 'avg_ch_cntr_cnt', 'fund_cd_num', 'avg_jn_amt', 'fund_ratio']]\n",
    "cluster_data = cluster_data.groupby('gid').mean().reset_index()\n",
    "cluster_data.head(3)"
   ]
  },
  {
   "cell_type": "markdown",
   "metadata": {
    "id": "z85BDPxySQax"
   },
   "source": [
    "#### 변수 정규화\n",
    "클러스터링에 사용할 변수들을 MinMaxSclaler를 이용해 스케일링 해주었습니다. "
   ]
  },
  {
   "cell_type": "code",
   "execution_count": 207,
   "metadata": {
    "executionInfo": {
     "elapsed": 14,
     "status": "ok",
     "timestamp": 1632918624058,
     "user": {
      "displayName": "성균관대이지연",
      "photoUrl": "https://lh3.googleusercontent.com/a/default-user=s64",
      "userId": "06932829462441791260"
     },
     "user_tz": -540
    },
    "id": "wUOcuZV46mFf"
   },
   "outputs": [],
   "source": [
    "# 클러스터링을 위해 정규화\n",
    "result_cluster = cluster_data.copy()\n",
    "\n",
    "scaler = preprocessing.MinMaxScaler()\n",
    "result_cluster = scaler.fit_transform(result_cluster[result_cluster.columns.difference(['gid'])])"
   ]
  },
  {
   "cell_type": "code",
   "execution_count": 208,
   "metadata": {
    "colab": {
     "base_uri": "https://localhost:8080/",
     "height": 0
    },
    "executionInfo": {
     "elapsed": 14,
     "status": "ok",
     "timestamp": 1632918624059,
     "user": {
      "displayName": "성균관대이지연",
      "photoUrl": "https://lh3.googleusercontent.com/a/default-user=s64",
      "userId": "06932829462441791260"
     },
     "user_tz": -540
    },
    "id": "rHlUgKXG6oac",
    "outputId": "97ddface-c20d-47f4-f696-d0db3b53ba9a"
   },
   "outputs": [
    {
     "data": {
      "text/html": [
       "<div>\n",
       "<style scoped>\n",
       "    .dataframe tbody tr th:only-of-type {\n",
       "        vertical-align: middle;\n",
       "    }\n",
       "\n",
       "    .dataframe tbody tr th {\n",
       "        vertical-align: top;\n",
       "    }\n",
       "\n",
       "    .dataframe thead th {\n",
       "        text-align: right;\n",
       "    }\n",
       "</style>\n",
       "<table border=\"1\" class=\"dataframe\">\n",
       "  <thead>\n",
       "    <tr style=\"text-align: right;\">\n",
       "      <th></th>\n",
       "      <th>avg_ch_cntr_cnt</th>\n",
       "      <th>fund_cd_num</th>\n",
       "      <th>avg_jn_amt</th>\n",
       "      <th>fund_ratio</th>\n",
       "    </tr>\n",
       "  </thead>\n",
       "  <tbody>\n",
       "    <tr>\n",
       "      <th>0</th>\n",
       "      <td>0.0</td>\n",
       "      <td>0.040341</td>\n",
       "      <td>0.209524</td>\n",
       "      <td>0.153846</td>\n",
       "    </tr>\n",
       "    <tr>\n",
       "      <th>1</th>\n",
       "      <td>0.2</td>\n",
       "      <td>0.035611</td>\n",
       "      <td>0.495238</td>\n",
       "      <td>0.195440</td>\n",
       "    </tr>\n",
       "    <tr>\n",
       "      <th>2</th>\n",
       "      <td>0.0</td>\n",
       "      <td>0.083558</td>\n",
       "      <td>0.142857</td>\n",
       "      <td>0.473684</td>\n",
       "    </tr>\n",
       "  </tbody>\n",
       "</table>\n",
       "</div>"
      ],
      "text/plain": [
       "   avg_ch_cntr_cnt  fund_cd_num  avg_jn_amt  fund_ratio\n",
       "0              0.0     0.040341    0.209524    0.153846\n",
       "1              0.2     0.035611    0.495238    0.195440\n",
       "2              0.0     0.083558    0.142857    0.473684"
      ]
     },
     "execution_count": 208,
     "metadata": {},
     "output_type": "execute_result"
    }
   ],
   "source": [
    "result_cluster = pd.DataFrame(result_cluster, columns=['avg_ch_cntr_cnt', 'fund_cd_num', 'avg_jn_amt', 'fund_ratio'])\n",
    "result_cluster.head(3)"
   ]
  },
  {
   "cell_type": "markdown",
   "metadata": {
    "id": "_unk8_7gSfMm"
   },
   "source": [
    "#### 최적의 클러스터 개수 찾기\n",
    "WSS값과 Silhouette값을 고려하여 최적의 클러스터 개수를 4개로 결정했습니다."
   ]
  },
  {
   "cell_type": "code",
   "execution_count": 209,
   "metadata": {
    "executionInfo": {
     "elapsed": 14,
     "status": "ok",
     "timestamp": 1632918624059,
     "user": {
      "displayName": "성균관대이지연",
      "photoUrl": "https://lh3.googleusercontent.com/a/default-user=s64",
      "userId": "06932829462441791260"
     },
     "user_tz": -540
    },
    "id": "RdFjOb-D7P_N"
   },
   "outputs": [],
   "source": [
    "# elbow point를 알 수 있는 함수 구현\n",
    "\n",
    "def elbow(X):\n",
    "  sse = []\n",
    "  for i in range(1, 11):\n",
    "    km = KMeans(n_clusters = i, init = 'k-means++', random_state=0)\n",
    "    km.fit(X)\n",
    "    sse.append(km.inertia_)\n",
    "\n",
    "  plt.plot(range(1,11), sse, marker = 'o')\n",
    "  plt.xlabel('number of cluster')\n",
    "  plt.ylabel('SSE')\n",
    "  plt.show()"
   ]
  },
  {
   "cell_type": "code",
   "execution_count": 210,
   "metadata": {
    "colab": {
     "base_uri": "https://localhost:8080/",
     "height": 0
    },
    "executionInfo": {
     "elapsed": 1888,
     "status": "ok",
     "timestamp": 1632918625933,
     "user": {
      "displayName": "성균관대이지연",
      "photoUrl": "https://lh3.googleusercontent.com/a/default-user=s64",
      "userId": "06932829462441791260"
     },
     "user_tz": -540
    },
    "id": "9xf6WXWf6pxi",
    "outputId": "4808b219-d4e5-48b2-940e-d978a0ddf80d"
   },
   "outputs": [
    {
     "data": {
      "image/png": "[encoded data removed]",
      "text/plain": [
       "<Figure size 432x288 with 1 Axes>"
      ]
     },
     "metadata": {
      "needs_background": "light"
     },
     "output_type": "display_data"
    }
   ],
   "source": [
    "elbow(result_cluster)"
   ]
  },
  {
   "cell_type": "markdown",
   "metadata": {
    "id": "-tZhCz9Eycgg"
   },
   "source": [
    "scree plot에서 elbow point는 3으로 총 4개의 클러스터가 적절한 것으로 보입니다."
   ]
  },
  {
   "cell_type": "code",
   "execution_count": 211,
   "metadata": {
    "executionInfo": {
     "elapsed": 7,
     "status": "ok",
     "timestamp": 1632918625933,
     "user": {
      "displayName": "성균관대이지연",
      "photoUrl": "https://lh3.googleusercontent.com/a/default-user=s64",
      "userId": "06932829462441791260"
     },
     "user_tz": -540
    },
    "id": "sviCjMsT7XHu"
   },
   "outputs": [],
   "source": [
    "# 실루엣계수를 그래프로 알 수 있는 함수 구현\n",
    "\n",
    "def plotSilhouette(X, y_km):\n",
    "  cluster_labels = np.unique(y_km)\n",
    "  n_clusters = cluster_labels.shape[0]\n",
    "  silhouette_vals = silhouette_samples(X, y_km, metric = 'euclidean')\n",
    "  y_ax_lower, y_ax_upper = 0, 0\n",
    "  yticks = []\n",
    "\n",
    "  for i, c in enumerate(cluster_labels):\n",
    "    c_silhouette_vals = silhouette_vals[y_km == c]\n",
    "    c_silhouette_vals.sort()\n",
    "    y_ax_upper += len(c_silhouette_vals)\n",
    "    color = cm.jet(i/n_clusters)\n",
    "\n",
    "    plt.barh(range(y_ax_lower, y_ax_upper), c_silhouette_vals, height = 1.0, edgecolor = 'none', color = color)\n",
    "    yticks.append((y_ax_lower + y_ax_upper)/2)\n",
    "    y_ax_lower += len(c_silhouette_vals)\n",
    "\n",
    "  silhouette_avg = np.mean(silhouette_vals)\n",
    "  print(silhouette_avg)\n",
    "  plt.axvline(silhouette_avg, color = 'red', linestyle = '--')\n",
    "  plt.yticks(yticks, cluster_labels+1)\n",
    "  plt.ylabel('cluster')\n",
    "  plt.xlabel('Silhouette')\n",
    "  plt.show()"
   ]
  },
  {
   "cell_type": "code",
   "execution_count": 212,
   "metadata": {
    "colab": {
     "base_uri": "https://localhost:8080/",
     "height": 0
    },
    "executionInfo": {
     "elapsed": 39787,
     "status": "ok",
     "timestamp": 1632918665714,
     "user": {
      "displayName": "성균관대이지연",
      "photoUrl": "https://lh3.googleusercontent.com/a/default-user=s64",
      "userId": "06932829462441791260"
     },
     "user_tz": -540
    },
    "id": "7qGgOZox6rCH",
    "outputId": "6c41b09c-aabf-40f4-b5d4-0e03fc20fcb9"
   },
   "outputs": [
    {
     "name": "stdout",
     "output_type": "stream",
     "text": [
      "0.4009121394818261\n"
     ]
    },
    {
     "data": {
      "image/png": "[encoded data removed]",
      "text/plain": [
       "<Figure size 432x288 with 1 Axes>"
      ]
     },
     "metadata": {
      "needs_background": "light"
     },
     "output_type": "display_data"
    },
    {
     "name": "stdout",
     "output_type": "stream",
     "text": [
      "0.3783953577243336\n"
     ]
    },
    {
     "data": {
      "image/png": "[encoded data removed]",
      "text/plain": [
       "<Figure size 432x288 with 1 Axes>"
      ]
     },
     "metadata": {
      "needs_background": "light"
     },
     "output_type": "display_data"
    },
    {
     "name": "stdout",
     "output_type": "stream",
     "text": [
      "0.3388929624899666\n"
     ]
    },
    {
     "data": {
      "image/png": "[encoded data removed]",
      "text/plain": [
       "<Figure size 432x288 with 1 Axes>"
      ]
     },
     "metadata": {
      "needs_background": "light"
     },
     "output_type": "display_data"
    },
    {
     "name": "stdout",
     "output_type": "stream",
     "text": [
      "0.3379026150253755\n"
     ]
    },
    {
     "data": {
      "image/png": "[encoded data removed]",
      "text/plain": [
       "<Figure size 432x288 with 1 Axes>"
      ]
     },
     "metadata": {
      "needs_background": "light"
     },
     "output_type": "display_data"
    },
    {
     "name": "stdout",
     "output_type": "stream",
     "text": [
      "0.332146905492311\n"
     ]
    },
    {
     "data": {
      "image/png": "[encoded data removed]",
      "text/plain": [
       "<Figure size 432x288 with 1 Axes>"
      ]
     },
     "metadata": {
      "needs_background": "light"
     },
     "output_type": "display_data"
    },
    {
     "name": "stdout",
     "output_type": "stream",
     "text": [
      "0.33321313240815453\n"
     ]
    },
    {
     "data": {
      "image/png": "[encoded data removed]",
      "text/plain": [
       "<Figure size 432x288 with 1 Axes>"
      ]
     },
     "metadata": {
      "needs_background": "light"
     },
     "output_type": "display_data"
    }
   ],
   "source": [
    "for i in range(2, 8):\n",
    "    km = KMeans(n_clusters = i, init = 'k-means++', random_state=0)\n",
    "    y_km = km.fit_predict(result_cluster)\n",
    "    plotSilhouette(result_cluster, y_km)"
   ]
  },
  {
   "cell_type": "markdown",
   "metadata": {
    "id": "kwj-bXSEy6oK"
   },
   "source": [
    "클러스터가 개수가 적을수록 실루엣 계수가 더 크지만, 클러스터 크기 불균형과 SSE값을 고려하여 최종적으로 클러스터 개수를 4개로 결정했습니다."
   ]
  },
  {
   "cell_type": "markdown",
   "metadata": {
    "id": "BBrKOxZpTigL"
   },
   "source": [
    "#### K-means Clustering"
   ]
  },
  {
   "cell_type": "code",
   "execution_count": 213,
   "metadata": {
    "executionInfo": {
     "elapsed": 23,
     "status": "ok",
     "timestamp": 1632918665715,
     "user": {
      "displayName": "성균관대이지연",
      "photoUrl": "https://lh3.googleusercontent.com/a/default-user=s64",
      "userId": "06932829462441791260"
     },
     "user_tz": -540
    },
    "id": "v182iS7w6rc6"
   },
   "outputs": [],
   "source": [
    "# K-means clustering\n",
    "km = KMeans(n_clusters = 4, init = 'k-means++', random_state=0)\n",
    "y_km = km.fit_predict(result_cluster)"
   ]
  },
  {
   "cell_type": "code",
   "execution_count": 214,
   "metadata": {
    "colab": {
     "base_uri": "https://localhost:8080/",
     "height": 0
    },
    "executionInfo": {
     "elapsed": 11,
     "status": "ok",
     "timestamp": 1632918665715,
     "user": {
      "displayName": "성균관대이지연",
      "photoUrl": "https://lh3.googleusercontent.com/a/default-user=s64",
      "userId": "06932829462441791260"
     },
     "user_tz": -540
    },
    "id": "6Ga9RCwN6rir",
    "outputId": "db73857f-5278-4e0c-ed4a-ce199c639fd5"
   },
   "outputs": [
    {
     "data": {
      "text/html": [
       "<div>\n",
       "<style scoped>\n",
       "    .dataframe tbody tr th:only-of-type {\n",
       "        vertical-align: middle;\n",
       "    }\n",
       "\n",
       "    .dataframe tbody tr th {\n",
       "        vertical-align: top;\n",
       "    }\n",
       "\n",
       "    .dataframe thead th {\n",
       "        text-align: right;\n",
       "    }\n",
       "</style>\n",
       "<table border=\"1\" class=\"dataframe\">\n",
       "  <thead>\n",
       "    <tr style=\"text-align: right;\">\n",
       "      <th></th>\n",
       "      <th>gid</th>\n",
       "      <th>avg_ch_cntr_cnt</th>\n",
       "      <th>fund_cd_num</th>\n",
       "      <th>avg_jn_amt</th>\n",
       "      <th>fund_ratio</th>\n",
       "      <th>cluster</th>\n",
       "    </tr>\n",
       "  </thead>\n",
       "  <tbody>\n",
       "    <tr>\n",
       "      <th>0</th>\n",
       "      <td>2214.0</td>\n",
       "      <td>0.0</td>\n",
       "      <td>26</td>\n",
       "      <td>3163</td>\n",
       "      <td>0.153846</td>\n",
       "      <td>1</td>\n",
       "    </tr>\n",
       "    <tr>\n",
       "      <th>1</th>\n",
       "      <td>5358.0</td>\n",
       "      <td>4.0</td>\n",
       "      <td>56</td>\n",
       "      <td>2839</td>\n",
       "      <td>0.195440</td>\n",
       "      <td>2</td>\n",
       "    </tr>\n",
       "    <tr>\n",
       "      <th>2</th>\n",
       "      <td>20540.0</td>\n",
       "      <td>0.0</td>\n",
       "      <td>19</td>\n",
       "      <td>6123</td>\n",
       "      <td>0.473684</td>\n",
       "      <td>3</td>\n",
       "    </tr>\n",
       "    <tr>\n",
       "      <th>3</th>\n",
       "      <td>23953.0</td>\n",
       "      <td>2.0</td>\n",
       "      <td>83</td>\n",
       "      <td>2992</td>\n",
       "      <td>0.161491</td>\n",
       "      <td>2</td>\n",
       "    </tr>\n",
       "    <tr>\n",
       "      <th>4</th>\n",
       "      <td>33984.0</td>\n",
       "      <td>6.0</td>\n",
       "      <td>61</td>\n",
       "      <td>4340</td>\n",
       "      <td>0.225434</td>\n",
       "      <td>2</td>\n",
       "    </tr>\n",
       "    <tr>\n",
       "      <th>...</th>\n",
       "      <td>...</td>\n",
       "      <td>...</td>\n",
       "      <td>...</td>\n",
       "      <td>...</td>\n",
       "      <td>...</td>\n",
       "      <td>...</td>\n",
       "    </tr>\n",
       "    <tr>\n",
       "      <th>3057</th>\n",
       "      <td>9982667.0</td>\n",
       "      <td>13.0</td>\n",
       "      <td>56</td>\n",
       "      <td>1773</td>\n",
       "      <td>0.114726</td>\n",
       "      <td>0</td>\n",
       "    </tr>\n",
       "    <tr>\n",
       "      <th>3058</th>\n",
       "      <td>9986583.0</td>\n",
       "      <td>3.0</td>\n",
       "      <td>25</td>\n",
       "      <td>1679</td>\n",
       "      <td>0.127660</td>\n",
       "      <td>1</td>\n",
       "    </tr>\n",
       "    <tr>\n",
       "      <th>3059</th>\n",
       "      <td>9988743.0</td>\n",
       "      <td>0.0</td>\n",
       "      <td>14</td>\n",
       "      <td>1714</td>\n",
       "      <td>0.357143</td>\n",
       "      <td>3</td>\n",
       "    </tr>\n",
       "    <tr>\n",
       "      <th>3060</th>\n",
       "      <td>9991983.0</td>\n",
       "      <td>11.0</td>\n",
       "      <td>22</td>\n",
       "      <td>6715</td>\n",
       "      <td>0.063830</td>\n",
       "      <td>0</td>\n",
       "    </tr>\n",
       "    <tr>\n",
       "      <th>3061</th>\n",
       "      <td>9999493.0</td>\n",
       "      <td>4.0</td>\n",
       "      <td>50</td>\n",
       "      <td>1562</td>\n",
       "      <td>0.212766</td>\n",
       "      <td>2</td>\n",
       "    </tr>\n",
       "  </tbody>\n",
       "</table>\n",
       "<p>3062 rows × 6 columns</p>\n",
       "</div>"
      ],
      "text/plain": [
       "            gid  avg_ch_cntr_cnt  fund_cd_num  avg_jn_amt  fund_ratio  cluster\n",
       "0        2214.0              0.0           26        3163    0.153846        1\n",
       "1        5358.0              4.0           56        2839    0.195440        2\n",
       "2       20540.0              0.0           19        6123    0.473684        3\n",
       "3       23953.0              2.0           83        2992    0.161491        2\n",
       "4       33984.0              6.0           61        4340    0.225434        2\n",
       "...         ...              ...          ...         ...         ...      ...\n",
       "3057  9982667.0             13.0           56        1773    0.114726        0\n",
       "3058  9986583.0              3.0           25        1679    0.127660        1\n",
       "3059  9988743.0              0.0           14        1714    0.357143        3\n",
       "3060  9991983.0             11.0           22        6715    0.063830        0\n",
       "3061  9999493.0              4.0           50        1562    0.212766        2\n",
       "\n",
       "[3062 rows x 6 columns]"
      ]
     },
     "execution_count": 214,
     "metadata": {},
     "output_type": "execute_result"
    }
   ],
   "source": [
    "# cluster column 추가\n",
    "cluster_data['cluster'] = y_km\n",
    "cluster_data"
   ]
  },
  {
   "cell_type": "code",
   "execution_count": 215,
   "metadata": {
    "colab": {
     "base_uri": "https://localhost:8080/",
     "height": 0
    },
    "executionInfo": {
     "elapsed": 11,
     "status": "ok",
     "timestamp": 1632918665716,
     "user": {
      "displayName": "성균관대이지연",
      "photoUrl": "https://lh3.googleusercontent.com/a/default-user=s64",
      "userId": "06932829462441791260"
     },
     "user_tz": -540
    },
    "id": "rKMoPQOfzU8U",
    "outputId": "98d2790d-bdca-4331-cd80-50ee2f90523b"
   },
   "outputs": [
    {
     "data": {
      "text/html": [
       "<div>\n",
       "<style scoped>\n",
       "    .dataframe tbody tr th:only-of-type {\n",
       "        vertical-align: middle;\n",
       "    }\n",
       "\n",
       "    .dataframe tbody tr th {\n",
       "        vertical-align: top;\n",
       "    }\n",
       "\n",
       "    .dataframe thead th {\n",
       "        text-align: right;\n",
       "    }\n",
       "</style>\n",
       "<table border=\"1\" class=\"dataframe\">\n",
       "  <thead>\n",
       "    <tr style=\"text-align: right;\">\n",
       "      <th></th>\n",
       "      <th>gid</th>\n",
       "      <th>avg_ch_cntr_cnt</th>\n",
       "      <th>fund_cd_num</th>\n",
       "      <th>avg_jn_amt</th>\n",
       "      <th>fund_ratio</th>\n",
       "    </tr>\n",
       "    <tr>\n",
       "      <th>cluster</th>\n",
       "      <th></th>\n",
       "      <th></th>\n",
       "      <th></th>\n",
       "      <th></th>\n",
       "      <th></th>\n",
       "    </tr>\n",
       "  </thead>\n",
       "  <tbody>\n",
       "    <tr>\n",
       "      <th>0</th>\n",
       "      <td>520</td>\n",
       "      <td>520</td>\n",
       "      <td>520</td>\n",
       "      <td>520</td>\n",
       "      <td>520</td>\n",
       "    </tr>\n",
       "    <tr>\n",
       "      <th>1</th>\n",
       "      <td>997</td>\n",
       "      <td>997</td>\n",
       "      <td>997</td>\n",
       "      <td>997</td>\n",
       "      <td>997</td>\n",
       "    </tr>\n",
       "    <tr>\n",
       "      <th>2</th>\n",
       "      <td>723</td>\n",
       "      <td>723</td>\n",
       "      <td>723</td>\n",
       "      <td>723</td>\n",
       "      <td>723</td>\n",
       "    </tr>\n",
       "    <tr>\n",
       "      <th>3</th>\n",
       "      <td>822</td>\n",
       "      <td>822</td>\n",
       "      <td>822</td>\n",
       "      <td>822</td>\n",
       "      <td>822</td>\n",
       "    </tr>\n",
       "  </tbody>\n",
       "</table>\n",
       "</div>"
      ],
      "text/plain": [
       "         gid  avg_ch_cntr_cnt  fund_cd_num  avg_jn_amt  fund_ratio\n",
       "cluster                                                           \n",
       "0        520              520          520         520         520\n",
       "1        997              997          997         997         997\n",
       "2        723              723          723         723         723\n",
       "3        822              822          822         822         822"
      ]
     },
     "execution_count": 215,
     "metadata": {},
     "output_type": "execute_result"
    }
   ],
   "source": [
    "# 클러스터 크기\n",
    "cluster_data.groupby(['cluster']).count()"
   ]
  },
  {
   "cell_type": "code",
   "execution_count": 216,
   "metadata": {
    "colab": {
     "base_uri": "https://localhost:8080/",
     "height": 0
    },
    "executionInfo": {
     "elapsed": 10,
     "status": "ok",
     "timestamp": 1632918665716,
     "user": {
      "displayName": "성균관대이지연",
      "photoUrl": "https://lh3.googleusercontent.com/a/default-user=s64",
      "userId": "06932829462441791260"
     },
     "user_tz": -540
    },
    "id": "rTs3eOJEzgEt",
    "outputId": "cf5bc817-759b-4963-b8b2-d01a2ca27b1b"
   },
   "outputs": [
    {
     "data": {
      "text/html": [
       "<div>\n",
       "<style scoped>\n",
       "    .dataframe tbody tr th:only-of-type {\n",
       "        vertical-align: middle;\n",
       "    }\n",
       "\n",
       "    .dataframe tbody tr th {\n",
       "        vertical-align: top;\n",
       "    }\n",
       "\n",
       "    .dataframe thead th {\n",
       "        text-align: right;\n",
       "    }\n",
       "</style>\n",
       "<table border=\"1\" class=\"dataframe\">\n",
       "  <thead>\n",
       "    <tr style=\"text-align: right;\">\n",
       "      <th></th>\n",
       "      <th>avg_ch_cntr_cnt</th>\n",
       "      <th>fund_cd_num</th>\n",
       "      <th>avg_jn_amt</th>\n",
       "      <th>fund_ratio</th>\n",
       "    </tr>\n",
       "    <tr>\n",
       "      <th>cluster</th>\n",
       "      <th></th>\n",
       "      <th></th>\n",
       "      <th></th>\n",
       "      <th></th>\n",
       "    </tr>\n",
       "  </thead>\n",
       "  <tbody>\n",
       "    <tr>\n",
       "      <th>0</th>\n",
       "      <td>14.988462</td>\n",
       "      <td>34.042308</td>\n",
       "      <td>3456.238462</td>\n",
       "      <td>0.126371</td>\n",
       "    </tr>\n",
       "    <tr>\n",
       "      <th>1</th>\n",
       "      <td>3.656971</td>\n",
       "      <td>25.518556</td>\n",
       "      <td>4054.298897</td>\n",
       "      <td>0.120325</td>\n",
       "    </tr>\n",
       "    <tr>\n",
       "      <th>2</th>\n",
       "      <td>4.962656</td>\n",
       "      <td>64.799447</td>\n",
       "      <td>3045.154910</td>\n",
       "      <td>0.198285</td>\n",
       "    </tr>\n",
       "    <tr>\n",
       "      <th>3</th>\n",
       "      <td>1.682482</td>\n",
       "      <td>22.312652</td>\n",
       "      <td>3044.208029</td>\n",
       "      <td>0.386832</td>\n",
       "    </tr>\n",
       "  </tbody>\n",
       "</table>\n",
       "</div>"
      ],
      "text/plain": [
       "         avg_ch_cntr_cnt  fund_cd_num   avg_jn_amt  fund_ratio\n",
       "cluster                                                       \n",
       "0              14.988462    34.042308  3456.238462    0.126371\n",
       "1               3.656971    25.518556  4054.298897    0.120325\n",
       "2               4.962656    64.799447  3045.154910    0.198285\n",
       "3               1.682482    22.312652  3044.208029    0.386832"
      ]
     },
     "execution_count": 216,
     "metadata": {},
     "output_type": "execute_result"
    }
   ],
   "source": [
    "# 클러스터 평균값\n",
    "cluster_data.drop('gid', axis=1).groupby(['cluster']).mean()"
   ]
  },
  {
   "cell_type": "code",
   "execution_count": 217,
   "metadata": {
    "colab": {
     "base_uri": "https://localhost:8080/",
     "height": 0
    },
    "executionInfo": {
     "elapsed": 952,
     "status": "ok",
     "timestamp": 1632918666658,
     "user": {
      "displayName": "성균관대이지연",
      "photoUrl": "https://lh3.googleusercontent.com/a/default-user=s64",
      "userId": "06932829462441791260"
     },
     "user_tz": -540
    },
    "id": "4OLvNFnf_B0e",
    "outputId": "9187f012-d950-4dc5-8475-009899cfae96"
   },
   "outputs": [
    {
     "data": {
      "image/png": "[encoded data removed]",
      "text/plain": [
       "<Figure size 432x288 with 1 Axes>"
      ]
     },
     "metadata": {
      "needs_background": "light"
     },
     "output_type": "display_data"
    },
    {
     "data": {
      "image/png": "[encoded data removed]",
      "text/plain": [
       "<Figure size 432x288 with 1 Axes>"
      ]
     },
     "metadata": {
      "needs_background": "light"
     },
     "output_type": "display_data"
    },
    {
     "data": {
      "image/png": "[encoded data removed]",
      "text/plain": [
       "<Figure size 432x288 with 1 Axes>"
      ]
     },
     "metadata": {
      "needs_background": "light"
     },
     "output_type": "display_data"
    },
    {
     "data": {
      "image/png": "[encoded data removed]",
      "text/plain": [
       "<Figure size 432x288 with 1 Axes>"
      ]
     },
     "metadata": {
      "needs_background": "light"
     },
     "output_type": "display_data"
    }
   ],
   "source": [
    "# 클러스터별 평균값 시각화\n",
    "clusters_mean = cluster_data.groupby(['cluster']).mean()\n",
    "\n",
    "for c in range(clusters_mean.shape[1]-1):\n",
    "  plt.bar(clusters_mean.index, clusters_mean.iloc[:,c+1])\n",
    "  plt.title(\"{}\".format(clusters_mean.columns[c+1]))\n",
    "  plt.show()"
   ]
  },
  {
   "cell_type": "markdown",
   "metadata": {
    "id": "QCFexY1x0KgF"
   },
   "source": [
    "\n",
    "1. '클러스터 0'이 펀드 변경 건수가 압도적으로 높다.\n",
    "2. '클러스터 2'가 펀드 종류가 가장 다양하다.\n",
    "3. '클러스터 1'이 가입 금액이 가장 크다.\n",
    "4. '클러스터 3'이 주식형 펀드 비율이 압도적으로 높다."
   ]
  },
  {
   "cell_type": "markdown",
   "metadata": {
    "id": "BK8GdiAoBRs2"
   },
   "source": [
    "#### 클러스터 해석"
   ]
  },
  {
   "cell_type": "code",
   "execution_count": 218,
   "metadata": {
    "colab": {
     "base_uri": "https://localhost:8080/",
     "height": 0
    },
    "executionInfo": {
     "elapsed": 3523,
     "status": "ok",
     "timestamp": 1632918670177,
     "user": {
      "displayName": "성균관대이지연",
      "photoUrl": "https://lh3.googleusercontent.com/a/default-user=s64",
      "userId": "06932829462441791260"
     },
     "user_tz": -540
    },
    "id": "dIORibi8_UWY",
    "outputId": "03df9440-98fb-4eda-883f-86e2a71466ec"
   },
   "outputs": [
    {
     "data": {
      "text/html": [
       "<div>\n",
       "<style scoped>\n",
       "    .dataframe tbody tr th:only-of-type {\n",
       "        vertical-align: middle;\n",
       "    }\n",
       "\n",
       "    .dataframe tbody tr th {\n",
       "        vertical-align: top;\n",
       "    }\n",
       "\n",
       "    .dataframe thead th {\n",
       "        text-align: right;\n",
       "    }\n",
       "</style>\n",
       "<table border=\"1\" class=\"dataframe\">\n",
       "  <thead>\n",
       "    <tr style=\"text-align: right;\">\n",
       "      <th></th>\n",
       "      <th>gid</th>\n",
       "      <th>product_cd</th>\n",
       "      <th>channel_cd</th>\n",
       "      <th>gender</th>\n",
       "      <th>pay_prd</th>\n",
       "      <th>loan_yn</th>\n",
       "      <th>rider</th>\n",
       "      <th>rcpt_cd</th>\n",
       "      <th>cntr_cnt</th>\n",
       "      <th>signgu_cd</th>\n",
       "      <th>avg_jn_amt</th>\n",
       "      <th>avg_cssc</th>\n",
       "      <th>sum_fee_amt</th>\n",
       "      <th>avg_max_pay</th>\n",
       "      <th>avg_ch_cntr_cnt</th>\n",
       "      <th>cntr_no_cnt</th>\n",
       "      <th>fund_avg_income_ratio</th>\n",
       "      <th>fund_min_income_ratio</th>\n",
       "      <th>fund_1q_income_ratio</th>\n",
       "      <th>fund_med_income_ratio</th>\n",
       "      <th>fund_3q_income_ratio</th>\n",
       "      <th>fund_max_income_ratio</th>\n",
       "      <th>avg_ch_fund_ratio</th>\n",
       "      <th>avg_bs_fund_ratio</th>\n",
       "      <th>avg_add_fund_ratio</th>\n",
       "      <th>in_fund_cnt</th>\n",
       "      <th>sum_in_fund_amt</th>\n",
       "      <th>min_in_fund_amt</th>\n",
       "      <th>max_in_fund_amt</th>\n",
       "      <th>med_in_fund_amt</th>\n",
       "      <th>avg_in_fund_amt</th>\n",
       "      <th>sum_in_fund_atcnt</th>\n",
       "      <th>min_in_fund_atcnt</th>\n",
       "      <th>max_in_fund_atcnt</th>\n",
       "      <th>med_in_fund_atcnt</th>\n",
       "      <th>avg_in_fund_atcnt</th>\n",
       "      <th>wd_fund_cnt</th>\n",
       "      <th>sum_wd_fund_amt</th>\n",
       "      <th>min_wd_fund_amt</th>\n",
       "      <th>max_wd_fund_amt</th>\n",
       "      <th>med_wd_fund_amt</th>\n",
       "      <th>avg_wd_fund_amt</th>\n",
       "      <th>sum_wd_fund_atcnt</th>\n",
       "      <th>min_wd_fund_atcnt</th>\n",
       "      <th>max_wd_fund_atcnt</th>\n",
       "      <th>med_wd_fund_atcnt</th>\n",
       "      <th>avg_wd_fund_atcnt</th>\n",
       "      <th>fund_price</th>\n",
       "      <th>fund_set_dt</th>\n",
       "      <th>operation_rsk</th>\n",
       "      <th>fund_aset_cd</th>\n",
       "      <th>fund_stle_cd</th>\n",
       "      <th>fund_diff_cd</th>\n",
       "      <th>finan_bond_cd</th>\n",
       "      <th>feh_cd</th>\n",
       "      <th>fund_cd_num</th>\n",
       "      <th>fund_stle_num</th>\n",
       "      <th>fund_ratio</th>\n",
       "    </tr>\n",
       "    <tr>\n",
       "      <th>cluster</th>\n",
       "      <th></th>\n",
       "      <th></th>\n",
       "      <th></th>\n",
       "      <th></th>\n",
       "      <th></th>\n",
       "      <th></th>\n",
       "      <th></th>\n",
       "      <th></th>\n",
       "      <th></th>\n",
       "      <th></th>\n",
       "      <th></th>\n",
       "      <th></th>\n",
       "      <th></th>\n",
       "      <th></th>\n",
       "      <th></th>\n",
       "      <th></th>\n",
       "      <th></th>\n",
       "      <th></th>\n",
       "      <th></th>\n",
       "      <th></th>\n",
       "      <th></th>\n",
       "      <th></th>\n",
       "      <th></th>\n",
       "      <th></th>\n",
       "      <th></th>\n",
       "      <th></th>\n",
       "      <th></th>\n",
       "      <th></th>\n",
       "      <th></th>\n",
       "      <th></th>\n",
       "      <th></th>\n",
       "      <th></th>\n",
       "      <th></th>\n",
       "      <th></th>\n",
       "      <th></th>\n",
       "      <th></th>\n",
       "      <th></th>\n",
       "      <th></th>\n",
       "      <th></th>\n",
       "      <th></th>\n",
       "      <th></th>\n",
       "      <th></th>\n",
       "      <th></th>\n",
       "      <th></th>\n",
       "      <th></th>\n",
       "      <th></th>\n",
       "      <th></th>\n",
       "      <th></th>\n",
       "      <th></th>\n",
       "      <th></th>\n",
       "      <th></th>\n",
       "      <th></th>\n",
       "      <th></th>\n",
       "      <th></th>\n",
       "      <th></th>\n",
       "      <th></th>\n",
       "      <th></th>\n",
       "      <th></th>\n",
       "    </tr>\n",
       "  </thead>\n",
       "  <tbody>\n",
       "    <tr>\n",
       "      <th>0</th>\n",
       "      <td>5.436591e+06</td>\n",
       "      <td>1.896663</td>\n",
       "      <td>1.446796</td>\n",
       "      <td>0.557806</td>\n",
       "      <td>0.639668</td>\n",
       "      <td>0.101934</td>\n",
       "      <td>0.293179</td>\n",
       "      <td>0.721094</td>\n",
       "      <td>2.678864</td>\n",
       "      <td>2.021498</td>\n",
       "      <td>3339.349294</td>\n",
       "      <td>1084.621205</td>\n",
       "      <td>1954.326700</td>\n",
       "      <td>53.520891</td>\n",
       "      <td>14.857792</td>\n",
       "      <td>35.565025</td>\n",
       "      <td>18.215775</td>\n",
       "      <td>-2.168998</td>\n",
       "      <td>9.093585</td>\n",
       "      <td>15.644224</td>\n",
       "      <td>23.950667</td>\n",
       "      <td>55.622174</td>\n",
       "      <td>23.211178</td>\n",
       "      <td>22.787692</td>\n",
       "      <td>24.544341</td>\n",
       "      <td>1.843796</td>\n",
       "      <td>116.156856</td>\n",
       "      <td>34.874307</td>\n",
       "      <td>81.743989</td>\n",
       "      <td>56.609319</td>\n",
       "      <td>58.353439</td>\n",
       "      <td>151.653681</td>\n",
       "      <td>8.532284</td>\n",
       "      <td>105.161115</td>\n",
       "      <td>22.192325</td>\n",
       "      <td>50.997120</td>\n",
       "      <td>7.326210</td>\n",
       "      <td>18.434052</td>\n",
       "      <td>1.804137</td>\n",
       "      <td>11.539869</td>\n",
       "      <td>2.478019</td>\n",
       "      <td>11.884642</td>\n",
       "      <td>79.316781</td>\n",
       "      <td>0.0</td>\n",
       "      <td>23.242014</td>\n",
       "      <td>0.0</td>\n",
       "      <td>6.940879</td>\n",
       "      <td>1647.481499</td>\n",
       "      <td>2.011274e+07</td>\n",
       "      <td>3.072156</td>\n",
       "      <td>6.606543</td>\n",
       "      <td>8.806987</td>\n",
       "      <td>0.124411</td>\n",
       "      <td>1.744060</td>\n",
       "      <td>1.628542</td>\n",
       "      <td>39.599011</td>\n",
       "      <td>14.737224</td>\n",
       "      <td>0.124411</td>\n",
       "    </tr>\n",
       "    <tr>\n",
       "      <th>1</th>\n",
       "      <td>4.893379e+06</td>\n",
       "      <td>1.770470</td>\n",
       "      <td>1.795278</td>\n",
       "      <td>0.550430</td>\n",
       "      <td>0.759701</td>\n",
       "      <td>0.180093</td>\n",
       "      <td>0.305102</td>\n",
       "      <td>0.760783</td>\n",
       "      <td>2.000620</td>\n",
       "      <td>2.111869</td>\n",
       "      <td>3880.173747</td>\n",
       "      <td>829.461917</td>\n",
       "      <td>2077.054234</td>\n",
       "      <td>60.039224</td>\n",
       "      <td>3.838060</td>\n",
       "      <td>24.964466</td>\n",
       "      <td>16.845438</td>\n",
       "      <td>-0.261774</td>\n",
       "      <td>8.605053</td>\n",
       "      <td>14.528225</td>\n",
       "      <td>21.800504</td>\n",
       "      <td>48.361589</td>\n",
       "      <td>27.964105</td>\n",
       "      <td>27.319231</td>\n",
       "      <td>30.625108</td>\n",
       "      <td>1.570426</td>\n",
       "      <td>63.020559</td>\n",
       "      <td>19.935313</td>\n",
       "      <td>43.648392</td>\n",
       "      <td>29.381716</td>\n",
       "      <td>31.115863</td>\n",
       "      <td>67.542995</td>\n",
       "      <td>6.879788</td>\n",
       "      <td>47.379326</td>\n",
       "      <td>13.746338</td>\n",
       "      <td>25.053398</td>\n",
       "      <td>5.957343</td>\n",
       "      <td>9.298029</td>\n",
       "      <td>0.769207</td>\n",
       "      <td>5.824210</td>\n",
       "      <td>1.037163</td>\n",
       "      <td>5.057688</td>\n",
       "      <td>30.924156</td>\n",
       "      <td>0.0</td>\n",
       "      <td>10.133488</td>\n",
       "      <td>0.0</td>\n",
       "      <td>2.944462</td>\n",
       "      <td>1661.091994</td>\n",
       "      <td>2.011037e+07</td>\n",
       "      <td>3.086987</td>\n",
       "      <td>6.483640</td>\n",
       "      <td>8.726911</td>\n",
       "      <td>0.124674</td>\n",
       "      <td>1.758013</td>\n",
       "      <td>1.610508</td>\n",
       "      <td>29.114976</td>\n",
       "      <td>12.775254</td>\n",
       "      <td>0.124674</td>\n",
       "    </tr>\n",
       "    <tr>\n",
       "      <th>2</th>\n",
       "      <td>4.898663e+06</td>\n",
       "      <td>1.528639</td>\n",
       "      <td>1.440721</td>\n",
       "      <td>0.636199</td>\n",
       "      <td>0.951073</td>\n",
       "      <td>0.088419</td>\n",
       "      <td>0.122377</td>\n",
       "      <td>0.946941</td>\n",
       "      <td>2.170472</td>\n",
       "      <td>2.152242</td>\n",
       "      <td>2995.321747</td>\n",
       "      <td>746.643463</td>\n",
       "      <td>8586.287156</td>\n",
       "      <td>85.118525</td>\n",
       "      <td>4.876075</td>\n",
       "      <td>179.844488</td>\n",
       "      <td>17.941247</td>\n",
       "      <td>-4.365202</td>\n",
       "      <td>9.808394</td>\n",
       "      <td>16.056565</td>\n",
       "      <td>23.179088</td>\n",
       "      <td>67.055024</td>\n",
       "      <td>25.679589</td>\n",
       "      <td>25.232429</td>\n",
       "      <td>27.685503</td>\n",
       "      <td>4.264599</td>\n",
       "      <td>107.629045</td>\n",
       "      <td>10.008367</td>\n",
       "      <td>64.246624</td>\n",
       "      <td>19.420129</td>\n",
       "      <td>31.254355</td>\n",
       "      <td>128.304767</td>\n",
       "      <td>4.188315</td>\n",
       "      <td>77.791831</td>\n",
       "      <td>9.919331</td>\n",
       "      <td>24.970765</td>\n",
       "      <td>12.239537</td>\n",
       "      <td>18.621468</td>\n",
       "      <td>0.509515</td>\n",
       "      <td>11.381136</td>\n",
       "      <td>0.746781</td>\n",
       "      <td>7.966764</td>\n",
       "      <td>76.302322</td>\n",
       "      <td>0.0</td>\n",
       "      <td>22.596583</td>\n",
       "      <td>0.0</td>\n",
       "      <td>4.776061</td>\n",
       "      <td>1577.039230</td>\n",
       "      <td>2.011035e+07</td>\n",
       "      <td>3.212810</td>\n",
       "      <td>6.365607</td>\n",
       "      <td>8.623391</td>\n",
       "      <td>0.195503</td>\n",
       "      <td>1.782327</td>\n",
       "      <td>1.536563</td>\n",
       "      <td>68.711190</td>\n",
       "      <td>16.493585</td>\n",
       "      <td>0.195503</td>\n",
       "    </tr>\n",
       "    <tr>\n",
       "      <th>3</th>\n",
       "      <td>5.015535e+06</td>\n",
       "      <td>1.277226</td>\n",
       "      <td>1.516002</td>\n",
       "      <td>0.563337</td>\n",
       "      <td>0.983677</td>\n",
       "      <td>0.231441</td>\n",
       "      <td>0.085903</td>\n",
       "      <td>0.930356</td>\n",
       "      <td>2.013208</td>\n",
       "      <td>2.089843</td>\n",
       "      <td>2992.901051</td>\n",
       "      <td>648.419805</td>\n",
       "      <td>857.641880</td>\n",
       "      <td>93.191779</td>\n",
       "      <td>1.741202</td>\n",
       "      <td>25.554476</td>\n",
       "      <td>19.392824</td>\n",
       "      <td>3.899122</td>\n",
       "      <td>11.706836</td>\n",
       "      <td>17.395250</td>\n",
       "      <td>24.249206</td>\n",
       "      <td>44.814429</td>\n",
       "      <td>29.626461</td>\n",
       "      <td>29.019011</td>\n",
       "      <td>32.889991</td>\n",
       "      <td>1.554044</td>\n",
       "      <td>38.155676</td>\n",
       "      <td>11.853273</td>\n",
       "      <td>26.650599</td>\n",
       "      <td>17.637501</td>\n",
       "      <td>19.509434</td>\n",
       "      <td>36.755694</td>\n",
       "      <td>5.688753</td>\n",
       "      <td>26.815960</td>\n",
       "      <td>9.355393</td>\n",
       "      <td>14.892326</td>\n",
       "      <td>4.668511</td>\n",
       "      <td>5.724745</td>\n",
       "      <td>0.494517</td>\n",
       "      <td>3.581052</td>\n",
       "      <td>0.827675</td>\n",
       "      <td>3.454720</td>\n",
       "      <td>18.968570</td>\n",
       "      <td>0.0</td>\n",
       "      <td>6.482543</td>\n",
       "      <td>0.0</td>\n",
       "      <td>1.996149</td>\n",
       "      <td>1654.538607</td>\n",
       "      <td>2.009948e+07</td>\n",
       "      <td>3.317535</td>\n",
       "      <td>5.994638</td>\n",
       "      <td>7.674625</td>\n",
       "      <td>0.364027</td>\n",
       "      <td>1.851307</td>\n",
       "      <td>1.429235</td>\n",
       "      <td>26.243981</td>\n",
       "      <td>10.771871</td>\n",
       "      <td>0.364027</td>\n",
       "    </tr>\n",
       "  </tbody>\n",
       "</table>\n",
       "</div>"
      ],
      "text/plain": [
       "                  gid  product_cd  ...  fund_stle_num  fund_ratio\n",
       "cluster                            ...                           \n",
       "0        5.436591e+06    1.896663  ...      14.737224    0.124411\n",
       "1        4.893379e+06    1.770470  ...      12.775254    0.124674\n",
       "2        4.898663e+06    1.528639  ...      16.493585    0.195503\n",
       "3        5.015535e+06    1.277226  ...      10.771871    0.364027\n",
       "\n",
       "[4 rows x 58 columns]"
      ]
     },
     "execution_count": 218,
     "metadata": {},
     "output_type": "execute_result"
    }
   ],
   "source": [
    "# 클러스터별 모든 변수 확인\n",
    "cluster_num = cluster_data.loc[:, ['gid', 'cluster']]\n",
    "data = pd.merge(data, cluster_num, how = 'left', left_on= 'gid', right_on = 'gid')\n",
    "data.groupby(['cluster']).mean()"
   ]
  },
  {
   "cell_type": "markdown",
   "metadata": {
    "id": "NymKMda-DXcj"
   },
   "source": [
    "__클러스터별 차이가 보이는 변수__  \n",
    "\n",
    "- avg_cssc(VIP 점수): '클러스터 0'이 압도적으로 높음.\n",
    "- sum_fee_amt(월납 보험료의 합계): '클러스터 2'가 압도적으로 높으며, '클러스터 3'이 눈에 띄게 작음.\n",
    "- avg_max_pay(최종 납입횟수의 평균): 클러스터 간의 단계적 차이 존재.\n",
    "- cntr_no_cnt(보험계약건수): '클러스터 2'가 압도적으로 높지만, 변수 특성상 사람이 많다면 클 수밖에 없기 때문에 절대적인 차이를 알 수 없어 고려하지 않음.\n",
    "- in_fund_cnt(투입 건수): '클러스터 2'가 눈에 띄게 많음.\n",
    "- sum_in_fund_amt: 투입 건수는 '클러스터 2'가 더 많지만, 투입 금액은 '클러스터 0'이 더 많은 걸 알 수 있음. 이는 '클러스터 0'이 한 번에 많은 금액을 투입한다는 것을 의미함.  \n",
    "- wd_fund_cnt(인출 건수): 인출 역시 투입과 비슷한 결과."
   ]
  },
  {
   "cell_type": "markdown",
   "metadata": {
    "id": "r-LR_dEH3JqV"
   },
   "source": [
    "이렇게 클러스터 간의 차이를 정리한 결과입니다.  \n",
    "- **클러스터 0**: MVIP(Mirae Asset VIP)형 => VIP 점수가 높으며 투입과 인출의 금액이 큰 소수의 집단\n",
    "- **클러스터 1**: 보험중심형 => 가장 안정적으로 투자하는, 보험을 보험답게 하는 집단\n",
    "- **클러스터 2**: 다다익선형 => 다양한 펀드에 투자하는 적극적인 집단\n",
    "- **클러스터 3**: 주식중심형 => 적은 금액이지만 가장 공격적인 투자를 하는 집단"
   ]
  },
  {
   "cell_type": "markdown",
   "metadata": {
    "id": "OwENnoajKgAB"
   },
   "source": [
    "#### 클러스터별 시계열 데이터  추이 비교\n"
   ]
  },
  {
   "cell_type": "code",
   "execution_count": 219,
   "metadata": {
    "executionInfo": {
     "elapsed": 400,
     "status": "ok",
     "timestamp": 1632918670571,
     "user": {
      "displayName": "성균관대이지연",
      "photoUrl": "https://lh3.googleusercontent.com/a/default-user=s64",
      "userId": "06932829462441791260"
     },
     "user_tz": -540
    },
    "id": "akbSv10oOhu0"
   },
   "outputs": [],
   "source": [
    "# 기준년월 데이터 날짜형으로 전환\n",
    "data['base_ym'] = pd.to_datetime(data['base_ym'])"
   ]
  },
  {
   "cell_type": "markdown",
   "metadata": {
    "id": "Mp1b-cy55vv0"
   },
   "source": [
    "- 수익률 추이"
   ]
  },
  {
   "cell_type": "code",
   "execution_count": 220,
   "metadata": {
    "colab": {
     "base_uri": "https://localhost:8080/",
     "height": 0
    },
    "executionInfo": {
     "elapsed": 14912,
     "status": "ok",
     "timestamp": 1632918685482,
     "user": {
      "displayName": "성균관대이지연",
      "photoUrl": "https://lh3.googleusercontent.com/a/default-user=s64",
      "userId": "06932829462441791260"
     },
     "user_tz": -540
    },
    "id": "gV1-vND4ChpJ",
    "outputId": "56aa1de0-54c4-4ee1-fbd6-63ebb265e8b1"
   },
   "outputs": [
    {
     "data": {
      "text/plain": [
       "<matplotlib.axes._subplots.AxesSubplot at 0x7f8815e0c0d0>"
      ]
     },
     "execution_count": 220,
     "metadata": {},
     "output_type": "execute_result"
    },
    {
     "data": {
      "image/png": "[encoded data removed]",
      "text/plain": [
       "<Figure size 432x288 with 1 Axes>"
      ]
     },
     "metadata": {
      "needs_background": "light"
     },
     "output_type": "display_data"
    }
   ],
   "source": [
    "# 클러스터별 수익률 중간값 추이\n",
    "sns.lineplot(x = \"base_ym\", y = \"fund_med_income_ratio\", hue = \"cluster\", data = data)"
   ]
  },
  {
   "cell_type": "code",
   "execution_count": 221,
   "metadata": {
    "colab": {
     "base_uri": "https://localhost:8080/",
     "height": 0
    },
    "executionInfo": {
     "elapsed": 14272,
     "status": "ok",
     "timestamp": 1632918699750,
     "user": {
      "displayName": "성균관대이지연",
      "photoUrl": "https://lh3.googleusercontent.com/a/default-user=s64",
      "userId": "06932829462441791260"
     },
     "user_tz": -540
    },
    "id": "OCFPWQJdMmA0",
    "outputId": "e8c4f26e-c024-464b-de6e-7d957e523135"
   },
   "outputs": [
    {
     "data": {
      "text/plain": [
       "<matplotlib.axes._subplots.AxesSubplot at 0x7f88287cafd0>"
      ]
     },
     "execution_count": 221,
     "metadata": {},
     "output_type": "execute_result"
    },
    {
     "data": {
      "image/png": "[encoded data removed]",
      "text/plain": [
       "<Figure size 432x288 with 1 Axes>"
      ]
     },
     "metadata": {
      "needs_background": "light"
     },
     "output_type": "display_data"
    }
   ],
   "source": [
    "# 클러스터별 수익률 평균 추이\n",
    "sns.lineplot(x = \"base_ym\", y = \"fund_avg_income_ratio\", hue = \"cluster\", data = data)"
   ]
  },
  {
   "cell_type": "code",
   "execution_count": 222,
   "metadata": {
    "colab": {
     "base_uri": "https://localhost:8080/",
     "height": 0
    },
    "executionInfo": {
     "elapsed": 14361,
     "status": "ok",
     "timestamp": 1632918714099,
     "user": {
      "displayName": "성균관대이지연",
      "photoUrl": "https://lh3.googleusercontent.com/a/default-user=s64",
      "userId": "06932829462441791260"
     },
     "user_tz": -540
    },
    "id": "EnPgPAO60zpu",
    "outputId": "b0a0b913-096a-447e-cc67-e221aded60f8"
   },
   "outputs": [
    {
     "data": {
      "text/plain": [
       "<matplotlib.axes._subplots.AxesSubplot at 0x7f8815e86890>"
      ]
     },
     "execution_count": 222,
     "metadata": {},
     "output_type": "execute_result"
    },
    {
     "data": {
      "image/png": "[encoded data removed]",
      "text/plain": [
       "<Figure size 432x288 with 1 Axes>"
      ]
     },
     "metadata": {
      "needs_background": "light"
     },
     "output_type": "display_data"
    }
   ],
   "source": [
    "# 클러스터별 수익률 최솟값 추이\n",
    "sns.lineplot(x = \"base_ym\", y = \"fund_min_income_ratio\", hue = \"cluster\", data = data)"
   ]
  },
  {
   "cell_type": "markdown",
   "metadata": {
    "id": "oDKJR8zAM1mv"
   },
   "source": [
    "수익률에서는 클러스터별로 수익률 추이가 비슷한 양상으로 나타납니다. "
   ]
  },
  {
   "cell_type": "markdown",
   "metadata": {
    "id": "VixzHjZD52kd"
   },
   "source": [
    "- 투입 관련 변수 추이"
   ]
  },
  {
   "cell_type": "code",
   "execution_count": 223,
   "metadata": {
    "colab": {
     "base_uri": "https://localhost:8080/",
     "height": 0
    },
    "executionInfo": {
     "elapsed": 14907,
     "status": "ok",
     "timestamp": 1632918728992,
     "user": {
      "displayName": "성균관대이지연",
      "photoUrl": "https://lh3.googleusercontent.com/a/default-user=s64",
      "userId": "06932829462441791260"
     },
     "user_tz": -540
    },
    "id": "P8P3cqtALRmw",
    "outputId": "26871ccb-10d1-44d9-8a73-4b7148ba45d5"
   },
   "outputs": [
    {
     "data": {
      "text/plain": [
       "<matplotlib.axes._subplots.AxesSubplot at 0x7f881a127350>"
      ]
     },
     "execution_count": 223,
     "metadata": {},
     "output_type": "execute_result"
    },
    {
     "data": {
      "image/png": "[encoded data removed]",
      "text/plain": [
       "<Figure size 432x288 with 1 Axes>"
      ]
     },
     "metadata": {
      "needs_background": "light"
     },
     "output_type": "display_data"
    }
   ],
   "source": [
    "# 클러스터별 투입건수 추이\n",
    "sns.lineplot(x = \"base_ym\", y = \"in_fund_cnt\", hue = \"cluster\", data = data)"
   ]
  },
  {
   "cell_type": "code",
   "execution_count": 224,
   "metadata": {
    "colab": {
     "base_uri": "https://localhost:8080/",
     "height": 0
    },
    "executionInfo": {
     "elapsed": 11837,
     "status": "ok",
     "timestamp": 1632918740824,
     "user": {
      "displayName": "성균관대이지연",
      "photoUrl": "https://lh3.googleusercontent.com/a/default-user=s64",
      "userId": "06932829462441791260"
     },
     "user_tz": -540
    },
    "id": "vNOmiV2aCn5H",
    "outputId": "cec3fa8f-8d07-4b81-e7f7-7b8d40c32902"
   },
   "outputs": [
    {
     "data": {
      "text/plain": [
       "<matplotlib.axes._subplots.AxesSubplot at 0x7f8816869890>"
      ]
     },
     "execution_count": 224,
     "metadata": {},
     "output_type": "execute_result"
    },
    {
     "data": {
      "image/png": "[encoded data removed]",
      "text/plain": [
       "<Figure size 432x288 with 1 Axes>"
      ]
     },
     "metadata": {
      "needs_background": "light"
     },
     "output_type": "display_data"
    }
   ],
   "source": [
    "# 클러스터별 투입금액합계 추이\n",
    "sns.lineplot(x = \"base_ym\", y = \"sum_in_fund_amt\", hue = \"cluster\", data = data)"
   ]
  },
  {
   "cell_type": "code",
   "execution_count": 225,
   "metadata": {
    "colab": {
     "base_uri": "https://localhost:8080/",
     "height": 0
    },
    "executionInfo": {
     "elapsed": 14243,
     "status": "ok",
     "timestamp": 1632918755054,
     "user": {
      "displayName": "성균관대이지연",
      "photoUrl": "https://lh3.googleusercontent.com/a/default-user=s64",
      "userId": "06932829462441791260"
     },
     "user_tz": -540
    },
    "id": "0tvfDoroNfr5",
    "outputId": "861e3212-18d7-41f2-b5d9-c474af7a27d3"
   },
   "outputs": [
    {
     "data": {
      "text/plain": [
       "<matplotlib.axes._subplots.AxesSubplot at 0x7f88611c2e10>"
      ]
     },
     "execution_count": 225,
     "metadata": {},
     "output_type": "execute_result"
    },
    {
     "data": {
      "image/png": "[encoded data removed]",
      "text/plain": [
       "<Figure size 432x288 with 1 Axes>"
      ]
     },
     "metadata": {
      "needs_background": "light"
     },
     "output_type": "display_data"
    }
   ],
   "source": [
    "# 클러스터별 투입금액평균 추이\n",
    "sns.lineplot(x = \"base_ym\", y = \"avg_in_fund_amt\", hue = \"cluster\", data = data)"
   ]
  },
  {
   "cell_type": "code",
   "execution_count": 226,
   "metadata": {
    "colab": {
     "base_uri": "https://localhost:8080/",
     "height": 0
    },
    "executionInfo": {
     "elapsed": 9250,
     "status": "ok",
     "timestamp": 1632918764301,
     "user": {
      "displayName": "성균관대이지연",
      "photoUrl": "https://lh3.googleusercontent.com/a/default-user=s64",
      "userId": "06932829462441791260"
     },
     "user_tz": -540
    },
    "id": "ITBYchO5NmsG",
    "outputId": "6296eb89-440a-4a53-9c04-1bf4ae398ab5"
   },
   "outputs": [
    {
     "data": {
      "text/plain": [
       "<matplotlib.axes._subplots.AxesSubplot at 0x7f8819c948d0>"
      ]
     },
     "execution_count": 226,
     "metadata": {},
     "output_type": "execute_result"
    },
    {
     "data": {
      "image/png": "[encoded data removed]",
      "text/plain": [
       "<Figure size 432x288 with 1 Axes>"
      ]
     },
     "metadata": {
      "needs_background": "light"
     },
     "output_type": "display_data"
    }
   ],
   "source": [
    "# 클러스터별 투입좌수평균 추이\n",
    "sns.lineplot(x = \"base_ym\", y = \"avg_in_fund_atcnt\", hue = \"cluster\", data = data)"
   ]
  },
  {
   "cell_type": "markdown",
   "metadata": {
    "id": "Uz9N1cS_QFzp"
   },
   "source": [
    "클러스터 간에 양상의 차이는 거의 없지만, '클러스터 0'이 금액 단위가 커 가장 변화폭이 뚜렷하게 나타나는 것을 확인할 수 있습니다."
   ]
  },
  {
   "cell_type": "markdown",
   "metadata": {
    "id": "nMBICDVT6Zxd"
   },
   "source": [
    "- 인출 관련 변수 추이"
   ]
  },
  {
   "cell_type": "code",
   "execution_count": 227,
   "metadata": {
    "colab": {
     "base_uri": "https://localhost:8080/",
     "height": 0
    },
    "executionInfo": {
     "elapsed": 14786,
     "status": "ok",
     "timestamp": 1632918779077,
     "user": {
      "displayName": "성균관대이지연",
      "photoUrl": "https://lh3.googleusercontent.com/a/default-user=s64",
      "userId": "06932829462441791260"
     },
     "user_tz": -540
    },
    "id": "FAzNG3V_N6Oc",
    "outputId": "8d0aecc9-9827-46a9-86d5-0fe7f40662d6"
   },
   "outputs": [
    {
     "data": {
      "text/plain": [
       "<matplotlib.axes._subplots.AxesSubplot at 0x7f8818c9edd0>"
      ]
     },
     "execution_count": 227,
     "metadata": {},
     "output_type": "execute_result"
    },
    {
     "data": {
      "image/png": "[encoded data removed]",
      "text/plain": [
       "<Figure size 432x288 with 1 Axes>"
      ]
     },
     "metadata": {
      "needs_background": "light"
     },
     "output_type": "display_data"
    }
   ],
   "source": [
    "# 클러스터별 인출이체건수 추이\n",
    "sns.lineplot(x = \"base_ym\", y = \"wd_fund_cnt\", hue = \"cluster\", data = data)"
   ]
  },
  {
   "cell_type": "code",
   "execution_count": 228,
   "metadata": {
    "colab": {
     "base_uri": "https://localhost:8080/",
     "height": 0
    },
    "executionInfo": {
     "elapsed": 14828,
     "status": "ok",
     "timestamp": 1632918793898,
     "user": {
      "displayName": "성균관대이지연",
      "photoUrl": "https://lh3.googleusercontent.com/a/default-user=s64",
      "userId": "06932829462441791260"
     },
     "user_tz": -540
    },
    "id": "yzVDO8pJOEjq",
    "outputId": "859967aa-8631-4477-b7a5-5d44193c7559"
   },
   "outputs": [
    {
     "data": {
      "text/plain": [
       "<matplotlib.axes._subplots.AxesSubplot at 0x7f88163c3050>"
      ]
     },
     "execution_count": 228,
     "metadata": {},
     "output_type": "execute_result"
    },
    {
     "data": {
      "image/png": "[encoded data removed]",
      "text/plain": [
       "<Figure size 432x288 with 1 Axes>"
      ]
     },
     "metadata": {
      "needs_background": "light"
     },
     "output_type": "display_data"
    }
   ],
   "source": [
    "# 클러스터별 인출금액합계 추이\n",
    "sns.lineplot(x = \"base_ym\", y = \"sum_wd_fund_amt\", hue = \"cluster\", data = data)"
   ]
  },
  {
   "cell_type": "code",
   "execution_count": 229,
   "metadata": {
    "colab": {
     "base_uri": "https://localhost:8080/",
     "height": 0
    },
    "executionInfo": {
     "elapsed": 39213,
     "status": "ok",
     "timestamp": 1632918833101,
     "user": {
      "displayName": "성균관대이지연",
      "photoUrl": "https://lh3.googleusercontent.com/a/default-user=s64",
      "userId": "06932829462441791260"
     },
     "user_tz": -540
    },
    "id": "M5UfnFHgPT1t",
    "outputId": "b5adf585-c36e-4ccf-9d08-460670e5d20b"
   },
   "outputs": [
    {
     "data": {
      "text/plain": [
       "<matplotlib.axes._subplots.AxesSubplot at 0x7f8818b32590>"
      ]
     },
     "execution_count": 229,
     "metadata": {},
     "output_type": "execute_result"
    },
    {
     "data": {
      "image/png": "[encoded data removed]",
      "text/plain": [
       "<Figure size 432x288 with 1 Axes>"
      ]
     },
     "metadata": {
      "needs_background": "light"
     },
     "output_type": "display_data"
    }
   ],
   "source": [
    "# 클러스터별 인출금액평균 추이\n",
    "sns.lineplot(x = \"base_ym\", y = \"avg_wd_fund_amt\", hue = \"cluster\", data = data)"
   ]
  },
  {
   "cell_type": "code",
   "execution_count": 230,
   "metadata": {
    "colab": {
     "base_uri": "https://localhost:8080/",
     "height": 0
    },
    "executionInfo": {
     "elapsed": 162,
     "status": "ok",
     "timestamp": 1632918833103,
     "user": {
      "displayName": "성균관대이지연",
      "photoUrl": "https://lh3.googleusercontent.com/a/default-user=s64",
      "userId": "06932829462441791260"
     },
     "user_tz": -540
    },
    "id": "QHmVCSH4PWpP",
    "outputId": "a73266d7-f623-46c7-bca6-2d31120238dc"
   },
   "outputs": [
    {
     "data": {
      "text/plain": [
       "<matplotlib.axes._subplots.AxesSubplot at 0x7f881f6144d0>"
      ]
     },
     "execution_count": 230,
     "metadata": {},
     "output_type": "execute_result"
    },
    {
     "data": {
      "image/png": "[encoded data removed]",
      "text/plain": [
       "<Figure size 432x288 with 1 Axes>"
      ]
     },
     "metadata": {
      "needs_background": "light"
     },
     "output_type": "display_data"
    }
   ],
   "source": [
    "# 클러스터별 인출좌수평균 추이\n",
    "sns.lineplot(x = \"base_ym\", y = \"avg_wd_fund_atcnt\", hue = \"cluster\", data = data)"
   ]
  },
  {
   "cell_type": "markdown",
   "metadata": {
    "id": "4acci799QTtE"
   },
   "source": [
    "투입과 비슷한 양상을 보인다."
   ]
  },
  {
   "cell_type": "markdown",
   "metadata": {
    "id": "0bFGKhoBQp_D"
   },
   "source": [
    "### 3. 클러스터별 선호 펀드 파악\n",
    "\n",
    "클러스터별로 가장 많이 거래한 펀드와 가장 많이 겹치는 펀드를 파악하여 선호하는 펀드를 파악하고자 했습니다."
   ]
  },
  {
   "cell_type": "markdown",
   "metadata": {
    "id": "th6ZMwCfTNvc"
   },
   "source": [
    "#### 최빈 거래 펀드\n",
    "클러스터별로 가장 많이 거래한 펀드를 확인하고 비교했습니다."
   ]
  },
  {
   "cell_type": "code",
   "execution_count": 231,
   "metadata": {
    "colab": {
     "base_uri": "https://localhost:8080/",
     "height": 0
    },
    "executionInfo": {
     "elapsed": 154,
     "status": "ok",
     "timestamp": 1632918833108,
     "user": {
      "displayName": "성균관대이지연",
      "photoUrl": "https://lh3.googleusercontent.com/a/default-user=s64",
      "userId": "06932829462441791260"
     },
     "user_tz": -540
    },
    "id": "z_aOnpKO2KRi",
    "outputId": "2bcaa31a-84e4-4cf0-9fa7-9d48ab1a9b3e"
   },
   "outputs": [
    {
     "data": {
      "text/html": [
       "<div>\n",
       "<style scoped>\n",
       "    .dataframe tbody tr th:only-of-type {\n",
       "        vertical-align: middle;\n",
       "    }\n",
       "\n",
       "    .dataframe tbody tr th {\n",
       "        vertical-align: top;\n",
       "    }\n",
       "\n",
       "    .dataframe thead th {\n",
       "        text-align: right;\n",
       "    }\n",
       "</style>\n",
       "<table border=\"1\" class=\"dataframe\">\n",
       "  <thead>\n",
       "    <tr style=\"text-align: right;\">\n",
       "      <th></th>\n",
       "      <th>gid</th>\n",
       "    </tr>\n",
       "    <tr>\n",
       "      <th>fund_cd</th>\n",
       "      <th></th>\n",
       "    </tr>\n",
       "  </thead>\n",
       "  <tbody>\n",
       "    <tr>\n",
       "      <th>N440</th>\n",
       "      <td>26507</td>\n",
       "    </tr>\n",
       "    <tr>\n",
       "      <th>N400</th>\n",
       "      <td>26067</td>\n",
       "    </tr>\n",
       "    <tr>\n",
       "      <th>N600</th>\n",
       "      <td>24904</td>\n",
       "    </tr>\n",
       "    <tr>\n",
       "      <th>N220</th>\n",
       "      <td>24106</td>\n",
       "    </tr>\n",
       "    <tr>\n",
       "      <th>N2E0</th>\n",
       "      <td>23599</td>\n",
       "    </tr>\n",
       "    <tr>\n",
       "      <th>N5B0</th>\n",
       "      <td>23306</td>\n",
       "    </tr>\n",
       "    <tr>\n",
       "      <th>N410</th>\n",
       "      <td>22706</td>\n",
       "    </tr>\n",
       "    <tr>\n",
       "      <th>N380</th>\n",
       "      <td>20654</td>\n",
       "    </tr>\n",
       "    <tr>\n",
       "      <th>N1A0</th>\n",
       "      <td>20608</td>\n",
       "    </tr>\n",
       "    <tr>\n",
       "      <th>N1E0</th>\n",
       "      <td>20207</td>\n",
       "    </tr>\n",
       "  </tbody>\n",
       "</table>\n",
       "</div>"
      ],
      "text/plain": [
       "           gid\n",
       "fund_cd       \n",
       "N440     26507\n",
       "N400     26067\n",
       "N600     24904\n",
       "N220     24106\n",
       "N2E0     23599\n",
       "N5B0     23306\n",
       "N410     22706\n",
       "N380     20654\n",
       "N1A0     20608\n",
       "N1E0     20207"
      ]
     },
     "execution_count": 231,
     "metadata": {},
     "output_type": "execute_result"
    }
   ],
   "source": [
    "# 펀드코드별 거래된 횟수 -최빈 거래 펀드: N440, N400, N600, N220, N2E0\n",
    "data.groupby(['fund_cd']).count().sort_values(by = ['gid'], ascending = False)[['gid']].head(10) "
   ]
  },
  {
   "cell_type": "code",
   "execution_count": 232,
   "metadata": {
    "colab": {
     "base_uri": "https://localhost:8080/",
     "height": 0
    },
    "executionInfo": {
     "elapsed": 134,
     "status": "ok",
     "timestamp": 1632918833109,
     "user": {
      "displayName": "성균관대이지연",
      "photoUrl": "https://lh3.googleusercontent.com/a/default-user=s64",
      "userId": "06932829462441791260"
     },
     "user_tz": -540
    },
    "id": "V0nbB2AmPgdk",
    "outputId": "cfc6844a-2e82-4261-aae3-ea2d688a8b7b"
   },
   "outputs": [
    {
     "data": {
      "text/html": [
       "<div>\n",
       "<style scoped>\n",
       "    .dataframe tbody tr th:only-of-type {\n",
       "        vertical-align: middle;\n",
       "    }\n",
       "\n",
       "    .dataframe tbody tr th {\n",
       "        vertical-align: top;\n",
       "    }\n",
       "\n",
       "    .dataframe thead th {\n",
       "        text-align: right;\n",
       "    }\n",
       "</style>\n",
       "<table border=\"1\" class=\"dataframe\">\n",
       "  <thead>\n",
       "    <tr style=\"text-align: right;\">\n",
       "      <th></th>\n",
       "      <th>gid</th>\n",
       "    </tr>\n",
       "    <tr>\n",
       "      <th>fund_cd</th>\n",
       "      <th></th>\n",
       "    </tr>\n",
       "  </thead>\n",
       "  <tbody>\n",
       "    <tr>\n",
       "      <th>N400</th>\n",
       "      <td>5441</td>\n",
       "    </tr>\n",
       "    <tr>\n",
       "      <th>N2E0</th>\n",
       "      <td>4992</td>\n",
       "    </tr>\n",
       "    <tr>\n",
       "      <th>N440</th>\n",
       "      <td>4808</td>\n",
       "    </tr>\n",
       "    <tr>\n",
       "      <th>N220</th>\n",
       "      <td>4639</td>\n",
       "    </tr>\n",
       "    <tr>\n",
       "      <th>N380</th>\n",
       "      <td>4545</td>\n",
       "    </tr>\n",
       "    <tr>\n",
       "      <th>N600</th>\n",
       "      <td>4204</td>\n",
       "    </tr>\n",
       "    <tr>\n",
       "      <th>N1E0</th>\n",
       "      <td>4142</td>\n",
       "    </tr>\n",
       "    <tr>\n",
       "      <th>N4D0</th>\n",
       "      <td>4037</td>\n",
       "    </tr>\n",
       "    <tr>\n",
       "      <th>N5B0</th>\n",
       "      <td>3946</td>\n",
       "    </tr>\n",
       "    <tr>\n",
       "      <th>N390</th>\n",
       "      <td>3792</td>\n",
       "    </tr>\n",
       "  </tbody>\n",
       "</table>\n",
       "</div>"
      ],
      "text/plain": [
       "          gid\n",
       "fund_cd      \n",
       "N400     5441\n",
       "N2E0     4992\n",
       "N440     4808\n",
       "N220     4639\n",
       "N380     4545\n",
       "N600     4204\n",
       "N1E0     4142\n",
       "N4D0     4037\n",
       "N5B0     3946\n",
       "N390     3792"
      ]
     },
     "execution_count": 232,
     "metadata": {},
     "output_type": "execute_result"
    }
   ],
   "source": [
    "# Cluster 0의 최빈 거래 펀드: N440, N600, N400, N5B0, N220, N410, N2E0, __N1A0__, N1E0, N4A0\n",
    "data[data['cluster']==0].groupby(['fund_cd']).count().sort_values(by = ['gid'], ascending = False)[['gid']].head(10)"
   ]
  },
  {
   "cell_type": "code",
   "execution_count": 233,
   "metadata": {
    "colab": {
     "base_uri": "https://localhost:8080/",
     "height": 0
    },
    "executionInfo": {
     "elapsed": 131,
     "status": "ok",
     "timestamp": 1632918833110,
     "user": {
      "displayName": "성균관대이지연",
      "photoUrl": "https://lh3.googleusercontent.com/a/default-user=s64",
      "userId": "06932829462441791260"
     },
     "user_tz": -540
    },
    "id": "-c_w4f-NRS3e",
    "outputId": "5e00d69a-ae14-413e-aef0-fb92fe2afb08"
   },
   "outputs": [
    {
     "data": {
      "text/html": [
       "<div>\n",
       "<style scoped>\n",
       "    .dataframe tbody tr th:only-of-type {\n",
       "        vertical-align: middle;\n",
       "    }\n",
       "\n",
       "    .dataframe tbody tr th {\n",
       "        vertical-align: top;\n",
       "    }\n",
       "\n",
       "    .dataframe thead th {\n",
       "        text-align: right;\n",
       "    }\n",
       "</style>\n",
       "<table border=\"1\" class=\"dataframe\">\n",
       "  <thead>\n",
       "    <tr style=\"text-align: right;\">\n",
       "      <th></th>\n",
       "      <th>gid</th>\n",
       "    </tr>\n",
       "    <tr>\n",
       "      <th>fund_cd</th>\n",
       "      <th></th>\n",
       "    </tr>\n",
       "  </thead>\n",
       "  <tbody>\n",
       "    <tr>\n",
       "      <th>N2E0</th>\n",
       "      <td>8686</td>\n",
       "    </tr>\n",
       "    <tr>\n",
       "      <th>N440</th>\n",
       "      <td>8487</td>\n",
       "    </tr>\n",
       "    <tr>\n",
       "      <th>N400</th>\n",
       "      <td>8377</td>\n",
       "    </tr>\n",
       "    <tr>\n",
       "      <th>N220</th>\n",
       "      <td>7442</td>\n",
       "    </tr>\n",
       "    <tr>\n",
       "      <th>N600</th>\n",
       "      <td>7440</td>\n",
       "    </tr>\n",
       "    <tr>\n",
       "      <th>N1E0</th>\n",
       "      <td>7137</td>\n",
       "    </tr>\n",
       "    <tr>\n",
       "      <th>N410</th>\n",
       "      <td>6448</td>\n",
       "    </tr>\n",
       "    <tr>\n",
       "      <th>N6C0</th>\n",
       "      <td>6390</td>\n",
       "    </tr>\n",
       "    <tr>\n",
       "      <th>N2A0</th>\n",
       "      <td>6298</td>\n",
       "    </tr>\n",
       "    <tr>\n",
       "      <th>N380</th>\n",
       "      <td>6263</td>\n",
       "    </tr>\n",
       "  </tbody>\n",
       "</table>\n",
       "</div>"
      ],
      "text/plain": [
       "          gid\n",
       "fund_cd      \n",
       "N2E0     8686\n",
       "N440     8487\n",
       "N400     8377\n",
       "N220     7442\n",
       "N600     7440\n",
       "N1E0     7137\n",
       "N410     6448\n",
       "N6C0     6390\n",
       "N2A0     6298\n",
       "N380     6263"
      ]
     },
     "execution_count": 233,
     "metadata": {},
     "output_type": "execute_result"
    }
   ],
   "source": [
    "# Cluster 1의 최빈 거래 펀드 : N400, N2E0, N440, N220, N380, N600, N1E0, __N4D0__, N5B0, N410\n",
    "data[data['cluster']==1].groupby(['fund_cd']).count().sort_values(by = ['gid'], ascending = False)[['gid']].head(10)"
   ]
  },
  {
   "cell_type": "code",
   "execution_count": 234,
   "metadata": {
    "colab": {
     "base_uri": "https://localhost:8080/",
     "height": 0
    },
    "executionInfo": {
     "elapsed": 126,
     "status": "ok",
     "timestamp": 1632918833111,
     "user": {
      "displayName": "성균관대이지연",
      "photoUrl": "https://lh3.googleusercontent.com/a/default-user=s64",
      "userId": "06932829462441791260"
     },
     "user_tz": -540
    },
    "id": "5eWwTxFJRk1K",
    "outputId": "6e97f65d-7235-4404-8600-306a9436864e"
   },
   "outputs": [
    {
     "data": {
      "text/html": [
       "<div>\n",
       "<style scoped>\n",
       "    .dataframe tbody tr th:only-of-type {\n",
       "        vertical-align: middle;\n",
       "    }\n",
       "\n",
       "    .dataframe tbody tr th {\n",
       "        vertical-align: top;\n",
       "    }\n",
       "\n",
       "    .dataframe thead th {\n",
       "        text-align: right;\n",
       "    }\n",
       "</style>\n",
       "<table border=\"1\" class=\"dataframe\">\n",
       "  <thead>\n",
       "    <tr style=\"text-align: right;\">\n",
       "      <th></th>\n",
       "      <th>gid</th>\n",
       "    </tr>\n",
       "    <tr>\n",
       "      <th>fund_cd</th>\n",
       "      <th></th>\n",
       "    </tr>\n",
       "  </thead>\n",
       "  <tbody>\n",
       "    <tr>\n",
       "      <th>N440</th>\n",
       "      <td>8428</td>\n",
       "    </tr>\n",
       "    <tr>\n",
       "      <th>N400</th>\n",
       "      <td>8427</td>\n",
       "    </tr>\n",
       "    <tr>\n",
       "      <th>N600</th>\n",
       "      <td>8328</td>\n",
       "    </tr>\n",
       "    <tr>\n",
       "      <th>N220</th>\n",
       "      <td>8266</td>\n",
       "    </tr>\n",
       "    <tr>\n",
       "      <th>N410</th>\n",
       "      <td>8189</td>\n",
       "    </tr>\n",
       "    <tr>\n",
       "      <th>N5B0</th>\n",
       "      <td>8029</td>\n",
       "    </tr>\n",
       "    <tr>\n",
       "      <th>N4A0</th>\n",
       "      <td>8015</td>\n",
       "    </tr>\n",
       "    <tr>\n",
       "      <th>N380</th>\n",
       "      <td>7854</td>\n",
       "    </tr>\n",
       "    <tr>\n",
       "      <th>N2E0</th>\n",
       "      <td>7572</td>\n",
       "    </tr>\n",
       "    <tr>\n",
       "      <th>N1A0</th>\n",
       "      <td>7514</td>\n",
       "    </tr>\n",
       "  </tbody>\n",
       "</table>\n",
       "</div>"
      ],
      "text/plain": [
       "          gid\n",
       "fund_cd      \n",
       "N440     8428\n",
       "N400     8427\n",
       "N600     8328\n",
       "N220     8266\n",
       "N410     8189\n",
       "N5B0     8029\n",
       "N4A0     8015\n",
       "N380     7854\n",
       "N2E0     7572\n",
       "N1A0     7514"
      ]
     },
     "execution_count": 234,
     "metadata": {},
     "output_type": "execute_result"
    }
   ],
   "source": [
    "# Cluster 2의 최빈 거래 펀드: N400, N440, N600, N220, N410, N4A0, N380, N5B0, N2E0, __N390__\n",
    "data[data['cluster']==2].groupby(['fund_cd']).count().sort_values(by = ['gid'], ascending = False)[['gid']].head(10)"
   ]
  },
  {
   "cell_type": "code",
   "execution_count": 235,
   "metadata": {
    "colab": {
     "base_uri": "https://localhost:8080/",
     "height": 0
    },
    "executionInfo": {
     "elapsed": 123,
     "status": "ok",
     "timestamp": 1632918833111,
     "user": {
      "displayName": "성균관대이지연",
      "photoUrl": "https://lh3.googleusercontent.com/a/default-user=s64",
      "userId": "06932829462441791260"
     },
     "user_tz": -540
    },
    "id": "uea4C-l9Mz5Y",
    "outputId": "698aecfd-3997-4534-b08d-ef6bfff34dba"
   },
   "outputs": [
    {
     "data": {
      "text/html": [
       "<div>\n",
       "<style scoped>\n",
       "    .dataframe tbody tr th:only-of-type {\n",
       "        vertical-align: middle;\n",
       "    }\n",
       "\n",
       "    .dataframe tbody tr th {\n",
       "        vertical-align: top;\n",
       "    }\n",
       "\n",
       "    .dataframe thead th {\n",
       "        text-align: right;\n",
       "    }\n",
       "</style>\n",
       "<table border=\"1\" class=\"dataframe\">\n",
       "  <thead>\n",
       "    <tr style=\"text-align: right;\">\n",
       "      <th></th>\n",
       "      <th>gid</th>\n",
       "    </tr>\n",
       "    <tr>\n",
       "      <th>fund_cd</th>\n",
       "      <th></th>\n",
       "    </tr>\n",
       "  </thead>\n",
       "  <tbody>\n",
       "    <tr>\n",
       "      <th>W210</th>\n",
       "      <td>6161</td>\n",
       "    </tr>\n",
       "    <tr>\n",
       "      <th>W310</th>\n",
       "      <td>5993</td>\n",
       "    </tr>\n",
       "    <tr>\n",
       "      <th>W710</th>\n",
       "      <td>5588</td>\n",
       "    </tr>\n",
       "    <tr>\n",
       "      <th>N5B0</th>\n",
       "      <td>5481</td>\n",
       "    </tr>\n",
       "    <tr>\n",
       "      <th>W204</th>\n",
       "      <td>4958</td>\n",
       "    </tr>\n",
       "    <tr>\n",
       "      <th>N600</th>\n",
       "      <td>4932</td>\n",
       "    </tr>\n",
       "    <tr>\n",
       "      <th>N440</th>\n",
       "      <td>4784</td>\n",
       "    </tr>\n",
       "    <tr>\n",
       "      <th>W410</th>\n",
       "      <td>4726</td>\n",
       "    </tr>\n",
       "    <tr>\n",
       "      <th>W607</th>\n",
       "      <td>4422</td>\n",
       "    </tr>\n",
       "    <tr>\n",
       "      <th>N1A0</th>\n",
       "      <td>4376</td>\n",
       "    </tr>\n",
       "  </tbody>\n",
       "</table>\n",
       "</div>"
      ],
      "text/plain": [
       "          gid\n",
       "fund_cd      \n",
       "W210     6161\n",
       "W310     5993\n",
       "W710     5588\n",
       "N5B0     5481\n",
       "W204     4958\n",
       "N600     4932\n",
       "N440     4784\n",
       "W410     4726\n",
       "W607     4422\n",
       "N1A0     4376"
      ]
     },
     "execution_count": 235,
     "metadata": {},
     "output_type": "execute_result"
    }
   ],
   "source": [
    "# Cluster 3의 최빈 거래 펀드: W210, W310, W710, N5B0, W204, N600, N440, W410, W607, N1A0\n",
    "data[data['cluster']==3].groupby(['fund_cd']).count().sort_values(by = ['gid'], ascending = False)[['gid']].head(10)"
   ]
  },
  {
   "cell_type": "markdown",
   "metadata": {
    "id": "GJns2JhRR17W"
   },
   "source": [
    "'클러스터 3'을 제외하면 최빈 거래 펀드가 많이 겹치는 것을 알 수 있습니다."
   ]
  },
  {
   "cell_type": "markdown",
   "metadata": {
    "id": "g05b6E5aTQ49"
   },
   "source": [
    "#### 최다 그룹 거래 펀드\n"
   ]
  },
  {
   "cell_type": "markdown",
   "metadata": {
    "id": "ZUFgvvDy8bMx"
   },
   "source": [
    "최빈 거래 펀드의 경우 클러스터 내 특정 그룹이 많이 거래한 경우 편향된 값이 나올 수도 있다고 판단하여 클러스터별로 가장 많은 그룹이 거래한 펀드가 무엇인지 확인했습니다.\n"
   ]
  },
  {
   "cell_type": "code",
   "execution_count": 236,
   "metadata": {
    "colab": {
     "base_uri": "https://localhost:8080/",
     "height": 0
    },
    "executionInfo": {
     "elapsed": 120,
     "status": "ok",
     "timestamp": 1632918833112,
     "user": {
      "displayName": "성균관대이지연",
      "photoUrl": "https://lh3.googleusercontent.com/a/default-user=s64",
      "userId": "06932829462441791260"
     },
     "user_tz": -540
    },
    "id": "ocJsBZEwRpyS",
    "outputId": "b5eba23d-6448-4678-ad2f-0d115df0e4de"
   },
   "outputs": [
    {
     "data": {
      "text/html": [
       "<div>\n",
       "<style scoped>\n",
       "    .dataframe tbody tr th:only-of-type {\n",
       "        vertical-align: middle;\n",
       "    }\n",
       "\n",
       "    .dataframe tbody tr th {\n",
       "        vertical-align: top;\n",
       "    }\n",
       "\n",
       "    .dataframe thead th {\n",
       "        text-align: right;\n",
       "    }\n",
       "</style>\n",
       "<table border=\"1\" class=\"dataframe\">\n",
       "  <thead>\n",
       "    <tr style=\"text-align: right;\">\n",
       "      <th></th>\n",
       "      <th>gid</th>\n",
       "    </tr>\n",
       "    <tr>\n",
       "      <th>fund_cd</th>\n",
       "      <th></th>\n",
       "    </tr>\n",
       "  </thead>\n",
       "  <tbody>\n",
       "    <tr>\n",
       "      <th>N400</th>\n",
       "      <td>485</td>\n",
       "    </tr>\n",
       "    <tr>\n",
       "      <th>N220</th>\n",
       "      <td>451</td>\n",
       "    </tr>\n",
       "    <tr>\n",
       "      <th>N2E0</th>\n",
       "      <td>451</td>\n",
       "    </tr>\n",
       "    <tr>\n",
       "      <th>N440</th>\n",
       "      <td>450</td>\n",
       "    </tr>\n",
       "    <tr>\n",
       "      <th>N380</th>\n",
       "      <td>447</td>\n",
       "    </tr>\n",
       "    <tr>\n",
       "      <th>N600</th>\n",
       "      <td>411</td>\n",
       "    </tr>\n",
       "    <tr>\n",
       "      <th>N4D0</th>\n",
       "      <td>408</td>\n",
       "    </tr>\n",
       "    <tr>\n",
       "      <th>N390</th>\n",
       "      <td>397</td>\n",
       "    </tr>\n",
       "    <tr>\n",
       "      <th>N410</th>\n",
       "      <td>382</td>\n",
       "    </tr>\n",
       "    <tr>\n",
       "      <th>N1E0</th>\n",
       "      <td>381</td>\n",
       "    </tr>\n",
       "  </tbody>\n",
       "</table>\n",
       "</div>"
      ],
      "text/plain": [
       "         gid\n",
       "fund_cd     \n",
       "N400     485\n",
       "N220     451\n",
       "N2E0     451\n",
       "N440     450\n",
       "N380     447\n",
       "N600     411\n",
       "N4D0     408\n",
       "N390     397\n",
       "N410     382\n",
       "N1E0     381"
      ]
     },
     "execution_count": 236,
     "metadata": {},
     "output_type": "execute_result"
    }
   ],
   "source": [
    "# 클러스터0의 최다 그룹 거래 펀드\n",
    "# Cluster 0: N440, N400, N600, N5B0, N220, N410, N2E0, N1A0, N4A0, N1E0\n",
    "data[data['cluster'] == 0].loc[:, ['gid', 'fund_cd']].drop_duplicates().groupby(['fund_cd']).count().sort_values(by = ['gid'], ascending = False).head(10)"
   ]
  },
  {
   "cell_type": "code",
   "execution_count": 237,
   "metadata": {
    "colab": {
     "base_uri": "https://localhost:8080/",
     "height": 0
    },
    "executionInfo": {
     "elapsed": 115,
     "status": "ok",
     "timestamp": 1632918833112,
     "user": {
      "displayName": "성균관대이지연",
      "photoUrl": "https://lh3.googleusercontent.com/a/default-user=s64",
      "userId": "06932829462441791260"
     },
     "user_tz": -540
    },
    "id": "jF_l61xPUiLd",
    "outputId": "c7b78a2c-d8a3-464f-f32b-79b7d1582442"
   },
   "outputs": [
    {
     "data": {
      "text/html": [
       "<div>\n",
       "<style scoped>\n",
       "    .dataframe tbody tr th:only-of-type {\n",
       "        vertical-align: middle;\n",
       "    }\n",
       "\n",
       "    .dataframe tbody tr th {\n",
       "        vertical-align: top;\n",
       "    }\n",
       "\n",
       "    .dataframe thead th {\n",
       "        text-align: right;\n",
       "    }\n",
       "</style>\n",
       "<table border=\"1\" class=\"dataframe\">\n",
       "  <thead>\n",
       "    <tr style=\"text-align: right;\">\n",
       "      <th></th>\n",
       "      <th>gid</th>\n",
       "    </tr>\n",
       "    <tr>\n",
       "      <th>fund_cd</th>\n",
       "      <th></th>\n",
       "    </tr>\n",
       "  </thead>\n",
       "  <tbody>\n",
       "    <tr>\n",
       "      <th>N400</th>\n",
       "      <td>770</td>\n",
       "    </tr>\n",
       "    <tr>\n",
       "      <th>N2E0</th>\n",
       "      <td>766</td>\n",
       "    </tr>\n",
       "    <tr>\n",
       "      <th>N440</th>\n",
       "      <td>751</td>\n",
       "    </tr>\n",
       "    <tr>\n",
       "      <th>N220</th>\n",
       "      <td>684</td>\n",
       "    </tr>\n",
       "    <tr>\n",
       "      <th>N600</th>\n",
       "      <td>669</td>\n",
       "    </tr>\n",
       "    <tr>\n",
       "      <th>N380</th>\n",
       "      <td>628</td>\n",
       "    </tr>\n",
       "    <tr>\n",
       "      <th>N1E0</th>\n",
       "      <td>617</td>\n",
       "    </tr>\n",
       "    <tr>\n",
       "      <th>N410</th>\n",
       "      <td>581</td>\n",
       "    </tr>\n",
       "    <tr>\n",
       "      <th>N6C0</th>\n",
       "      <td>569</td>\n",
       "    </tr>\n",
       "    <tr>\n",
       "      <th>N2A0</th>\n",
       "      <td>559</td>\n",
       "    </tr>\n",
       "  </tbody>\n",
       "</table>\n",
       "</div>"
      ],
      "text/plain": [
       "         gid\n",
       "fund_cd     \n",
       "N400     770\n",
       "N2E0     766\n",
       "N440     751\n",
       "N220     684\n",
       "N600     669\n",
       "N380     628\n",
       "N1E0     617\n",
       "N410     581\n",
       "N6C0     569\n",
       "N2A0     559"
      ]
     },
     "execution_count": 237,
     "metadata": {},
     "output_type": "execute_result"
    }
   ],
   "source": [
    "# 클러스터1의 최다 그룹 펀드\n",
    "# Cluster 1: N400, N2E0, N220, N380, N440, N600, N4D0, N390, N410, N1E0\n",
    "data[data['cluster'] == 1].loc[:, ['gid', 'fund_cd']].drop_duplicates().groupby(['fund_cd']).count().sort_values(by = ['gid'], ascending = False).head(10)"
   ]
  },
  {
   "cell_type": "code",
   "execution_count": 238,
   "metadata": {
    "colab": {
     "base_uri": "https://localhost:8080/",
     "height": 0
    },
    "executionInfo": {
     "elapsed": 111,
     "status": "ok",
     "timestamp": 1632918833113,
     "user": {
      "displayName": "성균관대이지연",
      "photoUrl": "https://lh3.googleusercontent.com/a/default-user=s64",
      "userId": "06932829462441791260"
     },
     "user_tz": -540
    },
    "id": "VwpkOjH5UkcP",
    "outputId": "52289f85-bd6e-4e6a-fdcd-13713abf446a"
   },
   "outputs": [
    {
     "data": {
      "text/html": [
       "<div>\n",
       "<style scoped>\n",
       "    .dataframe tbody tr th:only-of-type {\n",
       "        vertical-align: middle;\n",
       "    }\n",
       "\n",
       "    .dataframe tbody tr th {\n",
       "        vertical-align: top;\n",
       "    }\n",
       "\n",
       "    .dataframe thead th {\n",
       "        text-align: right;\n",
       "    }\n",
       "</style>\n",
       "<table border=\"1\" class=\"dataframe\">\n",
       "  <thead>\n",
       "    <tr style=\"text-align: right;\">\n",
       "      <th></th>\n",
       "      <th>gid</th>\n",
       "    </tr>\n",
       "    <tr>\n",
       "      <th>fund_cd</th>\n",
       "      <th></th>\n",
       "    </tr>\n",
       "  </thead>\n",
       "  <tbody>\n",
       "    <tr>\n",
       "      <th>N400</th>\n",
       "      <td>715</td>\n",
       "    </tr>\n",
       "    <tr>\n",
       "      <th>N600</th>\n",
       "      <td>710</td>\n",
       "    </tr>\n",
       "    <tr>\n",
       "      <th>N440</th>\n",
       "      <td>708</td>\n",
       "    </tr>\n",
       "    <tr>\n",
       "      <th>N220</th>\n",
       "      <td>705</td>\n",
       "    </tr>\n",
       "    <tr>\n",
       "      <th>N410</th>\n",
       "      <td>702</td>\n",
       "    </tr>\n",
       "    <tr>\n",
       "      <th>N380</th>\n",
       "      <td>686</td>\n",
       "    </tr>\n",
       "    <tr>\n",
       "      <th>N4A0</th>\n",
       "      <td>685</td>\n",
       "    </tr>\n",
       "    <tr>\n",
       "      <th>N5B0</th>\n",
       "      <td>682</td>\n",
       "    </tr>\n",
       "    <tr>\n",
       "      <th>N390</th>\n",
       "      <td>670</td>\n",
       "    </tr>\n",
       "    <tr>\n",
       "      <th>N2E0</th>\n",
       "      <td>652</td>\n",
       "    </tr>\n",
       "  </tbody>\n",
       "</table>\n",
       "</div>"
      ],
      "text/plain": [
       "         gid\n",
       "fund_cd     \n",
       "N400     715\n",
       "N600     710\n",
       "N440     708\n",
       "N220     705\n",
       "N410     702\n",
       "N380     686\n",
       "N4A0     685\n",
       "N5B0     682\n",
       "N390     670\n",
       "N2E0     652"
      ]
     },
     "execution_count": 238,
     "metadata": {},
     "output_type": "execute_result"
    }
   ],
   "source": [
    "# 클러스터2의 최다 그룹 펀드\n",
    "# Cluster 2: N400, N440, N600, N220, N410, N380, N4A0, N5B0, N390, N2E0\n",
    "data[data['cluster'] == 2].loc[:, ['gid', 'fund_cd']].drop_duplicates().groupby(['fund_cd']).count().sort_values(by = ['gid'], ascending = False).head(10)"
   ]
  },
  {
   "cell_type": "code",
   "execution_count": 239,
   "metadata": {
    "colab": {
     "base_uri": "https://localhost:8080/",
     "height": 0
    },
    "executionInfo": {
     "elapsed": 104,
     "status": "ok",
     "timestamp": 1632918833114,
     "user": {
      "displayName": "성균관대이지연",
      "photoUrl": "https://lh3.googleusercontent.com/a/default-user=s64",
      "userId": "06932829462441791260"
     },
     "user_tz": -540
    },
    "id": "lMJMeBxx8tsc",
    "outputId": "494f1446-444b-4d78-d294-817296bedba1"
   },
   "outputs": [
    {
     "data": {
      "text/html": [
       "<div>\n",
       "<style scoped>\n",
       "    .dataframe tbody tr th:only-of-type {\n",
       "        vertical-align: middle;\n",
       "    }\n",
       "\n",
       "    .dataframe tbody tr th {\n",
       "        vertical-align: top;\n",
       "    }\n",
       "\n",
       "    .dataframe thead th {\n",
       "        text-align: right;\n",
       "    }\n",
       "</style>\n",
       "<table border=\"1\" class=\"dataframe\">\n",
       "  <thead>\n",
       "    <tr style=\"text-align: right;\">\n",
       "      <th></th>\n",
       "      <th>gid</th>\n",
       "    </tr>\n",
       "    <tr>\n",
       "      <th>fund_cd</th>\n",
       "      <th></th>\n",
       "    </tr>\n",
       "  </thead>\n",
       "  <tbody>\n",
       "    <tr>\n",
       "      <th>W210</th>\n",
       "      <td>522</td>\n",
       "    </tr>\n",
       "    <tr>\n",
       "      <th>W310</th>\n",
       "      <td>506</td>\n",
       "    </tr>\n",
       "    <tr>\n",
       "      <th>W710</th>\n",
       "      <td>475</td>\n",
       "    </tr>\n",
       "    <tr>\n",
       "      <th>N5B0</th>\n",
       "      <td>469</td>\n",
       "    </tr>\n",
       "    <tr>\n",
       "      <th>W104</th>\n",
       "      <td>466</td>\n",
       "    </tr>\n",
       "    <tr>\n",
       "      <th>N600</th>\n",
       "      <td>435</td>\n",
       "    </tr>\n",
       "    <tr>\n",
       "      <th>W204</th>\n",
       "      <td>422</td>\n",
       "    </tr>\n",
       "    <tr>\n",
       "      <th>N440</th>\n",
       "      <td>421</td>\n",
       "    </tr>\n",
       "    <tr>\n",
       "      <th>W410</th>\n",
       "      <td>402</td>\n",
       "    </tr>\n",
       "    <tr>\n",
       "      <th>W311</th>\n",
       "      <td>382</td>\n",
       "    </tr>\n",
       "  </tbody>\n",
       "</table>\n",
       "</div>"
      ],
      "text/plain": [
       "         gid\n",
       "fund_cd     \n",
       "W210     522\n",
       "W310     506\n",
       "W710     475\n",
       "N5B0     469\n",
       "W104     466\n",
       "N600     435\n",
       "W204     422\n",
       "N440     421\n",
       "W410     402\n",
       "W311     382"
      ]
     },
     "execution_count": 239,
     "metadata": {},
     "output_type": "execute_result"
    }
   ],
   "source": [
    "# 클러스터3의 최다 그룹 펀드\n",
    "# Clutser 3: W210, W310, W710, N5B0, W104, N600, W204, N440, W410, W311\n",
    "data[data['cluster'] == 3].loc[:, ['gid', 'fund_cd']].drop_duplicates().groupby(['fund_cd']).count().sort_values(by = ['gid'], ascending = False).head(10)"
   ]
  },
  {
   "cell_type": "markdown",
   "metadata": {
    "id": "L6ESGbKZ9yg9"
   },
   "source": [
    "상위 10개의 펀드에 대해 최다 거래 펀드와 비교했으나 큰 차이는 없었습니다."
   ]
  },
  {
   "cell_type": "markdown",
   "metadata": {
    "id": "uTsrj2OLPt4n"
   },
   "source": [
    "### 4. 태블로 시각화용 데이터셋 완성"
   ]
  },
  {
   "cell_type": "markdown",
   "metadata": {
    "id": "OjsnPyJSCHwP"
   },
   "source": [
    "#### 클러스터 정보"
   ]
  },
  {
   "cell_type": "code",
   "execution_count": 240,
   "metadata": {
    "colab": {
     "base_uri": "https://localhost:8080/",
     "height": 0
    },
    "executionInfo": {
     "elapsed": 102,
     "status": "ok",
     "timestamp": 1632918833114,
     "user": {
      "displayName": "성균관대이지연",
      "photoUrl": "https://lh3.googleusercontent.com/a/default-user=s64",
      "userId": "06932829462441791260"
     },
     "user_tz": -540
    },
    "id": "7QnmrG5hRC7g",
    "outputId": "e756c235-2432-4fb1-a6db-2d8f1c2c1e77"
   },
   "outputs": [
    {
     "data": {
      "text/html": [
       "<div>\n",
       "<style scoped>\n",
       "    .dataframe tbody tr th:only-of-type {\n",
       "        vertical-align: middle;\n",
       "    }\n",
       "\n",
       "    .dataframe tbody tr th {\n",
       "        vertical-align: top;\n",
       "    }\n",
       "\n",
       "    .dataframe thead th {\n",
       "        text-align: right;\n",
       "    }\n",
       "</style>\n",
       "<table border=\"1\" class=\"dataframe\">\n",
       "  <thead>\n",
       "    <tr style=\"text-align: right;\">\n",
       "      <th></th>\n",
       "      <th>cluster</th>\n",
       "      <th>cntr_cnt</th>\n",
       "      <th>sum_fee_amt</th>\n",
       "      <th>avg_max_pay</th>\n",
       "      <th>avg_ch_cntr_cnt</th>\n",
       "      <th>fund_cd_num</th>\n",
       "      <th>fund_ratio</th>\n",
       "      <th>avg_cssc</th>\n",
       "      <th>avg_jn_amt</th>\n",
       "      <th>in_fund_cnt</th>\n",
       "      <th>wd_fund_cnt</th>\n",
       "    </tr>\n",
       "  </thead>\n",
       "  <tbody>\n",
       "    <tr>\n",
       "      <th>0</th>\n",
       "      <td>0</td>\n",
       "      <td>1</td>\n",
       "      <td>655</td>\n",
       "      <td>75</td>\n",
       "      <td>11.0</td>\n",
       "      <td>31</td>\n",
       "      <td>0.052288</td>\n",
       "      <td>500</td>\n",
       "      <td>4467</td>\n",
       "      <td>1</td>\n",
       "      <td>2</td>\n",
       "    </tr>\n",
       "    <tr>\n",
       "      <th>1</th>\n",
       "      <td>0</td>\n",
       "      <td>1</td>\n",
       "      <td>655</td>\n",
       "      <td>75</td>\n",
       "      <td>11.0</td>\n",
       "      <td>31</td>\n",
       "      <td>0.052288</td>\n",
       "      <td>500</td>\n",
       "      <td>4467</td>\n",
       "      <td>0</td>\n",
       "      <td>3</td>\n",
       "    </tr>\n",
       "    <tr>\n",
       "      <th>2</th>\n",
       "      <td>0</td>\n",
       "      <td>1</td>\n",
       "      <td>655</td>\n",
       "      <td>75</td>\n",
       "      <td>11.0</td>\n",
       "      <td>31</td>\n",
       "      <td>0.052288</td>\n",
       "      <td>500</td>\n",
       "      <td>4467</td>\n",
       "      <td>1</td>\n",
       "      <td>3</td>\n",
       "    </tr>\n",
       "    <tr>\n",
       "      <th>3</th>\n",
       "      <td>0</td>\n",
       "      <td>1</td>\n",
       "      <td>655</td>\n",
       "      <td>75</td>\n",
       "      <td>11.0</td>\n",
       "      <td>31</td>\n",
       "      <td>0.052288</td>\n",
       "      <td>500</td>\n",
       "      <td>4467</td>\n",
       "      <td>1</td>\n",
       "      <td>2</td>\n",
       "    </tr>\n",
       "    <tr>\n",
       "      <th>4</th>\n",
       "      <td>0</td>\n",
       "      <td>1</td>\n",
       "      <td>655</td>\n",
       "      <td>75</td>\n",
       "      <td>11.0</td>\n",
       "      <td>31</td>\n",
       "      <td>0.052288</td>\n",
       "      <td>500</td>\n",
       "      <td>4467</td>\n",
       "      <td>0</td>\n",
       "      <td>3</td>\n",
       "    </tr>\n",
       "  </tbody>\n",
       "</table>\n",
       "</div>"
      ],
      "text/plain": [
       "   cluster  cntr_cnt  sum_fee_amt  ...  avg_jn_amt  in_fund_cnt  wd_fund_cnt\n",
       "0        0         1          655  ...        4467            1            2\n",
       "1        0         1          655  ...        4467            0            3\n",
       "2        0         1          655  ...        4467            1            3\n",
       "3        0         1          655  ...        4467            1            2\n",
       "4        0         1          655  ...        4467            0            3\n",
       "\n",
       "[5 rows x 11 columns]"
      ]
     },
     "execution_count": 240,
     "metadata": {},
     "output_type": "execute_result"
    }
   ],
   "source": [
    "# 시각화에 사용될 변수만 추출\n",
    "cluster_inf = data.loc[:,['cluster','cntr_cnt', 'sum_fee_amt', 'avg_max_pay', 'avg_ch_cntr_cnt', 'fund_cd_num', 'fund_ratio', 'avg_cssc', 'avg_jn_amt', 'in_fund_cnt', 'wd_fund_cnt']]\n",
    "cluster_inf.head()"
   ]
  },
  {
   "cell_type": "code",
   "execution_count": 241,
   "metadata": {
    "colab": {
     "base_uri": "https://localhost:8080/",
     "height": 0
    },
    "executionInfo": {
     "elapsed": 99,
     "status": "ok",
     "timestamp": 1632918833115,
     "user": {
      "displayName": "성균관대이지연",
      "photoUrl": "https://lh3.googleusercontent.com/a/default-user=s64",
      "userId": "06932829462441791260"
     },
     "user_tz": -540
    },
    "id": "FC_zxbWWRdx8",
    "outputId": "b753d9a7-c0f3-49ed-edc4-d13729b0f22a"
   },
   "outputs": [
    {
     "data": {
      "text/html": [
       "<div>\n",
       "<style scoped>\n",
       "    .dataframe tbody tr th:only-of-type {\n",
       "        vertical-align: middle;\n",
       "    }\n",
       "\n",
       "    .dataframe tbody tr th {\n",
       "        vertical-align: top;\n",
       "    }\n",
       "\n",
       "    .dataframe thead th {\n",
       "        text-align: right;\n",
       "    }\n",
       "</style>\n",
       "<table border=\"1\" class=\"dataframe\">\n",
       "  <thead>\n",
       "    <tr style=\"text-align: right;\">\n",
       "      <th></th>\n",
       "      <th>cntr_cnt_s</th>\n",
       "      <th>sum_fee_amt_s</th>\n",
       "      <th>avg_max_pay_s</th>\n",
       "      <th>avg_ch_cntr_cnt_s</th>\n",
       "      <th>fund_cd_num_s</th>\n",
       "    </tr>\n",
       "  </thead>\n",
       "  <tbody>\n",
       "    <tr>\n",
       "      <th>0</th>\n",
       "      <td>0.55</td>\n",
       "      <td>0.506849</td>\n",
       "      <td>0.25</td>\n",
       "      <td>0.257143</td>\n",
       "      <td>0.005284</td>\n",
       "    </tr>\n",
       "    <tr>\n",
       "      <th>1</th>\n",
       "      <td>0.55</td>\n",
       "      <td>0.506849</td>\n",
       "      <td>0.25</td>\n",
       "      <td>0.257143</td>\n",
       "      <td>0.005284</td>\n",
       "    </tr>\n",
       "    <tr>\n",
       "      <th>2</th>\n",
       "      <td>0.55</td>\n",
       "      <td>0.506849</td>\n",
       "      <td>0.25</td>\n",
       "      <td>0.257143</td>\n",
       "      <td>0.005284</td>\n",
       "    </tr>\n",
       "    <tr>\n",
       "      <th>3</th>\n",
       "      <td>0.55</td>\n",
       "      <td>0.506849</td>\n",
       "      <td>0.25</td>\n",
       "      <td>0.257143</td>\n",
       "      <td>0.005284</td>\n",
       "    </tr>\n",
       "    <tr>\n",
       "      <th>4</th>\n",
       "      <td>0.55</td>\n",
       "      <td>0.506849</td>\n",
       "      <td>0.25</td>\n",
       "      <td>0.257143</td>\n",
       "      <td>0.005284</td>\n",
       "    </tr>\n",
       "    <tr>\n",
       "      <th>...</th>\n",
       "      <td>...</td>\n",
       "      <td>...</td>\n",
       "      <td>...</td>\n",
       "      <td>...</td>\n",
       "      <td>...</td>\n",
       "    </tr>\n",
       "    <tr>\n",
       "      <th>1166594</th>\n",
       "      <td>0.10</td>\n",
       "      <td>0.363014</td>\n",
       "      <td>0.25</td>\n",
       "      <td>0.114286</td>\n",
       "      <td>0.001341</td>\n",
       "    </tr>\n",
       "    <tr>\n",
       "      <th>1166595</th>\n",
       "      <td>0.10</td>\n",
       "      <td>0.363014</td>\n",
       "      <td>0.25</td>\n",
       "      <td>0.114286</td>\n",
       "      <td>0.001341</td>\n",
       "    </tr>\n",
       "    <tr>\n",
       "      <th>1166596</th>\n",
       "      <td>0.10</td>\n",
       "      <td>0.363014</td>\n",
       "      <td>0.25</td>\n",
       "      <td>0.114286</td>\n",
       "      <td>0.001341</td>\n",
       "    </tr>\n",
       "    <tr>\n",
       "      <th>1166597</th>\n",
       "      <td>0.10</td>\n",
       "      <td>0.363014</td>\n",
       "      <td>0.25</td>\n",
       "      <td>0.114286</td>\n",
       "      <td>0.001341</td>\n",
       "    </tr>\n",
       "    <tr>\n",
       "      <th>1166598</th>\n",
       "      <td>0.10</td>\n",
       "      <td>0.363014</td>\n",
       "      <td>0.25</td>\n",
       "      <td>0.114286</td>\n",
       "      <td>0.001341</td>\n",
       "    </tr>\n",
       "  </tbody>\n",
       "</table>\n",
       "<p>1166599 rows × 5 columns</p>\n",
       "</div>"
      ],
      "text/plain": [
       "         cntr_cnt_s  sum_fee_amt_s  ...  avg_ch_cntr_cnt_s  fund_cd_num_s\n",
       "0              0.55       0.506849  ...           0.257143       0.005284\n",
       "1              0.55       0.506849  ...           0.257143       0.005284\n",
       "2              0.55       0.506849  ...           0.257143       0.005284\n",
       "3              0.55       0.506849  ...           0.257143       0.005284\n",
       "4              0.55       0.506849  ...           0.257143       0.005284\n",
       "...             ...            ...  ...                ...            ...\n",
       "1166594        0.10       0.363014  ...           0.114286       0.001341\n",
       "1166595        0.10       0.363014  ...           0.114286       0.001341\n",
       "1166596        0.10       0.363014  ...           0.114286       0.001341\n",
       "1166597        0.10       0.363014  ...           0.114286       0.001341\n",
       "1166598        0.10       0.363014  ...           0.114286       0.001341\n",
       "\n",
       "[1166599 rows x 5 columns]"
      ]
     },
     "execution_count": 241,
     "metadata": {},
     "output_type": "execute_result"
    }
   ],
   "source": [
    "# 레이더차트에 사용되는 변수들 간의 스케일을 맞추기 위해 정규화\n",
    "scaler = preprocessing.MinMaxScaler()\n",
    "scaled_cluster = scaler.fit_transform(cluster_inf[cluster_inf.columns.difference(['cluster', 'fund_ratio', 'avg_cssc', 'avg_jn_amt', 'in_fund_cnt', 'wd_fund_cnt'])])\n",
    "scaled_cluster = pd.DataFrame(scaled_cluster, columns=['cntr_cnt_s', 'sum_fee_amt_s', 'avg_max_pay_s','avg_ch_cntr_cnt_s','fund_cd_num_s'])\n",
    "scaled_cluster"
   ]
  },
  {
   "cell_type": "code",
   "execution_count": 242,
   "metadata": {
    "colab": {
     "base_uri": "https://localhost:8080/",
     "height": 0
    },
    "executionInfo": {
     "elapsed": 97,
     "status": "ok",
     "timestamp": 1632918833117,
     "user": {
      "displayName": "성균관대이지연",
      "photoUrl": "https://lh3.googleusercontent.com/a/default-user=s64",
      "userId": "06932829462441791260"
     },
     "user_tz": -540
    },
    "id": "VSRl8Wqy2aLR",
    "outputId": "ccf68285-4163-4fe9-93a7-4924e5c0d3e9"
   },
   "outputs": [
    {
     "data": {
      "text/html": [
       "<div>\n",
       "<style scoped>\n",
       "    .dataframe tbody tr th:only-of-type {\n",
       "        vertical-align: middle;\n",
       "    }\n",
       "\n",
       "    .dataframe tbody tr th {\n",
       "        vertical-align: top;\n",
       "    }\n",
       "\n",
       "    .dataframe thead th {\n",
       "        text-align: right;\n",
       "    }\n",
       "</style>\n",
       "<table border=\"1\" class=\"dataframe\">\n",
       "  <thead>\n",
       "    <tr style=\"text-align: right;\">\n",
       "      <th></th>\n",
       "      <th>cluster</th>\n",
       "      <th>cntr_cnt</th>\n",
       "      <th>sum_fee_amt</th>\n",
       "      <th>avg_max_pay</th>\n",
       "      <th>avg_ch_cntr_cnt</th>\n",
       "      <th>fund_cd_num</th>\n",
       "      <th>fund_ratio</th>\n",
       "      <th>avg_cssc</th>\n",
       "      <th>avg_jn_amt</th>\n",
       "      <th>in_fund_cnt</th>\n",
       "      <th>wd_fund_cnt</th>\n",
       "    </tr>\n",
       "  </thead>\n",
       "  <tbody>\n",
       "    <tr>\n",
       "      <th>0</th>\n",
       "      <td>0</td>\n",
       "      <td>2.678864</td>\n",
       "      <td>1954.326700</td>\n",
       "      <td>53.520891</td>\n",
       "      <td>14.857792</td>\n",
       "      <td>39.599011</td>\n",
       "      <td>0.124411</td>\n",
       "      <td>1084.621205</td>\n",
       "      <td>3339.349294</td>\n",
       "      <td>1.843796</td>\n",
       "      <td>7.326210</td>\n",
       "    </tr>\n",
       "    <tr>\n",
       "      <th>1</th>\n",
       "      <td>1</td>\n",
       "      <td>2.000620</td>\n",
       "      <td>2077.054234</td>\n",
       "      <td>60.039224</td>\n",
       "      <td>3.838060</td>\n",
       "      <td>29.114976</td>\n",
       "      <td>0.124674</td>\n",
       "      <td>829.461917</td>\n",
       "      <td>3880.173747</td>\n",
       "      <td>1.570426</td>\n",
       "      <td>5.957343</td>\n",
       "    </tr>\n",
       "    <tr>\n",
       "      <th>2</th>\n",
       "      <td>2</td>\n",
       "      <td>2.170472</td>\n",
       "      <td>8586.287156</td>\n",
       "      <td>85.118525</td>\n",
       "      <td>4.876075</td>\n",
       "      <td>68.711190</td>\n",
       "      <td>0.195503</td>\n",
       "      <td>746.643463</td>\n",
       "      <td>2995.321747</td>\n",
       "      <td>4.264599</td>\n",
       "      <td>12.239537</td>\n",
       "    </tr>\n",
       "    <tr>\n",
       "      <th>3</th>\n",
       "      <td>3</td>\n",
       "      <td>2.013208</td>\n",
       "      <td>857.641880</td>\n",
       "      <td>93.191779</td>\n",
       "      <td>1.741202</td>\n",
       "      <td>26.243981</td>\n",
       "      <td>0.364027</td>\n",
       "      <td>648.419805</td>\n",
       "      <td>2992.901051</td>\n",
       "      <td>1.554044</td>\n",
       "      <td>4.668511</td>\n",
       "    </tr>\n",
       "  </tbody>\n",
       "</table>\n",
       "</div>"
      ],
      "text/plain": [
       "   cluster  cntr_cnt  sum_fee_amt  ...   avg_jn_amt  in_fund_cnt  wd_fund_cnt\n",
       "0        0  2.678864  1954.326700  ...  3339.349294     1.843796     7.326210\n",
       "1        1  2.000620  2077.054234  ...  3880.173747     1.570426     5.957343\n",
       "2        2  2.170472  8586.287156  ...  2995.321747     4.264599    12.239537\n",
       "3        3  2.013208   857.641880  ...  2992.901051     1.554044     4.668511\n",
       "\n",
       "[4 rows x 11 columns]"
      ]
     },
     "execution_count": 242,
     "metadata": {},
     "output_type": "execute_result"
    }
   ],
   "source": [
    "# 정규화한 변수의 평균값 구하기\n",
    "cluster_inf = cluster_inf.groupby(['cluster']).mean().reset_index()\n",
    "cluster_inf.head()"
   ]
  },
  {
   "cell_type": "code",
   "execution_count": 243,
   "metadata": {
    "colab": {
     "base_uri": "https://localhost:8080/",
     "height": 0
    },
    "executionInfo": {
     "elapsed": 94,
     "status": "ok",
     "timestamp": 1632918833117,
     "user": {
      "displayName": "성균관대이지연",
      "photoUrl": "https://lh3.googleusercontent.com/a/default-user=s64",
      "userId": "06932829462441791260"
     },
     "user_tz": -540
    },
    "id": "LwCTlcxIJjap",
    "outputId": "97c8c821-b661-4a4a-fda1-1c07019dbfdd"
   },
   "outputs": [
    {
     "data": {
      "text/html": [
       "<div>\n",
       "<style scoped>\n",
       "    .dataframe tbody tr th:only-of-type {\n",
       "        vertical-align: middle;\n",
       "    }\n",
       "\n",
       "    .dataframe tbody tr th {\n",
       "        vertical-align: top;\n",
       "    }\n",
       "\n",
       "    .dataframe thead th {\n",
       "        text-align: right;\n",
       "    }\n",
       "</style>\n",
       "<table border=\"1\" class=\"dataframe\">\n",
       "  <thead>\n",
       "    <tr style=\"text-align: right;\">\n",
       "      <th></th>\n",
       "      <th>cluster</th>\n",
       "      <th>cntr_cnt</th>\n",
       "      <th>sum_fee_amt</th>\n",
       "      <th>avg_max_pay</th>\n",
       "      <th>avg_ch_cntr_cnt</th>\n",
       "      <th>fund_cd_num</th>\n",
       "      <th>fund_ratio</th>\n",
       "      <th>avg_cssc</th>\n",
       "      <th>avg_jn_amt</th>\n",
       "      <th>in_fund_cnt</th>\n",
       "      <th>wd_fund_cnt</th>\n",
       "    </tr>\n",
       "  </thead>\n",
       "  <tbody>\n",
       "    <tr>\n",
       "      <th>0</th>\n",
       "      <td>0.0</td>\n",
       "      <td>2.678864</td>\n",
       "      <td>1954.326700</td>\n",
       "      <td>53.520891</td>\n",
       "      <td>14.857792</td>\n",
       "      <td>39.599011</td>\n",
       "      <td>0.124411</td>\n",
       "      <td>1084.621205</td>\n",
       "      <td>3339.349294</td>\n",
       "      <td>1.843796</td>\n",
       "      <td>7.326210</td>\n",
       "    </tr>\n",
       "    <tr>\n",
       "      <th>1</th>\n",
       "      <td>1.0</td>\n",
       "      <td>2.000620</td>\n",
       "      <td>2077.054234</td>\n",
       "      <td>60.039224</td>\n",
       "      <td>3.838060</td>\n",
       "      <td>29.114976</td>\n",
       "      <td>0.124674</td>\n",
       "      <td>829.461917</td>\n",
       "      <td>3880.173747</td>\n",
       "      <td>1.570426</td>\n",
       "      <td>5.957343</td>\n",
       "    </tr>\n",
       "    <tr>\n",
       "      <th>2</th>\n",
       "      <td>2.0</td>\n",
       "      <td>2.170472</td>\n",
       "      <td>8586.287156</td>\n",
       "      <td>85.118525</td>\n",
       "      <td>4.876075</td>\n",
       "      <td>68.711190</td>\n",
       "      <td>0.195503</td>\n",
       "      <td>746.643463</td>\n",
       "      <td>2995.321747</td>\n",
       "      <td>4.264599</td>\n",
       "      <td>12.239537</td>\n",
       "    </tr>\n",
       "    <tr>\n",
       "      <th>3</th>\n",
       "      <td>3.0</td>\n",
       "      <td>2.013208</td>\n",
       "      <td>857.641880</td>\n",
       "      <td>93.191779</td>\n",
       "      <td>1.741202</td>\n",
       "      <td>26.243981</td>\n",
       "      <td>0.364027</td>\n",
       "      <td>648.419805</td>\n",
       "      <td>2992.901051</td>\n",
       "      <td>1.554044</td>\n",
       "      <td>4.668511</td>\n",
       "    </tr>\n",
       "    <tr>\n",
       "      <th>0</th>\n",
       "      <td>total</td>\n",
       "      <td>2.215791</td>\n",
       "      <td>3368.827492</td>\n",
       "      <td>72.967605</td>\n",
       "      <td>6.328282</td>\n",
       "      <td>40.917290</td>\n",
       "      <td>0.202154</td>\n",
       "      <td>827.286598</td>\n",
       "      <td>3301.936460</td>\n",
       "      <td>2.308216</td>\n",
       "      <td>7.547900</td>\n",
       "    </tr>\n",
       "  </tbody>\n",
       "</table>\n",
       "</div>"
      ],
      "text/plain": [
       "  cluster  cntr_cnt  sum_fee_amt  ...   avg_jn_amt  in_fund_cnt  wd_fund_cnt\n",
       "0     0.0  2.678864  1954.326700  ...  3339.349294     1.843796     7.326210\n",
       "1     1.0  2.000620  2077.054234  ...  3880.173747     1.570426     5.957343\n",
       "2     2.0  2.170472  8586.287156  ...  2995.321747     4.264599    12.239537\n",
       "3     3.0  2.013208   857.641880  ...  2992.901051     1.554044     4.668511\n",
       "0   total  2.215791  3368.827492  ...  3301.936460     2.308216     7.547900\n",
       "\n",
       "[5 rows x 11 columns]"
      ]
     },
     "execution_count": 243,
     "metadata": {},
     "output_type": "execute_result"
    }
   ],
   "source": [
    "# 변수별 전체 평균값(total) 행 추가\n",
    "cluster_inf = pd.concat([cluster_inf, pd.DataFrame(cluster_inf.mean()).T], axis = 0)\n",
    "cluster_inf = cluster_inf.astype({'cluster': 'str'})\n",
    "cluster_inf.iloc[4, 0] = \"total\"\n",
    "cluster_inf"
   ]
  },
  {
   "cell_type": "code",
   "execution_count": 244,
   "metadata": {
    "executionInfo": {
     "elapsed": 90,
     "status": "ok",
     "timestamp": 1632918833118,
     "user": {
      "displayName": "성균관대이지연",
      "photoUrl": "https://lh3.googleusercontent.com/a/default-user=s64",
      "userId": "06932829462441791260"
     },
     "user_tz": -540
    },
    "id": "eJTvfaHE1MBq"
   },
   "outputs": [],
   "source": [
    "# 클러스터명 변경\n",
    "cluster_inf.loc[cluster_inf['cluster'] == '0.0', 'cluster'] = 'MVIP형'\n",
    "cluster_inf.loc[cluster_inf['cluster'] == '1.0', 'cluster'] = '보험중심형'\n",
    "cluster_inf.loc[cluster_inf['cluster'] == '2.0', 'cluster'] = '다다익선형'\n",
    "cluster_inf.loc[cluster_inf['cluster'] == '3.0', 'cluster'] = '주식중심형'"
   ]
  },
  {
   "cell_type": "code",
   "execution_count": 245,
   "metadata": {
    "colab": {
     "base_uri": "https://localhost:8080/",
     "height": 0
    },
    "executionInfo": {
     "elapsed": 89,
     "status": "ok",
     "timestamp": 1632918833119,
     "user": {
      "displayName": "성균관대이지연",
      "photoUrl": "https://lh3.googleusercontent.com/a/default-user=s64",
      "userId": "06932829462441791260"
     },
     "user_tz": -540
    },
    "id": "f7LHC41r1gu0",
    "outputId": "30c0421b-032e-44b8-c51c-f7eb5415154d"
   },
   "outputs": [
    {
     "data": {
      "text/html": [
       "<div>\n",
       "<style scoped>\n",
       "    .dataframe tbody tr th:only-of-type {\n",
       "        vertical-align: middle;\n",
       "    }\n",
       "\n",
       "    .dataframe tbody tr th {\n",
       "        vertical-align: top;\n",
       "    }\n",
       "\n",
       "    .dataframe thead th {\n",
       "        text-align: right;\n",
       "    }\n",
       "</style>\n",
       "<table border=\"1\" class=\"dataframe\">\n",
       "  <thead>\n",
       "    <tr style=\"text-align: right;\">\n",
       "      <th></th>\n",
       "      <th>cluster</th>\n",
       "      <th>cntr_cnt</th>\n",
       "      <th>sum_fee_amt</th>\n",
       "      <th>avg_max_pay</th>\n",
       "      <th>avg_ch_cntr_cnt</th>\n",
       "      <th>fund_cd_num</th>\n",
       "      <th>fund_ratio</th>\n",
       "      <th>avg_cssc</th>\n",
       "      <th>avg_jn_amt</th>\n",
       "      <th>in_fund_cnt</th>\n",
       "      <th>wd_fund_cnt</th>\n",
       "    </tr>\n",
       "  </thead>\n",
       "  <tbody>\n",
       "    <tr>\n",
       "      <th>0</th>\n",
       "      <td>MVIP형</td>\n",
       "      <td>2.678864</td>\n",
       "      <td>1954.326700</td>\n",
       "      <td>53.520891</td>\n",
       "      <td>14.857792</td>\n",
       "      <td>39.599011</td>\n",
       "      <td>0.124411</td>\n",
       "      <td>1084.621205</td>\n",
       "      <td>3339.349294</td>\n",
       "      <td>1.843796</td>\n",
       "      <td>7.326210</td>\n",
       "    </tr>\n",
       "    <tr>\n",
       "      <th>1</th>\n",
       "      <td>보험중심형</td>\n",
       "      <td>2.000620</td>\n",
       "      <td>2077.054234</td>\n",
       "      <td>60.039224</td>\n",
       "      <td>3.838060</td>\n",
       "      <td>29.114976</td>\n",
       "      <td>0.124674</td>\n",
       "      <td>829.461917</td>\n",
       "      <td>3880.173747</td>\n",
       "      <td>1.570426</td>\n",
       "      <td>5.957343</td>\n",
       "    </tr>\n",
       "    <tr>\n",
       "      <th>2</th>\n",
       "      <td>다다익선형</td>\n",
       "      <td>2.170472</td>\n",
       "      <td>8586.287156</td>\n",
       "      <td>85.118525</td>\n",
       "      <td>4.876075</td>\n",
       "      <td>68.711190</td>\n",
       "      <td>0.195503</td>\n",
       "      <td>746.643463</td>\n",
       "      <td>2995.321747</td>\n",
       "      <td>4.264599</td>\n",
       "      <td>12.239537</td>\n",
       "    </tr>\n",
       "    <tr>\n",
       "      <th>3</th>\n",
       "      <td>주식중심형</td>\n",
       "      <td>2.013208</td>\n",
       "      <td>857.641880</td>\n",
       "      <td>93.191779</td>\n",
       "      <td>1.741202</td>\n",
       "      <td>26.243981</td>\n",
       "      <td>0.364027</td>\n",
       "      <td>648.419805</td>\n",
       "      <td>2992.901051</td>\n",
       "      <td>1.554044</td>\n",
       "      <td>4.668511</td>\n",
       "    </tr>\n",
       "    <tr>\n",
       "      <th>0</th>\n",
       "      <td>total</td>\n",
       "      <td>2.215791</td>\n",
       "      <td>3368.827492</td>\n",
       "      <td>72.967605</td>\n",
       "      <td>6.328282</td>\n",
       "      <td>40.917290</td>\n",
       "      <td>0.202154</td>\n",
       "      <td>827.286598</td>\n",
       "      <td>3301.936460</td>\n",
       "      <td>2.308216</td>\n",
       "      <td>7.547900</td>\n",
       "    </tr>\n",
       "  </tbody>\n",
       "</table>\n",
       "</div>"
      ],
      "text/plain": [
       "  cluster  cntr_cnt  sum_fee_amt  ...   avg_jn_amt  in_fund_cnt  wd_fund_cnt\n",
       "0   MVIP형  2.678864  1954.326700  ...  3339.349294     1.843796     7.326210\n",
       "1   보험중심형  2.000620  2077.054234  ...  3880.173747     1.570426     5.957343\n",
       "2   다다익선형  2.170472  8586.287156  ...  2995.321747     4.264599    12.239537\n",
       "3   주식중심형  2.013208   857.641880  ...  2992.901051     1.554044     4.668511\n",
       "0   total  2.215791  3368.827492  ...  3301.936460     2.308216     7.547900\n",
       "\n",
       "[5 rows x 11 columns]"
      ]
     },
     "execution_count": 245,
     "metadata": {},
     "output_type": "execute_result"
    }
   ],
   "source": [
    "cluster_inf"
   ]
  },
  {
   "cell_type": "code",
   "execution_count": 246,
   "metadata": {
    "executionInfo": {
     "elapsed": 86,
     "status": "ok",
     "timestamp": 1632918833120,
     "user": {
      "displayName": "성균관대이지연",
      "photoUrl": "https://lh3.googleusercontent.com/a/default-user=s64",
      "userId": "06932829462441791260"
     },
     "user_tz": -540
    },
    "id": "3R3r_ELuIZj8"
   },
   "outputs": [],
   "source": [
    "cluster_inf.to_csv(\"/content/drive/MyDrive/miraeasset/대시보드용 데이터/cluster_inf.csv\", header = True, index = False)"
   ]
  },
  {
   "cell_type": "markdown",
   "metadata": {
    "id": "AEvvmQxIaguz"
   },
   "source": [
    "#### 펀드 및 키워드 시각화를 위한 전처리"
   ]
  },
  {
   "cell_type": "code",
   "execution_count": 247,
   "metadata": {
    "executionInfo": {
     "elapsed": 85,
     "status": "ok",
     "timestamp": 1632918833120,
     "user": {
      "displayName": "성균관대이지연",
      "photoUrl": "https://lh3.googleusercontent.com/a/default-user=s64",
      "userId": "06932829462441791260"
     },
     "user_tz": -540
    },
    "id": "Yqiy5VueIhQl"
   },
   "outputs": [],
   "source": [
    "# 펀드별 핵심 키워드 데이터 불러오기\n",
    "keyword = pd.read_csv(\"/content/drive/MyDrive/miraeasset/fund_keyword.csv\", encoding = 'euc-kr')"
   ]
  },
  {
   "cell_type": "code",
   "execution_count": 248,
   "metadata": {
    "colab": {
     "base_uri": "https://localhost:8080/",
     "height": 143
    },
    "executionInfo": {
     "elapsed": 86,
     "status": "ok",
     "timestamp": 1632918833121,
     "user": {
      "displayName": "성균관대이지연",
      "photoUrl": "https://lh3.googleusercontent.com/a/default-user=s64",
      "userId": "06932829462441791260"
     },
     "user_tz": -540
    },
    "id": "dUFfksn-auQh",
    "outputId": "2a589759-2939-43cc-ae0a-2fa7a7c6b4df"
   },
   "outputs": [
    {
     "data": {
      "text/html": [
       "<div>\n",
       "<style scoped>\n",
       "    .dataframe tbody tr th:only-of-type {\n",
       "        vertical-align: middle;\n",
       "    }\n",
       "\n",
       "    .dataframe tbody tr th {\n",
       "        vertical-align: top;\n",
       "    }\n",
       "\n",
       "    .dataframe thead th {\n",
       "        text-align: right;\n",
       "    }\n",
       "</style>\n",
       "<table border=\"1\" class=\"dataframe\">\n",
       "  <thead>\n",
       "    <tr style=\"text-align: right;\">\n",
       "      <th></th>\n",
       "      <th>fund_cd</th>\n",
       "      <th>fund_nm</th>\n",
       "      <th>keyword</th>\n",
       "    </tr>\n",
       "  </thead>\n",
       "  <tbody>\n",
       "    <tr>\n",
       "      <th>0</th>\n",
       "      <td>N2C0</td>\n",
       "      <td>아시아인프라</td>\n",
       "      <td>['인프라', '코로나19', '아시아', '배당', '섹터', '종식', '미국'...</td>\n",
       "    </tr>\n",
       "    <tr>\n",
       "      <th>1</th>\n",
       "      <td>N5A0</td>\n",
       "      <td>MMF형</td>\n",
       "      <td>['단기', '콜론', '금리', '양도', '증서', '금융', '매수', '예금...</td>\n",
       "    </tr>\n",
       "    <tr>\n",
       "      <th>2</th>\n",
       "      <td>N1B0</td>\n",
       "      <td>혼합형</td>\n",
       "      <td>['기여', '실적', '증감', '국내', '가능', '업종', '반도체', '예...</td>\n",
       "    </tr>\n",
       "  </tbody>\n",
       "</table>\n",
       "</div>"
      ],
      "text/plain": [
       "  fund_cd fund_nm                                            keyword\n",
       "0    N2C0  아시아인프라  ['인프라', '코로나19', '아시아', '배당', '섹터', '종식', '미국'...\n",
       "1    N5A0    MMF형  ['단기', '콜론', '금리', '양도', '증서', '금융', '매수', '예금...\n",
       "2    N1B0     혼합형  ['기여', '실적', '증감', '국내', '가능', '업종', '반도체', '예..."
      ]
     },
     "execution_count": 248,
     "metadata": {},
     "output_type": "execute_result"
    }
   ],
   "source": [
    "keyword = keyword.loc[:, ['fund_cd', 'fund_nm', 'keyword']]\n",
    "keyword.head(3)"
   ]
  },
  {
   "cell_type": "code",
   "execution_count": 249,
   "metadata": {
    "colab": {
     "base_uri": "https://localhost:8080/",
     "height": 528
    },
    "executionInfo": {
     "elapsed": 85,
     "status": "ok",
     "timestamp": 1632918833122,
     "user": {
      "displayName": "성균관대이지연",
      "photoUrl": "https://lh3.googleusercontent.com/a/default-user=s64",
      "userId": "06932829462441791260"
     },
     "user_tz": -540
    },
    "id": "LYAp-R_PbQKG",
    "outputId": "2f3f6692-4fdf-4439-9aa2-ce1c85807c8c"
   },
   "outputs": [
    {
     "data": {
      "text/html": [
       "<div>\n",
       "<style scoped>\n",
       "    .dataframe tbody tr th:only-of-type {\n",
       "        vertical-align: middle;\n",
       "    }\n",
       "\n",
       "    .dataframe tbody tr th {\n",
       "        vertical-align: top;\n",
       "    }\n",
       "\n",
       "    .dataframe thead th {\n",
       "        text-align: right;\n",
       "    }\n",
       "</style>\n",
       "<table border=\"1\" class=\"dataframe\">\n",
       "  <thead>\n",
       "    <tr style=\"text-align: right;\">\n",
       "      <th></th>\n",
       "      <th>gid</th>\n",
       "      <th>base_ym</th>\n",
       "      <th>product_cd</th>\n",
       "      <th>age_cd</th>\n",
       "      <th>channel_cd</th>\n",
       "      <th>gender</th>\n",
       "      <th>job_cd</th>\n",
       "      <th>pay_prd</th>\n",
       "      <th>loan_yn</th>\n",
       "      <th>rider</th>\n",
       "      <th>rcpt_cd</th>\n",
       "      <th>cntr_cnt</th>\n",
       "      <th>signgu_cd</th>\n",
       "      <th>avg_jn_amt</th>\n",
       "      <th>avg_cssc</th>\n",
       "      <th>sum_fee_amt</th>\n",
       "      <th>avg_max_pay</th>\n",
       "      <th>avg_ch_cntr_cnt</th>\n",
       "      <th>cntr_no_cnt</th>\n",
       "      <th>fund_avg_income_ratio</th>\n",
       "      <th>fund_min_income_ratio</th>\n",
       "      <th>fund_1q_income_ratio</th>\n",
       "      <th>fund_med_income_ratio</th>\n",
       "      <th>fund_3q_income_ratio</th>\n",
       "      <th>fund_max_income_ratio</th>\n",
       "      <th>fund_cd</th>\n",
       "      <th>avg_ch_fund_ratio</th>\n",
       "      <th>avg_bs_fund_ratio</th>\n",
       "      <th>avg_add_fund_ratio</th>\n",
       "      <th>in_fund_cnt</th>\n",
       "      <th>sum_in_fund_amt</th>\n",
       "      <th>min_in_fund_amt</th>\n",
       "      <th>max_in_fund_amt</th>\n",
       "      <th>med_in_fund_amt</th>\n",
       "      <th>avg_in_fund_amt</th>\n",
       "      <th>sum_in_fund_atcnt</th>\n",
       "      <th>min_in_fund_atcnt</th>\n",
       "      <th>max_in_fund_atcnt</th>\n",
       "      <th>med_in_fund_atcnt</th>\n",
       "      <th>avg_in_fund_atcnt</th>\n",
       "      <th>wd_fund_cnt</th>\n",
       "      <th>sum_wd_fund_amt</th>\n",
       "      <th>min_wd_fund_amt</th>\n",
       "      <th>max_wd_fund_amt</th>\n",
       "      <th>med_wd_fund_amt</th>\n",
       "      <th>avg_wd_fund_amt</th>\n",
       "      <th>sum_wd_fund_atcnt</th>\n",
       "      <th>min_wd_fund_atcnt</th>\n",
       "      <th>max_wd_fund_atcnt</th>\n",
       "      <th>med_wd_fund_atcnt</th>\n",
       "      <th>avg_wd_fund_atcnt</th>\n",
       "      <th>fund_price</th>\n",
       "      <th>fund_nm</th>\n",
       "      <th>fund_set_dt</th>\n",
       "      <th>operation_rsk</th>\n",
       "      <th>operation_conm</th>\n",
       "      <th>fund_expln</th>\n",
       "      <th>stck_expln</th>\n",
       "      <th>finan_bond_expln</th>\n",
       "      <th>fund_aset_cd</th>\n",
       "      <th>fund_stle_cd</th>\n",
       "      <th>insur_as_fund_cd</th>\n",
       "      <th>fund_diff_cd</th>\n",
       "      <th>finan_bond_cd</th>\n",
       "      <th>feh_cd</th>\n",
       "      <th>fund_cd_num</th>\n",
       "      <th>fund_stle_num</th>\n",
       "      <th>fund_ratio</th>\n",
       "      <th>cluster</th>\n",
       "      <th>keyword</th>\n",
       "    </tr>\n",
       "  </thead>\n",
       "  <tbody>\n",
       "    <tr>\n",
       "      <th>0</th>\n",
       "      <td>7766143.0</td>\n",
       "      <td>2020-11-01</td>\n",
       "      <td>2</td>\n",
       "      <td>41_55</td>\n",
       "      <td>2</td>\n",
       "      <td>0</td>\n",
       "      <td>B</td>\n",
       "      <td>1</td>\n",
       "      <td>0</td>\n",
       "      <td>1</td>\n",
       "      <td>1</td>\n",
       "      <td>1</td>\n",
       "      <td>1</td>\n",
       "      <td>4467</td>\n",
       "      <td>500</td>\n",
       "      <td>655</td>\n",
       "      <td>75</td>\n",
       "      <td>11.0</td>\n",
       "      <td>15</td>\n",
       "      <td>17.54</td>\n",
       "      <td>2.56</td>\n",
       "      <td>7.5</td>\n",
       "      <td>16.0</td>\n",
       "      <td>21.0</td>\n",
       "      <td>45.63</td>\n",
       "      <td>N2C0</td>\n",
       "      <td>NaN</td>\n",
       "      <td>NaN</td>\n",
       "      <td>NaN</td>\n",
       "      <td>1</td>\n",
       "      <td>5.0</td>\n",
       "      <td>5.0</td>\n",
       "      <td>5.0</td>\n",
       "      <td>5.0</td>\n",
       "      <td>5.0</td>\n",
       "      <td>4.0</td>\n",
       "      <td>4.0</td>\n",
       "      <td>4.0</td>\n",
       "      <td>4.0</td>\n",
       "      <td>4.0</td>\n",
       "      <td>2</td>\n",
       "      <td>0.0</td>\n",
       "      <td>0.0</td>\n",
       "      <td>0.0</td>\n",
       "      <td>0.0</td>\n",
       "      <td>0.0</td>\n",
       "      <td>0.0</td>\n",
       "      <td>0.0</td>\n",
       "      <td>0.0</td>\n",
       "      <td>0.0</td>\n",
       "      <td>0.0</td>\n",
       "      <td>1313.65</td>\n",
       "      <td>아시아인프라</td>\n",
       "      <td>20080415</td>\n",
       "      <td>3</td>\n",
       "      <td>이스트스프링자산운용</td>\n",
       "      <td>자산의 60% 이상을 아시아 국가의 인프라관련 주식 및 아시아국가 인프라 주식을 주...</td>\n",
       "      <td>60% 이상을 아시아 각국의 인프라 산업과 관련된 주식 및 주식형 펀드</td>\n",
       "      <td>40% 이내에서 현예금(외화 현예금 포함), MMF 등을 포함한 유동성 자산</td>\n",
       "      <td>8</td>\n",
       "      <td>6</td>\n",
       "      <td>KLVL3400W15</td>\n",
       "      <td>0</td>\n",
       "      <td>2</td>\n",
       "      <td>2</td>\n",
       "      <td>31</td>\n",
       "      <td>15</td>\n",
       "      <td>0.052288</td>\n",
       "      <td>0</td>\n",
       "      <td>['인프라', '코로나19', '아시아', '배당', '섹터', '종식', '미국'...</td>\n",
       "    </tr>\n",
       "    <tr>\n",
       "      <th>1</th>\n",
       "      <td>7766143.0</td>\n",
       "      <td>2020-03-01</td>\n",
       "      <td>2</td>\n",
       "      <td>41_55</td>\n",
       "      <td>2</td>\n",
       "      <td>0</td>\n",
       "      <td>B</td>\n",
       "      <td>1</td>\n",
       "      <td>0</td>\n",
       "      <td>1</td>\n",
       "      <td>1</td>\n",
       "      <td>1</td>\n",
       "      <td>1</td>\n",
       "      <td>4467</td>\n",
       "      <td>500</td>\n",
       "      <td>655</td>\n",
       "      <td>75</td>\n",
       "      <td>11.0</td>\n",
       "      <td>15</td>\n",
       "      <td>9.82</td>\n",
       "      <td>0.12</td>\n",
       "      <td>4.0</td>\n",
       "      <td>8.0</td>\n",
       "      <td>12.5</td>\n",
       "      <td>27.71</td>\n",
       "      <td>N5A0</td>\n",
       "      <td>NaN</td>\n",
       "      <td>NaN</td>\n",
       "      <td>NaN</td>\n",
       "      <td>0</td>\n",
       "      <td>NaN</td>\n",
       "      <td>NaN</td>\n",
       "      <td>NaN</td>\n",
       "      <td>NaN</td>\n",
       "      <td>NaN</td>\n",
       "      <td>NaN</td>\n",
       "      <td>NaN</td>\n",
       "      <td>NaN</td>\n",
       "      <td>NaN</td>\n",
       "      <td>NaN</td>\n",
       "      <td>3</td>\n",
       "      <td>0.0</td>\n",
       "      <td>0.0</td>\n",
       "      <td>0.0</td>\n",
       "      <td>0.0</td>\n",
       "      <td>0.0</td>\n",
       "      <td>0.0</td>\n",
       "      <td>0.0</td>\n",
       "      <td>0.0</td>\n",
       "      <td>0.0</td>\n",
       "      <td>0.0</td>\n",
       "      <td>1438.67</td>\n",
       "      <td>MMF형</td>\n",
       "      <td>20040607</td>\n",
       "      <td>5</td>\n",
       "      <td>KB자산운용</td>\n",
       "      <td>MMF형 펀드, 콜론 등의 단기유동성 금융자산에 90% 이상 투자</td>\n",
       "      <td>투자하지 않음</td>\n",
       "      <td>단기유동성 금융자산</td>\n",
       "      <td>4</td>\n",
       "      <td>9</td>\n",
       "      <td>KLVL3400V14</td>\n",
       "      <td>0</td>\n",
       "      <td>1</td>\n",
       "      <td>2</td>\n",
       "      <td>31</td>\n",
       "      <td>15</td>\n",
       "      <td>0.052288</td>\n",
       "      <td>0</td>\n",
       "      <td>['단기', '콜론', '금리', '양도', '증서', '금융', '매수', '예금...</td>\n",
       "    </tr>\n",
       "    <tr>\n",
       "      <th>2</th>\n",
       "      <td>7766143.0</td>\n",
       "      <td>2020-05-01</td>\n",
       "      <td>2</td>\n",
       "      <td>41_55</td>\n",
       "      <td>2</td>\n",
       "      <td>0</td>\n",
       "      <td>B</td>\n",
       "      <td>1</td>\n",
       "      <td>0</td>\n",
       "      <td>1</td>\n",
       "      <td>1</td>\n",
       "      <td>1</td>\n",
       "      <td>1</td>\n",
       "      <td>4467</td>\n",
       "      <td>500</td>\n",
       "      <td>655</td>\n",
       "      <td>75</td>\n",
       "      <td>11.0</td>\n",
       "      <td>15</td>\n",
       "      <td>5.70</td>\n",
       "      <td>-11.87</td>\n",
       "      <td>1.0</td>\n",
       "      <td>5.0</td>\n",
       "      <td>10.5</td>\n",
       "      <td>19.89</td>\n",
       "      <td>N1B0</td>\n",
       "      <td>NaN</td>\n",
       "      <td>NaN</td>\n",
       "      <td>NaN</td>\n",
       "      <td>1</td>\n",
       "      <td>11.0</td>\n",
       "      <td>11.0</td>\n",
       "      <td>11.0</td>\n",
       "      <td>11.0</td>\n",
       "      <td>11.0</td>\n",
       "      <td>5.0</td>\n",
       "      <td>5.0</td>\n",
       "      <td>5.0</td>\n",
       "      <td>5.0</td>\n",
       "      <td>5.0</td>\n",
       "      <td>3</td>\n",
       "      <td>0.0</td>\n",
       "      <td>0.0</td>\n",
       "      <td>0.0</td>\n",
       "      <td>0.0</td>\n",
       "      <td>0.0</td>\n",
       "      <td>0.0</td>\n",
       "      <td>0.0</td>\n",
       "      <td>0.0</td>\n",
       "      <td>0.0</td>\n",
       "      <td>0.0</td>\n",
       "      <td>2388.41</td>\n",
       "      <td>혼합형</td>\n",
       "      <td>20040607</td>\n",
       "      <td>3</td>\n",
       "      <td>교보악사자산운용</td>\n",
       "      <td>자산의 50%를 주식 및 주식형펀드, 50%를 채권 및 채권형펀드에 투자</td>\n",
       "      <td>50%를 주식 및 주식형 펀드, 20% 범위 내에서 증감이 가능</td>\n",
       "      <td>50%를 채권 및 채권형 펀드, 20% 범위 내에서 증감이 가능, 현예금, MMF ...</td>\n",
       "      <td>1</td>\n",
       "      <td>2</td>\n",
       "      <td>KLVL3400V12</td>\n",
       "      <td>1</td>\n",
       "      <td>2</td>\n",
       "      <td>2</td>\n",
       "      <td>31</td>\n",
       "      <td>15</td>\n",
       "      <td>0.052288</td>\n",
       "      <td>0</td>\n",
       "      <td>['기여', '실적', '증감', '국내', '가능', '업종', '반도체', '예...</td>\n",
       "    </tr>\n",
       "  </tbody>\n",
       "</table>\n",
       "</div>"
      ],
      "text/plain": [
       "         gid  ...                                            keyword\n",
       "0  7766143.0  ...  ['인프라', '코로나19', '아시아', '배당', '섹터', '종식', '미국'...\n",
       "1  7766143.0  ...  ['단기', '콜론', '금리', '양도', '증서', '금융', '매수', '예금...\n",
       "2  7766143.0  ...  ['기여', '실적', '증감', '국내', '가능', '업종', '반도체', '예...\n",
       "\n",
       "[3 rows x 70 columns]"
      ]
     },
     "execution_count": 249,
     "metadata": {},
     "output_type": "execute_result"
    }
   ],
   "source": [
    "# 데이터에 병합\n",
    "data = pd.merge(data, keyword, how = 'left', left_on = ['fund_cd', 'fund_nm'], right_on = ['fund_cd', 'fund_nm'])\n",
    "data.head(3)"
   ]
  },
  {
   "cell_type": "code",
   "execution_count": 250,
   "metadata": {
    "executionInfo": {
     "elapsed": 742,
     "status": "ok",
     "timestamp": 1632918833785,
     "user": {
      "displayName": "성균관대이지연",
      "photoUrl": "https://lh3.googleusercontent.com/a/default-user=s64",
      "userId": "06932829462441791260"
     },
     "user_tz": -540
    },
    "id": "kFMp91ZtlwDC"
   },
   "outputs": [],
   "source": [
    "# 클러스터별로 거래한 펀드와 키워드만 추출\n",
    "zero_fund = data[data['cluster'] == 0]\n",
    "first_fund = data[data['cluster'] == 1]\n",
    "sec_fund = data[data['cluster'] == 2]\n",
    "thd_fund = data[data['cluster'] == 3]"
   ]
  },
  {
   "cell_type": "code",
   "execution_count": 251,
   "metadata": {
    "executionInfo": {
     "elapsed": 308,
     "status": "ok",
     "timestamp": 1632918834089,
     "user": {
      "displayName": "성균관대이지연",
      "photoUrl": "https://lh3.googleusercontent.com/a/default-user=s64",
      "userId": "06932829462441791260"
     },
     "user_tz": -540
    },
    "id": "QmDLHhN_1c6Z"
   },
   "outputs": [],
   "source": [
    "# 클러스터 거래 상위 10개 펀드 중 3개 이상의 클러스터에서 겹치는 펀드 제외\n",
    "zero_fund = zero_fund[~zero_fund['fund_cd'].isin(['N440', 'N5B0', 'N600', 'N400', 'N220', 'N410', 'N2E0'])].reset_index(drop = True)\n",
    "first_fund = first_fund[~first_fund['fund_cd'].isin(['N440', 'N5B0', 'N600', 'N400', 'N220', 'N410', 'N2E0'])].reset_index(drop = True)\n",
    "sec_fund = sec_fund[~sec_fund['fund_cd'].isin(['N440', 'N5B0', 'N600', 'N400', 'N220', 'N410', 'N2E0'])].reset_index(drop = True)\n",
    "thd_fund = thd_fund[~thd_fund['fund_cd'].isin(['N440', 'N5B0', 'N600', 'N400', 'N220', 'N410', 'N2E0'])].reset_index(drop = True)"
   ]
  },
  {
   "cell_type": "code",
   "execution_count": 252,
   "metadata": {
    "colab": {
     "base_uri": "https://localhost:8080/"
    },
    "executionInfo": {
     "elapsed": 16254,
     "status": "ok",
     "timestamp": 1632918850335,
     "user": {
      "displayName": "성균관대이지연",
      "photoUrl": "https://lh3.googleusercontent.com/a/default-user=s64",
      "userId": "06932829462441791260"
     },
     "user_tz": -540
    },
    "id": "3z4Rnl5xU9cR",
    "outputId": "97cadee0-f257-478d-e6da-d381f48e6790"
   },
   "outputs": [
    {
     "data": {
      "text/plain": [
       "[('미국', 53176),\n",
       " ('코로나19', 52671),\n",
       " ('섹터', 46264),\n",
       " ('종식', 42562),\n",
       " ('수익', 24193),\n",
       " ('금리', 23482),\n",
       " ('업종', 22786),\n",
       " ('성장', 20415),\n",
       " ('장기', 19893),\n",
       " ('상승', 18696),\n",
       " ('기업', 18370),\n",
       " ('아시아', 17228),\n",
       " ('국내', 16413),\n",
       " ('이머징', 15824),\n",
       " ('글로벌', 15704),\n",
       " ('경기', 15517),\n",
       " ('경제', 15508),\n",
       " ('기술', 15478),\n",
       " ('반도체', 13766),\n",
       " ('국채', 13155),\n",
       " ('배분', 12872),\n",
       " ('달러', 12724),\n",
       " ('중국', 11768),\n",
       " ('국내외', 11647),\n",
       " ('하이일드', 11507)]"
      ]
     },
     "execution_count": 252,
     "metadata": {},
     "output_type": "execute_result"
    }
   ],
   "source": [
    "# 클러스터별 상위 키워드 25개 추출\n",
    "# 클러스터1\n",
    "zero_keyword = []\n",
    "\n",
    "for i in range(zero_fund.shape[0]):\n",
    "  zero_keyword.extend(ast.literal_eval(zero_fund.loc[i, 'keyword']))\n",
    "\n",
    "counter_0 = collections.Counter(zero_keyword)\n",
    "counter_0.most_common(n = 25)"
   ]
  },
  {
   "cell_type": "code",
   "execution_count": 253,
   "metadata": {
    "colab": {
     "base_uri": "https://localhost:8080/"
    },
    "executionInfo": {
     "elapsed": 45,
     "status": "ok",
     "timestamp": 1632918850338,
     "user": {
      "displayName": "성균관대이지연",
      "photoUrl": "https://lh3.googleusercontent.com/a/default-user=s64",
      "userId": "06932829462441791260"
     },
     "user_tz": -540
    },
    "id": "Hb9oQINshziR",
    "outputId": "08558086-8738-4ded-8108-6aee5528e8ae"
   },
   "outputs": [
    {
     "data": {
      "text/plain": [
       "[('코로나19', 83166),\n",
       " ('미국', 82546),\n",
       " ('섹터', 72531),\n",
       " ('종식', 68502),\n",
       " ('업종', 39559),\n",
       " ('수익', 39455),\n",
       " ('금리', 36711),\n",
       " ('장기', 31238),\n",
       " ('성장', 31016),\n",
       " ('국내', 30202),\n",
       " ('기업', 30171),\n",
       " ('상승', 29967),\n",
       " ('아시아', 27718),\n",
       " ('글로벌', 26146),\n",
       " ('이머징', 25020),\n",
       " ('경제', 24432),\n",
       " ('반도체', 24396),\n",
       " ('기술', 24201),\n",
       " ('배분', 24181),\n",
       " ('경기', 22373),\n",
       " ('달러', 21857),\n",
       " ('증감', 21311),\n",
       " ('중국', 20496),\n",
       " ('국내외', 20229),\n",
       " ('하이일드', 19898)]"
      ]
     },
     "execution_count": 253,
     "metadata": {},
     "output_type": "execute_result"
    }
   ],
   "source": [
    "# 클러스터1\n",
    "first_keyword = []\n",
    "\n",
    "for i in range(first_fund.shape[0]):\n",
    "  first_keyword.extend(ast.literal_eval(first_fund.loc[i, 'keyword']))\n",
    "\n",
    "counter_1 = collections.Counter(first_keyword)\n",
    "counter_1.most_common(n = 25)"
   ]
  },
  {
   "cell_type": "code",
   "execution_count": 254,
   "metadata": {
    "colab": {
     "base_uri": "https://localhost:8080/"
    },
    "executionInfo": {
     "elapsed": 13419,
     "status": "ok",
     "timestamp": 1632918863732,
     "user": {
      "displayName": "성균관대이지연",
      "photoUrl": "https://lh3.googleusercontent.com/a/default-user=s64",
      "userId": "06932829462441791260"
     },
     "user_tz": -540
    },
    "id": "HQf-6G68tSHr",
    "outputId": "f782454f-c3e0-4132-eb40-b9b0d4259c67"
   },
   "outputs": [
    {
     "data": {
      "text/plain": [
       "[('코로나19', 164132),\n",
       " ('미국', 143497),\n",
       " ('섹터', 138199),\n",
       " ('종식', 122439),\n",
       " ('수익', 83258),\n",
       " ('성장', 78318),\n",
       " ('국내외', 76648),\n",
       " ('업종', 75830),\n",
       " ('금리', 70938),\n",
       " ('기업', 63827),\n",
       " ('상승', 61850),\n",
       " ('아시아', 58935),\n",
       " ('국내', 57328),\n",
       " ('글로벌', 56586),\n",
       " ('배분', 56533),\n",
       " ('장기', 56062),\n",
       " ('반도체', 49792),\n",
       " ('산업', 48406),\n",
       " ('경기', 46930),\n",
       " ('이머징', 46180),\n",
       " ('국가', 44970),\n",
       " ('기술', 44067),\n",
       " ('중국', 43710),\n",
       " ('국채', 43630),\n",
       " ('경제', 41340)]"
      ]
     },
     "execution_count": 254,
     "metadata": {},
     "output_type": "execute_result"
    }
   ],
   "source": [
    "# 클러스터2\n",
    "sec_keyword = []\n",
    "\n",
    "for i in range(sec_fund.shape[0]):\n",
    "  sec_keyword.extend(ast.literal_eval(sec_fund.loc[i, 'keyword']))\n",
    "\n",
    "counter_2 = collections.Counter(sec_keyword)\n",
    "counter_2.most_common(n = 25)"
   ]
  },
  {
   "cell_type": "code",
   "execution_count": 255,
   "metadata": {
    "colab": {
     "base_uri": "https://localhost:8080/"
    },
    "executionInfo": {
     "elapsed": 10806,
     "status": "ok",
     "timestamp": 1632918874508,
     "user": {
      "displayName": "성균관대이지연",
      "photoUrl": "https://lh3.googleusercontent.com/a/default-user=s64",
      "userId": "06932829462441791260"
     },
     "user_tz": -540
    },
    "id": "yr1KBnMEtcRD",
    "outputId": "23b273ef-c242-4b03-9ddd-e2c0940c4221"
   },
   "outputs": [
    {
     "data": {
      "text/plain": [
       "[('국내외', 67212),\n",
       " ('코로나19', 55406),\n",
       " ('섹터', 50270),\n",
       " ('성장', 47787),\n",
       " ('미국', 45884),\n",
       " ('종식', 42865),\n",
       " ('수익', 38494),\n",
       " ('업종', 29997),\n",
       " ('산업', 29375),\n",
       " ('기업', 28607),\n",
       " ('아시아', 27214),\n",
       " ('글로벌', 25895),\n",
       " ('가능', 25343),\n",
       " ('배분', 24656),\n",
       " ('금리', 24627),\n",
       " ('중국', 22189),\n",
       " ('장기', 21965),\n",
       " ('국가', 21621),\n",
       " ('반도체', 21514),\n",
       " ('국내', 18312),\n",
       " ('태평양', 17954),\n",
       " ('지수', 17740),\n",
       " ('세계', 17079),\n",
       " ('일본', 16992),\n",
       " ('인도', 16745)]"
      ]
     },
     "execution_count": 255,
     "metadata": {},
     "output_type": "execute_result"
    }
   ],
   "source": [
    "# 클러스터3\n",
    "thd_keyword = []\n",
    "\n",
    "for i in range(thd_fund.shape[0]):\n",
    "  thd_keyword.extend(ast.literal_eval(thd_fund.loc[i, 'keyword']))\n",
    "\n",
    "counter_3 = collections.Counter(thd_keyword)\n",
    "counter_3.most_common(n = 25)"
   ]
  },
  {
   "cell_type": "markdown",
   "metadata": {
    "id": "mhjrWPhHHjWI"
   },
   "source": [
    "클러스터간 상위 키워드가 겹치기 때문에 유의미해보이는 키워드 15개를 공통적으로 추출해 사용했습니다.  \n",
    "\n",
    "### 코로나19, 국내외, 성장, 미국, 아시아, 글로벌, 중국, 반도체, 국내, 이머징, 기술, 장기, 국채, 하이일드, 태평양\n"
   ]
  },
  {
   "cell_type": "code",
   "execution_count": 256,
   "metadata": {
    "executionInfo": {
     "elapsed": 3418,
     "status": "ok",
     "timestamp": 1632918874512,
     "user": {
      "displayName": "성균관대이지연",
      "photoUrl": "https://lh3.googleusercontent.com/a/default-user=s64",
      "userId": "06932829462441791260"
     },
     "user_tz": -540
    },
    "id": "HdYkZmanIVtd"
   },
   "outputs": [],
   "source": [
    "# 최종 키워드리스트\n",
    "keyword_list = ['코로나19', '국내외', '성장', '미국', '아시아', '글로벌', '중국', '반도체', '국내', '이머징', '기술', '장기', '국채', '하이일드', '태평양']\n",
    "\n",
    "# 모든 클러스터에서 최종 키워드의 카운트수를 나타내는 데이터프레임 만들기\n",
    "total_keyword = pd.DataFrame(index=range(0, 60), columns=['cluster','keyword', 'count'])"
   ]
  },
  {
   "cell_type": "code",
   "execution_count": 257,
   "metadata": {
    "executionInfo": {
     "elapsed": 3273,
     "status": "ok",
     "timestamp": 1632918874515,
     "user": {
      "displayName": "성균관대이지연",
      "photoUrl": "https://lh3.googleusercontent.com/a/default-user=s64",
      "userId": "06932829462441791260"
     },
     "user_tz": -540
    },
    "id": "vUaEQXS2Kq1L"
   },
   "outputs": [],
   "source": [
    "for i, word in enumerate(keyword_list):\n",
    "  total_keyword.loc[i, 'cluster'] = '0'\n",
    "  total_keyword.loc[i, 'keyword'] = word\n",
    "  total_keyword.loc[i, 'count'] = counter_0[word]\n",
    "\n",
    "for i, word in enumerate(keyword_list):\n",
    "  total_keyword.loc[i+15, 'cluster'] = '1'\n",
    "  total_keyword.loc[i+15, 'keyword'] = word\n",
    "  total_keyword.loc[i+15, 'count'] = counter_1[word]\n",
    "\n",
    "for i, word in enumerate(keyword_list):\n",
    "  total_keyword.loc[i+30, 'cluster'] = '2'\n",
    "  total_keyword.loc[i+30, 'keyword'] = word\n",
    "  total_keyword.loc[i+30, 'count'] = counter_2[word]\n",
    "\n",
    "for i, word in enumerate(keyword_list):\n",
    "  total_keyword.loc[i+45, 'cluster'] = '3'\n",
    "  total_keyword.loc[i+45, 'keyword'] = word\n",
    "  total_keyword.loc[i+45, 'count'] = counter_3[word]"
   ]
  },
  {
   "cell_type": "code",
   "execution_count": 258,
   "metadata": {
    "colab": {
     "base_uri": "https://localhost:8080/",
     "height": 206
    },
    "executionInfo": {
     "elapsed": 3145,
     "status": "ok",
     "timestamp": 1632918874519,
     "user": {
      "displayName": "성균관대이지연",
      "photoUrl": "https://lh3.googleusercontent.com/a/default-user=s64",
      "userId": "06932829462441791260"
     },
     "user_tz": -540
    },
    "id": "C1f5WRceLhEc",
    "outputId": "0dd8d36a-a49c-428a-a037-dd3765d68b62"
   },
   "outputs": [
    {
     "data": {
      "text/html": [
       "<div>\n",
       "<style scoped>\n",
       "    .dataframe tbody tr th:only-of-type {\n",
       "        vertical-align: middle;\n",
       "    }\n",
       "\n",
       "    .dataframe tbody tr th {\n",
       "        vertical-align: top;\n",
       "    }\n",
       "\n",
       "    .dataframe thead th {\n",
       "        text-align: right;\n",
       "    }\n",
       "</style>\n",
       "<table border=\"1\" class=\"dataframe\">\n",
       "  <thead>\n",
       "    <tr style=\"text-align: right;\">\n",
       "      <th></th>\n",
       "      <th>cluster</th>\n",
       "      <th>keyword</th>\n",
       "      <th>count</th>\n",
       "    </tr>\n",
       "  </thead>\n",
       "  <tbody>\n",
       "    <tr>\n",
       "      <th>0</th>\n",
       "      <td>0</td>\n",
       "      <td>코로나19</td>\n",
       "      <td>52671</td>\n",
       "    </tr>\n",
       "    <tr>\n",
       "      <th>1</th>\n",
       "      <td>0</td>\n",
       "      <td>국내외</td>\n",
       "      <td>11647</td>\n",
       "    </tr>\n",
       "    <tr>\n",
       "      <th>2</th>\n",
       "      <td>0</td>\n",
       "      <td>성장</td>\n",
       "      <td>20415</td>\n",
       "    </tr>\n",
       "    <tr>\n",
       "      <th>3</th>\n",
       "      <td>0</td>\n",
       "      <td>미국</td>\n",
       "      <td>53176</td>\n",
       "    </tr>\n",
       "    <tr>\n",
       "      <th>4</th>\n",
       "      <td>0</td>\n",
       "      <td>아시아</td>\n",
       "      <td>17228</td>\n",
       "    </tr>\n",
       "  </tbody>\n",
       "</table>\n",
       "</div>"
      ],
      "text/plain": [
       "  cluster keyword  count\n",
       "0       0   코로나19  52671\n",
       "1       0     국내외  11647\n",
       "2       0      성장  20415\n",
       "3       0      미국  53176\n",
       "4       0     아시아  17228"
      ]
     },
     "execution_count": 258,
     "metadata": {},
     "output_type": "execute_result"
    }
   ],
   "source": [
    "total_keyword.head()"
   ]
  },
  {
   "cell_type": "code",
   "execution_count": 259,
   "metadata": {
    "executionInfo": {
     "elapsed": 493,
     "status": "ok",
     "timestamp": 1632918874522,
     "user": {
      "displayName": "성균관대이지연",
      "photoUrl": "https://lh3.googleusercontent.com/a/default-user=s64",
      "userId": "06932829462441791260"
     },
     "user_tz": -540
    },
    "id": "9rZUR_WiV2fn"
   },
   "outputs": [],
   "source": [
    "# 전체 펀드 중 키워드가 포함된 펀드만 추출\n",
    "keyword_fund = pd.DataFrame(index=range(0, 154*15), columns=['fund_cd','keyword'])\n",
    "s = 0\n",
    "\n",
    "for i in range(keyword.shape[0]):\n",
    "  for word in keyword_list:\n",
    "    if word in ast.literal_eval(keyword.loc[i, 'keyword']):\n",
    "      keyword_fund.loc[s, 'fund_cd'] = keyword.loc[i, 'fund_cd']\n",
    "      keyword_fund.loc[s, 'keyword'] = word\n",
    "      s += 1"
   ]
  },
  {
   "cell_type": "code",
   "execution_count": 260,
   "metadata": {
    "colab": {
     "base_uri": "https://localhost:8080/",
     "height": 423
    },
    "executionInfo": {
     "elapsed": 492,
     "status": "ok",
     "timestamp": 1632918874523,
     "user": {
      "displayName": "성균관대이지연",
      "photoUrl": "https://lh3.googleusercontent.com/a/default-user=s64",
      "userId": "06932829462441791260"
     },
     "user_tz": -540
    },
    "id": "4qsI_q8Hywk9",
    "outputId": "38463385-969e-4c26-ed4c-de4c7f55d96a"
   },
   "outputs": [
    {
     "data": {
      "text/html": [
       "<div>\n",
       "<style scoped>\n",
       "    .dataframe tbody tr th:only-of-type {\n",
       "        vertical-align: middle;\n",
       "    }\n",
       "\n",
       "    .dataframe tbody tr th {\n",
       "        vertical-align: top;\n",
       "    }\n",
       "\n",
       "    .dataframe thead th {\n",
       "        text-align: right;\n",
       "    }\n",
       "</style>\n",
       "<table border=\"1\" class=\"dataframe\">\n",
       "  <thead>\n",
       "    <tr style=\"text-align: right;\">\n",
       "      <th></th>\n",
       "      <th>fund_cd</th>\n",
       "      <th>keyword</th>\n",
       "    </tr>\n",
       "  </thead>\n",
       "  <tbody>\n",
       "    <tr>\n",
       "      <th>0</th>\n",
       "      <td>N2C0</td>\n",
       "      <td>코로나19</td>\n",
       "    </tr>\n",
       "    <tr>\n",
       "      <th>1</th>\n",
       "      <td>N2C0</td>\n",
       "      <td>미국</td>\n",
       "    </tr>\n",
       "    <tr>\n",
       "      <th>2</th>\n",
       "      <td>N2C0</td>\n",
       "      <td>아시아</td>\n",
       "    </tr>\n",
       "    <tr>\n",
       "      <th>3</th>\n",
       "      <td>N1B0</td>\n",
       "      <td>반도체</td>\n",
       "    </tr>\n",
       "    <tr>\n",
       "      <th>4</th>\n",
       "      <td>N1B0</td>\n",
       "      <td>국내</td>\n",
       "    </tr>\n",
       "    <tr>\n",
       "      <th>...</th>\n",
       "      <td>...</td>\n",
       "      <td>...</td>\n",
       "    </tr>\n",
       "    <tr>\n",
       "      <th>287</th>\n",
       "      <td>W307</td>\n",
       "      <td>국내외</td>\n",
       "    </tr>\n",
       "    <tr>\n",
       "      <th>288</th>\n",
       "      <td>W307</td>\n",
       "      <td>아시아</td>\n",
       "    </tr>\n",
       "    <tr>\n",
       "      <th>289</th>\n",
       "      <td>N9H0</td>\n",
       "      <td>국내</td>\n",
       "    </tr>\n",
       "    <tr>\n",
       "      <th>290</th>\n",
       "      <td>N250</td>\n",
       "      <td>중국</td>\n",
       "    </tr>\n",
       "    <tr>\n",
       "      <th>291</th>\n",
       "      <td>U204</td>\n",
       "      <td>중국</td>\n",
       "    </tr>\n",
       "  </tbody>\n",
       "</table>\n",
       "<p>292 rows × 2 columns</p>\n",
       "</div>"
      ],
      "text/plain": [
       "    fund_cd keyword\n",
       "0      N2C0   코로나19\n",
       "1      N2C0      미국\n",
       "2      N2C0     아시아\n",
       "3      N1B0     반도체\n",
       "4      N1B0      국내\n",
       "..      ...     ...\n",
       "287    W307     국내외\n",
       "288    W307     아시아\n",
       "289    N9H0      국내\n",
       "290    N250      중국\n",
       "291    U204      중국\n",
       "\n",
       "[292 rows x 2 columns]"
      ]
     },
     "execution_count": 260,
     "metadata": {},
     "output_type": "execute_result"
    }
   ],
   "source": [
    "keyword_fund = keyword_fund.drop_duplicates().iloc[:292,:]\n",
    "keyword_fund"
   ]
  },
  {
   "cell_type": "code",
   "execution_count": 261,
   "metadata": {
    "executionInfo": {
     "elapsed": 2682,
     "status": "ok",
     "timestamp": 1632918876719,
     "user": {
      "displayName": "성균관대이지연",
      "photoUrl": "https://lh3.googleusercontent.com/a/default-user=s64",
      "userId": "06932829462441791260"
     },
     "user_tz": -540
    },
    "id": "0f_YlSgm3EPB"
   },
   "outputs": [],
   "source": [
    "# 각 클러스터별로 (겹치는 펀드 제외) 상위 20개 펀드 뽑기\n",
    "zero_count = zero_fund.groupby(['fund_cd']).count().sort_values(by = ['gid'], ascending = False).reset_index()\n",
    "first_count = first_fund.groupby(['fund_cd']).count().sort_values(by = ['gid'], ascending = False).reset_index()\n",
    "sec_count = sec_fund.groupby(['fund_cd']).count().sort_values(by = ['gid'], ascending = False).reset_index()\n",
    "thd_count = thd_fund.groupby(['fund_cd']).count().sort_values(by = ['gid'], ascending = False).reset_index()"
   ]
  },
  {
   "cell_type": "code",
   "execution_count": 262,
   "metadata": {
    "executionInfo": {
     "elapsed": 129,
     "status": "ok",
     "timestamp": 1632918876721,
     "user": {
      "displayName": "성균관대이지연",
      "photoUrl": "https://lh3.googleusercontent.com/a/default-user=s64",
      "userId": "06932829462441791260"
     },
     "user_tz": -540
    },
    "id": "efLglT9v3sXO"
   },
   "outputs": [],
   "source": [
    "# 15개 키워드를 포함하는 펀드 중 상위 20개\n",
    "zero_count = zero_count[zero_count['fund_cd'].isin(set(keyword_fund['fund_cd'].tolist()))].head(20).loc[:,'fund_cd'].tolist()\n",
    "first_count = first_count[first_count['fund_cd'].isin(set(keyword_fund['fund_cd'].tolist()))].head(20).loc[:,'fund_cd'].tolist()\n",
    "sec_count = sec_count[sec_count['fund_cd'].isin(set(keyword_fund['fund_cd'].tolist()))].head(20).loc[:,'fund_cd'].tolist()\n",
    "thd_count = thd_count[thd_count['fund_cd'].isin(set(keyword_fund['fund_cd'].tolist()))].head(20).loc[:,'fund_cd'].tolist()"
   ]
  },
  {
   "cell_type": "code",
   "execution_count": 263,
   "metadata": {
    "executionInfo": {
     "elapsed": 115,
     "status": "ok",
     "timestamp": 1632918876722,
     "user": {
      "displayName": "성균관대이지연",
      "photoUrl": "https://lh3.googleusercontent.com/a/default-user=s64",
      "userId": "06932829462441791260"
     },
     "user_tz": -540
    },
    "id": "ZrGR6F4m5oG6"
   },
   "outputs": [],
   "source": [
    "# 전체 키워드 중에서 상위 셀에서 뽑은 단어들 추출\n",
    "zero_fund = keyword_fund[keyword_fund['fund_cd'].isin(zero_count)].reset_index(drop = True)\n",
    "first_fund = keyword_fund[keyword_fund['fund_cd'].isin(first_count)].reset_index(drop = True)\n",
    "sec_fund = keyword_fund[keyword_fund['fund_cd'].isin(sec_count)].reset_index(drop = True)\n",
    "thd_fund = keyword_fund[keyword_fund['fund_cd'].isin(thd_count)].reset_index(drop = True)"
   ]
  },
  {
   "cell_type": "code",
   "execution_count": 264,
   "metadata": {
    "colab": {
     "base_uri": "https://localhost:8080/",
     "height": 143
    },
    "executionInfo": {
     "elapsed": 115,
     "status": "ok",
     "timestamp": 1632918876724,
     "user": {
      "displayName": "성균관대이지연",
      "photoUrl": "https://lh3.googleusercontent.com/a/default-user=s64",
      "userId": "06932829462441791260"
     },
     "user_tz": -540
    },
    "id": "EQNlKzmX7jt2",
    "outputId": "43c83fd5-2716-4a0c-bfd3-a9b8438e537f"
   },
   "outputs": [
    {
     "data": {
      "text/html": [
       "<div>\n",
       "<style scoped>\n",
       "    .dataframe tbody tr th:only-of-type {\n",
       "        vertical-align: middle;\n",
       "    }\n",
       "\n",
       "    .dataframe tbody tr th {\n",
       "        vertical-align: top;\n",
       "    }\n",
       "\n",
       "    .dataframe thead th {\n",
       "        text-align: right;\n",
       "    }\n",
       "</style>\n",
       "<table border=\"1\" class=\"dataframe\">\n",
       "  <thead>\n",
       "    <tr style=\"text-align: right;\">\n",
       "      <th></th>\n",
       "      <th>fund_cd</th>\n",
       "      <th>keyword</th>\n",
       "      <th>cluster</th>\n",
       "    </tr>\n",
       "  </thead>\n",
       "  <tbody>\n",
       "    <tr>\n",
       "      <th>0</th>\n",
       "      <td>N4C0</td>\n",
       "      <td>코로나19</td>\n",
       "      <td>0</td>\n",
       "    </tr>\n",
       "    <tr>\n",
       "      <th>1</th>\n",
       "      <td>N4C0</td>\n",
       "      <td>미국</td>\n",
       "      <td>0</td>\n",
       "    </tr>\n",
       "    <tr>\n",
       "      <th>2</th>\n",
       "      <td>N750</td>\n",
       "      <td>미국</td>\n",
       "      <td>0</td>\n",
       "    </tr>\n",
       "  </tbody>\n",
       "</table>\n",
       "</div>"
      ],
      "text/plain": [
       "  fund_cd keyword cluster\n",
       "0    N4C0   코로나19       0\n",
       "1    N4C0      미국       0\n",
       "2    N750      미국       0"
      ]
     },
     "execution_count": 264,
     "metadata": {},
     "output_type": "execute_result"
    }
   ],
   "source": [
    "# 클러스터별 데이터셋 생성 \n",
    "zero_fund['cluster'] = '0'\n",
    "first_fund['cluster'] = '1'\n",
    "sec_fund['cluster'] = '2'\n",
    "thd_fund['cluster'] = '3'\n",
    "\n",
    "cluster_fund = pd.concat([zero_fund, first_fund, sec_fund, thd_fund], axis = 0)\n",
    "cluster_fund.head(3)"
   ]
  },
  {
   "cell_type": "code",
   "execution_count": 265,
   "metadata": {
    "executionInfo": {
     "elapsed": 111,
     "status": "ok",
     "timestamp": 1632918876725,
     "user": {
      "displayName": "성균관대이지연",
      "photoUrl": "https://lh3.googleusercontent.com/a/default-user=s64",
      "userId": "06932829462441791260"
     },
     "user_tz": -540
    },
    "id": "Npu9wtiUadpW"
   },
   "outputs": [],
   "source": [
    "# 데이터 병합\n",
    "final_keyword = pd.merge(total_keyword, cluster_fund, left_on= ['cluster', 'keyword'], right_on= ['cluster', 'keyword'], how='outer')"
   ]
  },
  {
   "cell_type": "code",
   "execution_count": 266,
   "metadata": {
    "colab": {
     "base_uri": "https://localhost:8080/",
     "height": 237
    },
    "executionInfo": {
     "elapsed": 111,
     "status": "ok",
     "timestamp": 1632918876727,
     "user": {
      "displayName": "성균관대이지연",
      "photoUrl": "https://lh3.googleusercontent.com/a/default-user=s64",
      "userId": "06932829462441791260"
     },
     "user_tz": -540
    },
    "id": "8lO5hjhU7KHm",
    "outputId": "4ebd525a-573f-42eb-e4c9-14ca00fd2b62"
   },
   "outputs": [
    {
     "data": {
      "text/html": [
       "<div>\n",
       "<style scoped>\n",
       "    .dataframe tbody tr th:only-of-type {\n",
       "        vertical-align: middle;\n",
       "    }\n",
       "\n",
       "    .dataframe tbody tr th {\n",
       "        vertical-align: top;\n",
       "    }\n",
       "\n",
       "    .dataframe thead th {\n",
       "        text-align: right;\n",
       "    }\n",
       "</style>\n",
       "<table border=\"1\" class=\"dataframe\">\n",
       "  <thead>\n",
       "    <tr style=\"text-align: right;\">\n",
       "      <th></th>\n",
       "      <th>cluster</th>\n",
       "      <th>keyword</th>\n",
       "      <th>count</th>\n",
       "      <th>fund_cd</th>\n",
       "    </tr>\n",
       "  </thead>\n",
       "  <tbody>\n",
       "    <tr>\n",
       "      <th>8</th>\n",
       "      <td>0</td>\n",
       "      <td>국내외</td>\n",
       "      <td>11647</td>\n",
       "      <td>NaN</td>\n",
       "    </tr>\n",
       "    <tr>\n",
       "      <th>50</th>\n",
       "      <td>0</td>\n",
       "      <td>태평양</td>\n",
       "      <td>4416</td>\n",
       "      <td>NaN</td>\n",
       "    </tr>\n",
       "    <tr>\n",
       "      <th>60</th>\n",
       "      <td>1</td>\n",
       "      <td>국내외</td>\n",
       "      <td>20229</td>\n",
       "      <td>NaN</td>\n",
       "    </tr>\n",
       "    <tr>\n",
       "      <th>102</th>\n",
       "      <td>1</td>\n",
       "      <td>태평양</td>\n",
       "      <td>7234</td>\n",
       "      <td>NaN</td>\n",
       "    </tr>\n",
       "    <tr>\n",
       "      <th>110</th>\n",
       "      <td>2</td>\n",
       "      <td>국내외</td>\n",
       "      <td>76648</td>\n",
       "      <td>NaN</td>\n",
       "    </tr>\n",
       "    <tr>\n",
       "      <th>206</th>\n",
       "      <td>3</td>\n",
       "      <td>하이일드</td>\n",
       "      <td>5770</td>\n",
       "      <td>NaN</td>\n",
       "    </tr>\n",
       "  </tbody>\n",
       "</table>\n",
       "</div>"
      ],
      "text/plain": [
       "    cluster keyword  count fund_cd\n",
       "8         0     국내외  11647     NaN\n",
       "50        0     태평양   4416     NaN\n",
       "60        1     국내외  20229     NaN\n",
       "102       1     태평양   7234     NaN\n",
       "110       2     국내외  76648     NaN\n",
       "206       3    하이일드   5770     NaN"
      ]
     },
     "execution_count": 266,
     "metadata": {},
     "output_type": "execute_result"
    }
   ],
   "source": [
    "# 상위 20개 펀드 중 해당 키워드를 가진 펀드가 존재하지 않은 경우\n",
    "final_keyword[final_keyword['fund_cd'].isnull()]"
   ]
  },
  {
   "cell_type": "markdown",
   "metadata": {
    "id": "vJZk7YCrG0XE"
   },
   "source": [
    "상위 20게 펀드 중에 해당 키워드를 가진 펀드가 존재하지 않을 경우 NaN이 된다.  \n",
    "'클러스터 0'과 '1'의 경우, `국내외`, `태평양` 이라는 키워드를 가진 펀드가 상위 20개 내에 존재하지 않고, '클러스터 2'는 `국내외`, '클러스터 3'은 `하이일드`라는 키워드를 가진 펀드가 존재하지 않는다."
   ]
  },
  {
   "cell_type": "code",
   "execution_count": 267,
   "metadata": {
    "executionInfo": {
     "elapsed": 107,
     "status": "ok",
     "timestamp": 1632918876728,
     "user": {
      "displayName": "성균관대이지연",
      "photoUrl": "https://lh3.googleusercontent.com/a/default-user=s64",
      "userId": "06932829462441791260"
     },
     "user_tz": -540
    },
    "id": "LNv3MGdz2plT"
   },
   "outputs": [],
   "source": [
    "# 클러스터별 최종 펀드/키워드 데이터셋 생성\n",
    "final_keyword = pd.merge(final_keyword, keyword, how = 'left', left_on = 'fund_cd', right_on = 'fund_cd')\n",
    "final_keyword.rename(columns = {'keyword_x' : 'keyword', 'keyword_y' : 'keyword_list'}, inplace = True)\n",
    "final_keyword = final_keyword[final_keyword.columns.difference(['keyword_list'])]"
   ]
  },
  {
   "cell_type": "code",
   "execution_count": 268,
   "metadata": {
    "colab": {
     "base_uri": "https://localhost:8080/",
     "height": 423
    },
    "executionInfo": {
     "elapsed": 107,
     "status": "ok",
     "timestamp": 1632918876730,
     "user": {
      "displayName": "성균관대이지연",
      "photoUrl": "https://lh3.googleusercontent.com/a/default-user=s64",
      "userId": "06932829462441791260"
     },
     "user_tz": -540
    },
    "id": "A-1qumNG7Z6m",
    "outputId": "c2909dcc-14bc-4187-a558-d9d6398eae7e"
   },
   "outputs": [
    {
     "data": {
      "text/html": [
       "<div>\n",
       "<style scoped>\n",
       "    .dataframe tbody tr th:only-of-type {\n",
       "        vertical-align: middle;\n",
       "    }\n",
       "\n",
       "    .dataframe tbody tr th {\n",
       "        vertical-align: top;\n",
       "    }\n",
       "\n",
       "    .dataframe thead th {\n",
       "        text-align: right;\n",
       "    }\n",
       "</style>\n",
       "<table border=\"1\" class=\"dataframe\">\n",
       "  <thead>\n",
       "    <tr style=\"text-align: right;\">\n",
       "      <th></th>\n",
       "      <th>cluster</th>\n",
       "      <th>count</th>\n",
       "      <th>fund_cd</th>\n",
       "      <th>fund_nm</th>\n",
       "      <th>keyword</th>\n",
       "    </tr>\n",
       "  </thead>\n",
       "  <tbody>\n",
       "    <tr>\n",
       "      <th>0</th>\n",
       "      <td>0</td>\n",
       "      <td>52671</td>\n",
       "      <td>N4C0</td>\n",
       "      <td>글로벌멀티인컴</td>\n",
       "      <td>코로나19</td>\n",
       "    </tr>\n",
       "    <tr>\n",
       "      <th>1</th>\n",
       "      <td>0</td>\n",
       "      <td>52671</td>\n",
       "      <td>N380</td>\n",
       "      <td>미국주식형</td>\n",
       "      <td>코로나19</td>\n",
       "    </tr>\n",
       "    <tr>\n",
       "      <th>2</th>\n",
       "      <td>0</td>\n",
       "      <td>52671</td>\n",
       "      <td>N4A0</td>\n",
       "      <td>해외성장형</td>\n",
       "      <td>코로나19</td>\n",
       "    </tr>\n",
       "    <tr>\n",
       "      <th>3</th>\n",
       "      <td>0</td>\n",
       "      <td>52671</td>\n",
       "      <td>N3C0</td>\n",
       "      <td>미국인컴앤그로쓰</td>\n",
       "      <td>코로나19</td>\n",
       "    </tr>\n",
       "    <tr>\n",
       "      <th>4</th>\n",
       "      <td>0</td>\n",
       "      <td>52671</td>\n",
       "      <td>N3A0</td>\n",
       "      <td>유럽주식형</td>\n",
       "      <td>코로나19</td>\n",
       "    </tr>\n",
       "    <tr>\n",
       "      <th>...</th>\n",
       "      <td>...</td>\n",
       "      <td>...</td>\n",
       "      <td>...</td>\n",
       "      <td>...</td>\n",
       "      <td>...</td>\n",
       "    </tr>\n",
       "    <tr>\n",
       "      <th>204</th>\n",
       "      <td>3</td>\n",
       "      <td>12390</td>\n",
       "      <td>N500</td>\n",
       "      <td>국내채권형</td>\n",
       "      <td>국채</td>\n",
       "    </tr>\n",
       "    <tr>\n",
       "      <th>205</th>\n",
       "      <td>3</td>\n",
       "      <td>12390</td>\n",
       "      <td>W111</td>\n",
       "      <td>글로벌채권형</td>\n",
       "      <td>국채</td>\n",
       "    </tr>\n",
       "    <tr>\n",
       "      <th>206</th>\n",
       "      <td>3</td>\n",
       "      <td>5770</td>\n",
       "      <td>NaN</td>\n",
       "      <td>NaN</td>\n",
       "      <td>하이일드</td>\n",
       "    </tr>\n",
       "    <tr>\n",
       "      <th>207</th>\n",
       "      <td>3</td>\n",
       "      <td>17954</td>\n",
       "      <td>W311</td>\n",
       "      <td>아시아퍼시픽컨슈머혼합자산배분형</td>\n",
       "      <td>태평양</td>\n",
       "    </tr>\n",
       "    <tr>\n",
       "      <th>208</th>\n",
       "      <td>3</td>\n",
       "      <td>17954</td>\n",
       "      <td>W607</td>\n",
       "      <td>아시아퍼시픽컨슈머주식안정자산배분형</td>\n",
       "      <td>태평양</td>\n",
       "    </tr>\n",
       "  </tbody>\n",
       "</table>\n",
       "<p>209 rows × 5 columns</p>\n",
       "</div>"
      ],
      "text/plain": [
       "    cluster  count fund_cd             fund_nm keyword\n",
       "0         0  52671    N4C0             글로벌멀티인컴   코로나19\n",
       "1         0  52671    N380               미국주식형   코로나19\n",
       "2         0  52671    N4A0               해외성장형   코로나19\n",
       "3         0  52671    N3C0            미국인컴앤그로쓰   코로나19\n",
       "4         0  52671    N3A0               유럽주식형   코로나19\n",
       "..      ...    ...     ...                 ...     ...\n",
       "204       3  12390    N500               국내채권형      국채\n",
       "205       3  12390    W111              글로벌채권형      국채\n",
       "206       3   5770     NaN                 NaN    하이일드\n",
       "207       3  17954    W311    아시아퍼시픽컨슈머혼합자산배분형     태평양\n",
       "208       3  17954    W607  아시아퍼시픽컨슈머주식안정자산배분형     태평양\n",
       "\n",
       "[209 rows x 5 columns]"
      ]
     },
     "execution_count": 268,
     "metadata": {},
     "output_type": "execute_result"
    }
   ],
   "source": [
    "final_keyword"
   ]
  },
  {
   "cell_type": "code",
   "execution_count": 269,
   "metadata": {
    "colab": {
     "base_uri": "https://localhost:8080/",
     "height": 143
    },
    "executionInfo": {
     "elapsed": 123,
     "status": "ok",
     "timestamp": 1632918876750,
     "user": {
      "displayName": "성균관대이지연",
      "photoUrl": "https://lh3.googleusercontent.com/a/default-user=s64",
      "userId": "06932829462441791260"
     },
     "user_tz": -540
    },
    "id": "YCC1sg7UOtcA",
    "outputId": "6041f419-8af1-44e3-df5e-21b05ee90745"
   },
   "outputs": [
    {
     "data": {
      "text/html": [
       "<div>\n",
       "<style scoped>\n",
       "    .dataframe tbody tr th:only-of-type {\n",
       "        vertical-align: middle;\n",
       "    }\n",
       "\n",
       "    .dataframe tbody tr th {\n",
       "        vertical-align: top;\n",
       "    }\n",
       "\n",
       "    .dataframe thead th {\n",
       "        text-align: right;\n",
       "    }\n",
       "</style>\n",
       "<table border=\"1\" class=\"dataframe\">\n",
       "  <thead>\n",
       "    <tr style=\"text-align: right;\">\n",
       "      <th></th>\n",
       "      <th>fund_cd</th>\n",
       "      <th>fund_aset_cd</th>\n",
       "      <th>fund_stle_cd</th>\n",
       "      <th>fund_expln</th>\n",
       "    </tr>\n",
       "  </thead>\n",
       "  <tbody>\n",
       "    <tr>\n",
       "      <th>0</th>\n",
       "      <td>N2C0</td>\n",
       "      <td>8</td>\n",
       "      <td>6</td>\n",
       "      <td>자산의 60% 이상을 아시아 국가의 인프라관련 주식 및 아시아국가 인프라 주식을 주...</td>\n",
       "    </tr>\n",
       "    <tr>\n",
       "      <th>1</th>\n",
       "      <td>N5A0</td>\n",
       "      <td>4</td>\n",
       "      <td>9</td>\n",
       "      <td>MMF형 펀드, 콜론 등의 단기유동성 금융자산에 90% 이상 투자</td>\n",
       "    </tr>\n",
       "    <tr>\n",
       "      <th>2</th>\n",
       "      <td>N1B0</td>\n",
       "      <td>1</td>\n",
       "      <td>2</td>\n",
       "      <td>자산의 50%를 주식 및 주식형펀드, 50%를 채권 및 채권형펀드에 투자</td>\n",
       "    </tr>\n",
       "  </tbody>\n",
       "</table>\n",
       "</div>"
      ],
      "text/plain": [
       "  fund_cd  ...                                         fund_expln\n",
       "0    N2C0  ...  자산의 60% 이상을 아시아 국가의 인프라관련 주식 및 아시아국가 인프라 주식을 주...\n",
       "1    N5A0  ...               MMF형 펀드, 콜론 등의 단기유동성 금융자산에 90% 이상 투자\n",
       "2    N1B0  ...           자산의 50%를 주식 및 주식형펀드, 50%를 채권 및 채권형펀드에 투자\n",
       "\n",
       "[3 rows x 4 columns]"
      ]
     },
     "execution_count": 269,
     "metadata": {},
     "output_type": "execute_result"
    }
   ],
   "source": [
    "# 펀드 자산구분코드, 펀드 스타일구분코드, 펀드 설명 변수 추가\n",
    "fund_data = data.loc[:, ['fund_cd', 'fund_aset_cd', 'fund_stle_cd', 'fund_expln']].drop_duplicates().reset_index(drop = True)\n",
    "fund_data.head(3)"
   ]
  },
  {
   "cell_type": "code",
   "execution_count": 270,
   "metadata": {
    "executionInfo": {
     "elapsed": 121,
     "status": "ok",
     "timestamp": 1632918876752,
     "user": {
      "displayName": "성균관대이지연",
      "photoUrl": "https://lh3.googleusercontent.com/a/default-user=s64",
      "userId": "06932829462441791260"
     },
     "user_tz": -540
    },
    "id": "scFGRFP2Rkme"
   },
   "outputs": [],
   "source": [
    "fund_data['fund_aset_cd'] = fund_data['fund_aset_cd'].astype(str)\n",
    "fund_data['fund_stle_cd'] = fund_data['fund_stle_cd'].astype(str)"
   ]
  },
  {
   "cell_type": "code",
   "execution_count": 271,
   "metadata": {
    "executionInfo": {
     "elapsed": 123,
     "status": "ok",
     "timestamp": 1632918876755,
     "user": {
      "displayName": "성균관대이지연",
      "photoUrl": "https://lh3.googleusercontent.com/a/default-user=s64",
      "userId": "06932829462441791260"
     },
     "user_tz": -540
    },
    "id": "xmHhNaSVPSTK"
   },
   "outputs": [],
   "source": [
    "fund_data['fund_stle_cd'] = fund_data['fund_stle_cd'].map({'1':'국내인덱스주식', '2': '국내성장주식', '3': '국내가치주식', '4': '국내배당주식', '5': '글로벌주식',\n",
    "                               '6': '이머징주식', '7': '컨슈머주식', '8': '국내일반채권', '9': '국내MMF', '10': '글로벌채권',\n",
    "                               '11': '이머징채권', '12': '하이일드채권', '13': '절대수익형', '14': '원자재', '15': '부동산',\n",
    "                               '16': '자산배분형', '17': '선진국주식', '18': '선진국채권'}, na_action = None)"
   ]
  },
  {
   "cell_type": "code",
   "execution_count": 272,
   "metadata": {
    "executionInfo": {
     "elapsed": 125,
     "status": "ok",
     "timestamp": 1632918876757,
     "user": {
      "displayName": "성균관대이지연",
      "photoUrl": "https://lh3.googleusercontent.com/a/default-user=s64",
      "userId": "06932829462441791260"
     },
     "user_tz": -540
    },
    "id": "Cmqq2lPQSXne"
   },
   "outputs": [],
   "source": [
    "fund_data['fund_aset_cd'] = fund_data['fund_aset_cd'].map({'1':'국내주식혼합', '2': '국내주식', '3': '국내채권혼합', '4': '국내채권', '5': '포트폴리오',\n",
    "                               '6': '대안투자', '7': '해외주식혼합', '8': '해외주식', '9': '해외채권', '10': '해외채권혼합'}, na_action = None)"
   ]
  },
  {
   "cell_type": "code",
   "execution_count": 273,
   "metadata": {
    "executionInfo": {
     "elapsed": 124,
     "status": "ok",
     "timestamp": 1632918876758,
     "user": {
      "displayName": "성균관대이지연",
      "photoUrl": "https://lh3.googleusercontent.com/a/default-user=s64",
      "userId": "06932829462441791260"
     },
     "user_tz": -540
    },
    "id": "RiYumZctTEOw"
   },
   "outputs": [],
   "source": [
    "final_keyword = pd.merge(final_keyword, fund_data, how = 'left', left_on = 'fund_cd', right_on = 'fund_cd')"
   ]
  },
  {
   "cell_type": "code",
   "execution_count": 274,
   "metadata": {
    "executionInfo": {
     "elapsed": 125,
     "status": "ok",
     "timestamp": 1632918876759,
     "user": {
      "displayName": "성균관대이지연",
      "photoUrl": "https://lh3.googleusercontent.com/a/default-user=s64",
      "userId": "06932829462441791260"
     },
     "user_tz": -540
    },
    "id": "KXcWqpsoLTlI"
   },
   "outputs": [],
   "source": [
    "final_keyword.loc[final_keyword['cluster'] == '0', 'cluster'] = 'MVIP형'\n",
    "final_keyword.loc[final_keyword['cluster'] == '1', 'cluster'] = '보험중심형'\n",
    "final_keyword.loc[final_keyword['cluster'] == '2', 'cluster'] = '다다익선형'\n",
    "final_keyword.loc[final_keyword['cluster'] == '3', 'cluster'] = '주식중심형'"
   ]
  },
  {
   "cell_type": "code",
   "execution_count": 275,
   "metadata": {
    "colab": {
     "base_uri": "https://localhost:8080/",
     "height": 423
    },
    "executionInfo": {
     "elapsed": 129,
     "status": "ok",
     "timestamp": 1632918876765,
     "user": {
      "displayName": "성균관대이지연",
      "photoUrl": "https://lh3.googleusercontent.com/a/default-user=s64",
      "userId": "06932829462441791260"
     },
     "user_tz": -540
    },
    "id": "CQFiF2hJGWB3",
    "outputId": "b82459c7-1192-428a-9daf-fc185d221e15"
   },
   "outputs": [
    {
     "data": {
      "text/html": [
       "<div>\n",
       "<style scoped>\n",
       "    .dataframe tbody tr th:only-of-type {\n",
       "        vertical-align: middle;\n",
       "    }\n",
       "\n",
       "    .dataframe tbody tr th {\n",
       "        vertical-align: top;\n",
       "    }\n",
       "\n",
       "    .dataframe thead th {\n",
       "        text-align: right;\n",
       "    }\n",
       "</style>\n",
       "<table border=\"1\" class=\"dataframe\">\n",
       "  <thead>\n",
       "    <tr style=\"text-align: right;\">\n",
       "      <th></th>\n",
       "      <th>cluster</th>\n",
       "      <th>count</th>\n",
       "      <th>fund_cd</th>\n",
       "      <th>fund_nm</th>\n",
       "      <th>keyword</th>\n",
       "      <th>fund_aset_cd</th>\n",
       "      <th>fund_stle_cd</th>\n",
       "      <th>fund_expln</th>\n",
       "    </tr>\n",
       "  </thead>\n",
       "  <tbody>\n",
       "    <tr>\n",
       "      <th>0</th>\n",
       "      <td>MVIP형</td>\n",
       "      <td>52671</td>\n",
       "      <td>N4C0</td>\n",
       "      <td>글로벌멀티인컴</td>\n",
       "      <td>코로나19</td>\n",
       "      <td>해외채권혼합</td>\n",
       "      <td>글로벌채권</td>\n",
       "      <td>전세계의 고배당 주식, 고수익 채권 등 안정적인 배당 및 이자수익 등을 제공하는 다...</td>\n",
       "    </tr>\n",
       "    <tr>\n",
       "      <th>1</th>\n",
       "      <td>MVIP형</td>\n",
       "      <td>52671</td>\n",
       "      <td>N380</td>\n",
       "      <td>미국주식형</td>\n",
       "      <td>코로나19</td>\n",
       "      <td>해외주식</td>\n",
       "      <td>선진국주식</td>\n",
       "      <td>미국 상장 주식에 주로 투자하여 장기적인 자본이익 추구</td>\n",
       "    </tr>\n",
       "    <tr>\n",
       "      <th>2</th>\n",
       "      <td>MVIP형</td>\n",
       "      <td>52671</td>\n",
       "      <td>N4A0</td>\n",
       "      <td>해외성장형</td>\n",
       "      <td>코로나19</td>\n",
       "      <td>해외주식</td>\n",
       "      <td>글로벌주식</td>\n",
       "      <td>자산의 80%를 해외주식 및 해외주식형 펀드, 20%를 해외채권 및 해외채권형 펀드...</td>\n",
       "    </tr>\n",
       "    <tr>\n",
       "      <th>3</th>\n",
       "      <td>MVIP형</td>\n",
       "      <td>52671</td>\n",
       "      <td>N3C0</td>\n",
       "      <td>미국인컴앤그로쓰</td>\n",
       "      <td>코로나19</td>\n",
       "      <td>해외채권혼합</td>\n",
       "      <td>선진국주식</td>\n",
       "      <td>순자산의 60% 이상을 미국의 주식(커버드콜 포함) 및 전환사채, 하이일드 채권 등...</td>\n",
       "    </tr>\n",
       "    <tr>\n",
       "      <th>4</th>\n",
       "      <td>MVIP형</td>\n",
       "      <td>52671</td>\n",
       "      <td>N3A0</td>\n",
       "      <td>유럽주식형</td>\n",
       "      <td>코로나19</td>\n",
       "      <td>해외주식</td>\n",
       "      <td>선진국주식</td>\n",
       "      <td>순자산의 60% 이상을 유럽 지역의 주식 또는 이러한 주식을 주된 투자대상으로 하는...</td>\n",
       "    </tr>\n",
       "    <tr>\n",
       "      <th>...</th>\n",
       "      <td>...</td>\n",
       "      <td>...</td>\n",
       "      <td>...</td>\n",
       "      <td>...</td>\n",
       "      <td>...</td>\n",
       "      <td>...</td>\n",
       "      <td>...</td>\n",
       "      <td>...</td>\n",
       "    </tr>\n",
       "    <tr>\n",
       "      <th>204</th>\n",
       "      <td>주식중심형</td>\n",
       "      <td>12390</td>\n",
       "      <td>N500</td>\n",
       "      <td>국내채권형</td>\n",
       "      <td>국채</td>\n",
       "      <td>국내채권</td>\n",
       "      <td>국내일반채권</td>\n",
       "      <td>정부 발행 국채와 정부 보증 공사채 등에 주로 투자하여 안정적인 이자수익과 금리변동...</td>\n",
       "    </tr>\n",
       "    <tr>\n",
       "      <th>205</th>\n",
       "      <td>주식중심형</td>\n",
       "      <td>12390</td>\n",
       "      <td>W111</td>\n",
       "      <td>글로벌채권형</td>\n",
       "      <td>국채</td>\n",
       "      <td>해외채권</td>\n",
       "      <td>글로벌채권</td>\n",
       "      <td>선진국, 이머징 지역의 국채 및 회사채, 국고채 등을 활용한 적극적인 자산배분전략을...</td>\n",
       "    </tr>\n",
       "    <tr>\n",
       "      <th>206</th>\n",
       "      <td>주식중심형</td>\n",
       "      <td>5770</td>\n",
       "      <td>NaN</td>\n",
       "      <td>NaN</td>\n",
       "      <td>하이일드</td>\n",
       "      <td>NaN</td>\n",
       "      <td>NaN</td>\n",
       "      <td>NaN</td>\n",
       "    </tr>\n",
       "    <tr>\n",
       "      <th>207</th>\n",
       "      <td>주식중심형</td>\n",
       "      <td>17954</td>\n",
       "      <td>W311</td>\n",
       "      <td>아시아퍼시픽컨슈머혼합자산배분형</td>\n",
       "      <td>태평양</td>\n",
       "      <td>해외주식혼합</td>\n",
       "      <td>컨슈머주식</td>\n",
       "      <td>아시아 태평양 국가(일본제외)의 높은 성장성, 중산층확대 등에 따른 소비성장의 수혜...</td>\n",
       "    </tr>\n",
       "    <tr>\n",
       "      <th>208</th>\n",
       "      <td>주식중심형</td>\n",
       "      <td>17954</td>\n",
       "      <td>W607</td>\n",
       "      <td>아시아퍼시픽컨슈머주식안정자산배분형</td>\n",
       "      <td>태평양</td>\n",
       "      <td>해외채권혼합</td>\n",
       "      <td>컨슈머주식</td>\n",
       "      <td>아시아 태평양 국가(일본제외)의 높은 성장성, 중산층확대 등에 따른 소비성장의 수혜...</td>\n",
       "    </tr>\n",
       "  </tbody>\n",
       "</table>\n",
       "<p>209 rows × 8 columns</p>\n",
       "</div>"
      ],
      "text/plain": [
       "    cluster  ...                                         fund_expln\n",
       "0     MVIP형  ...  전세계의 고배당 주식, 고수익 채권 등 안정적인 배당 및 이자수익 등을 제공하는 다...\n",
       "1     MVIP형  ...                     미국 상장 주식에 주로 투자하여 장기적인 자본이익 추구\n",
       "2     MVIP형  ...  자산의 80%를 해외주식 및 해외주식형 펀드, 20%를 해외채권 및 해외채권형 펀드...\n",
       "3     MVIP형  ...  순자산의 60% 이상을 미국의 주식(커버드콜 포함) 및 전환사채, 하이일드 채권 등...\n",
       "4     MVIP형  ...  순자산의 60% 이상을 유럽 지역의 주식 또는 이러한 주식을 주된 투자대상으로 하는...\n",
       "..      ...  ...                                                ...\n",
       "204   주식중심형  ...  정부 발행 국채와 정부 보증 공사채 등에 주로 투자하여 안정적인 이자수익과 금리변동...\n",
       "205   주식중심형  ...  선진국, 이머징 지역의 국채 및 회사채, 국고채 등을 활용한 적극적인 자산배분전략을...\n",
       "206   주식중심형  ...                                                NaN\n",
       "207   주식중심형  ...  아시아 태평양 국가(일본제외)의 높은 성장성, 중산층확대 등에 따른 소비성장의 수혜...\n",
       "208   주식중심형  ...  아시아 태평양 국가(일본제외)의 높은 성장성, 중산층확대 등에 따른 소비성장의 수혜...\n",
       "\n",
       "[209 rows x 8 columns]"
      ]
     },
     "execution_count": 275,
     "metadata": {},
     "output_type": "execute_result"
    }
   ],
   "source": [
    "final_keyword"
   ]
  },
  {
   "cell_type": "code",
   "execution_count": 276,
   "metadata": {
    "executionInfo": {
     "elapsed": 128,
     "status": "ok",
     "timestamp": 1632918876767,
     "user": {
      "displayName": "성균관대이지연",
      "photoUrl": "https://lh3.googleusercontent.com/a/default-user=s64",
      "userId": "06932829462441791260"
     },
     "user_tz": -540
    },
    "id": "neCTfXdY-Ppo"
   },
   "outputs": [],
   "source": [
    "final_keyword.to_csv('/content/drive/MyDrive/miraeasset/대시보드용 데이터/final_keyword.csv', header=True, index = False)"
   ]
  },
  {
   "cell_type": "markdown",
   "metadata": {
    "id": "LWmV39Yx_mVh"
   },
   "source": [
    "#### 클러스터 예측\n",
    "\n",
    "대시보드에서 자신의 투자성향을 입력하면 입력값에 맞는 클러스터를 반환하기 위해 임의의 데이터를 생성하여 클러스터를 예측하였습니다. 이를 활용하여 투자성향 예측 서비스에 활용하였습니다."
   ]
  },
  {
   "cell_type": "code",
   "execution_count": 277,
   "metadata": {
    "executionInfo": {
     "elapsed": 128,
     "status": "ok",
     "timestamp": 1632918876768,
     "user": {
      "displayName": "성균관대이지연",
      "photoUrl": "https://lh3.googleusercontent.com/a/default-user=s64",
      "userId": "06932829462441791260"
     },
     "user_tz": -540
    },
    "id": "_AWdPrQlHpMo"
   },
   "outputs": [],
   "source": [
    "from itertools import product\n",
    "\n",
    "# 임의의 데이터의 구간 설정\n",
    "def expand_grid(dictionary):\n",
    "   return pd.DataFrame([row for row in product(*dictionary.values())], \n",
    "                       columns=dictionary.keys())"
   ]
  },
  {
   "cell_type": "code",
   "execution_count": 278,
   "metadata": {
    "colab": {
     "base_uri": "https://localhost:8080/",
     "height": 423
    },
    "executionInfo": {
     "elapsed": 127,
     "status": "ok",
     "timestamp": 1632918876769,
     "user": {
      "displayName": "성균관대이지연",
      "photoUrl": "https://lh3.googleusercontent.com/a/default-user=s64",
      "userId": "06932829462441791260"
     },
     "user_tz": -540
    },
    "id": "HDpDZoHh_mEW",
    "outputId": "30b6ae4e-9a6b-4f9e-a282-fe8f3c2cdd8a"
   },
   "outputs": [
    {
     "data": {
      "text/html": [
       "<div>\n",
       "<style scoped>\n",
       "    .dataframe tbody tr th:only-of-type {\n",
       "        vertical-align: middle;\n",
       "    }\n",
       "\n",
       "    .dataframe tbody tr th {\n",
       "        vertical-align: top;\n",
       "    }\n",
       "\n",
       "    .dataframe thead th {\n",
       "        text-align: right;\n",
       "    }\n",
       "</style>\n",
       "<table border=\"1\" class=\"dataframe\">\n",
       "  <thead>\n",
       "    <tr style=\"text-align: right;\">\n",
       "      <th></th>\n",
       "      <th>avg_ch_cntr_cnt</th>\n",
       "      <th>avg_jn_amt</th>\n",
       "      <th>fund_cd_num</th>\n",
       "      <th>fund_ratio</th>\n",
       "    </tr>\n",
       "  </thead>\n",
       "  <tbody>\n",
       "    <tr>\n",
       "      <th>0</th>\n",
       "      <td>1</td>\n",
       "      <td>3000</td>\n",
       "      <td>20</td>\n",
       "      <td>0.1</td>\n",
       "    </tr>\n",
       "    <tr>\n",
       "      <th>1</th>\n",
       "      <td>1</td>\n",
       "      <td>3000</td>\n",
       "      <td>20</td>\n",
       "      <td>0.2</td>\n",
       "    </tr>\n",
       "    <tr>\n",
       "      <th>2</th>\n",
       "      <td>1</td>\n",
       "      <td>3000</td>\n",
       "      <td>20</td>\n",
       "      <td>0.3</td>\n",
       "    </tr>\n",
       "    <tr>\n",
       "      <th>3</th>\n",
       "      <td>1</td>\n",
       "      <td>3000</td>\n",
       "      <td>20</td>\n",
       "      <td>0.4</td>\n",
       "    </tr>\n",
       "    <tr>\n",
       "      <th>4</th>\n",
       "      <td>1</td>\n",
       "      <td>3000</td>\n",
       "      <td>20</td>\n",
       "      <td>0.5</td>\n",
       "    </tr>\n",
       "    <tr>\n",
       "      <th>...</th>\n",
       "      <td>...</td>\n",
       "      <td>...</td>\n",
       "      <td>...</td>\n",
       "      <td>...</td>\n",
       "    </tr>\n",
       "    <tr>\n",
       "      <th>620</th>\n",
       "      <td>13</td>\n",
       "      <td>3800</td>\n",
       "      <td>60</td>\n",
       "      <td>0.1</td>\n",
       "    </tr>\n",
       "    <tr>\n",
       "      <th>621</th>\n",
       "      <td>13</td>\n",
       "      <td>3800</td>\n",
       "      <td>60</td>\n",
       "      <td>0.2</td>\n",
       "    </tr>\n",
       "    <tr>\n",
       "      <th>622</th>\n",
       "      <td>13</td>\n",
       "      <td>3800</td>\n",
       "      <td>60</td>\n",
       "      <td>0.3</td>\n",
       "    </tr>\n",
       "    <tr>\n",
       "      <th>623</th>\n",
       "      <td>13</td>\n",
       "      <td>3800</td>\n",
       "      <td>60</td>\n",
       "      <td>0.4</td>\n",
       "    </tr>\n",
       "    <tr>\n",
       "      <th>624</th>\n",
       "      <td>13</td>\n",
       "      <td>3800</td>\n",
       "      <td>60</td>\n",
       "      <td>0.5</td>\n",
       "    </tr>\n",
       "  </tbody>\n",
       "</table>\n",
       "<p>625 rows × 4 columns</p>\n",
       "</div>"
      ],
      "text/plain": [
       "     avg_ch_cntr_cnt  avg_jn_amt  fund_cd_num  fund_ratio\n",
       "0                  1        3000           20         0.1\n",
       "1                  1        3000           20         0.2\n",
       "2                  1        3000           20         0.3\n",
       "3                  1        3000           20         0.4\n",
       "4                  1        3000           20         0.5\n",
       "..               ...         ...          ...         ...\n",
       "620               13        3800           60         0.1\n",
       "621               13        3800           60         0.2\n",
       "622               13        3800           60         0.3\n",
       "623               13        3800           60         0.4\n",
       "624               13        3800           60         0.5\n",
       "\n",
       "[625 rows x 4 columns]"
      ]
     },
     "execution_count": 278,
     "metadata": {},
     "output_type": "execute_result"
    }
   ],
   "source": [
    "# 각 구간 별 데이터에 대해 클러스터 예측\n",
    "pred_data = {'avg_ch_cntr_cnt': list(range(1, 14, 3)),'avg_jn_amt': list(range(3000, 4000, 200)),\n",
    "             'fund_cd_num': list(range(20, 70, 10)),'fund_ratio' : np.arange(0.1, 0.6, 0.1)}\n",
    "pred_data = expand_grid(pred_data)\n",
    "\n",
    "pred_data"
   ]
  },
  {
   "cell_type": "code",
   "execution_count": 279,
   "metadata": {
    "colab": {
     "base_uri": "https://localhost:8080/",
     "height": 143
    },
    "executionInfo": {
     "elapsed": 124,
     "status": "ok",
     "timestamp": 1632918876769,
     "user": {
      "displayName": "성균관대이지연",
      "photoUrl": "https://lh3.googleusercontent.com/a/default-user=s64",
      "userId": "06932829462441791260"
     },
     "user_tz": -540
    },
    "id": "AmJd3pbVOnF4",
    "outputId": "895655fa-b288-4ef9-afc4-ab099ae202b9"
   },
   "outputs": [
    {
     "data": {
      "text/html": [
       "<div>\n",
       "<style scoped>\n",
       "    .dataframe tbody tr th:only-of-type {\n",
       "        vertical-align: middle;\n",
       "    }\n",
       "\n",
       "    .dataframe tbody tr th {\n",
       "        vertical-align: top;\n",
       "    }\n",
       "\n",
       "    .dataframe thead th {\n",
       "        text-align: right;\n",
       "    }\n",
       "</style>\n",
       "<table border=\"1\" class=\"dataframe\">\n",
       "  <thead>\n",
       "    <tr style=\"text-align: right;\">\n",
       "      <th></th>\n",
       "      <th>avg_ch_cntr_cnt</th>\n",
       "      <th>fund_cd_num</th>\n",
       "      <th>avg_jn_amt</th>\n",
       "      <th>fund_ratio</th>\n",
       "    </tr>\n",
       "  </thead>\n",
       "  <tbody>\n",
       "    <tr>\n",
       "      <th>0</th>\n",
       "      <td>0.05</td>\n",
       "      <td>0.037961</td>\n",
       "      <td>0.152381</td>\n",
       "      <td>0.1</td>\n",
       "    </tr>\n",
       "    <tr>\n",
       "      <th>1</th>\n",
       "      <td>0.05</td>\n",
       "      <td>0.037961</td>\n",
       "      <td>0.152381</td>\n",
       "      <td>0.2</td>\n",
       "    </tr>\n",
       "    <tr>\n",
       "      <th>2</th>\n",
       "      <td>0.05</td>\n",
       "      <td>0.037961</td>\n",
       "      <td>0.152381</td>\n",
       "      <td>0.3</td>\n",
       "    </tr>\n",
       "  </tbody>\n",
       "</table>\n",
       "</div>"
      ],
      "text/plain": [
       "   avg_ch_cntr_cnt  fund_cd_num  avg_jn_amt  fund_ratio\n",
       "0             0.05     0.037961    0.152381         0.1\n",
       "1             0.05     0.037961    0.152381         0.2\n",
       "2             0.05     0.037961    0.152381         0.3"
      ]
     },
     "execution_count": 279,
     "metadata": {},
     "output_type": "execute_result"
    }
   ],
   "source": [
    "# 클러스터링을 위한 정규화\n",
    "result_cluster = cluster_data.copy()\n",
    "result_cluster = result_cluster[result_cluster.columns.difference(['cluster'])]\n",
    "\n",
    "scaler = preprocessing.MinMaxScaler()\n",
    "scaler.fit(result_cluster[result_cluster.columns.difference(['gid'])])\n",
    "pred_data_std = scaler.transform(pred_data)\n",
    "\n",
    "pred_data_std = pd.DataFrame(pred_data_std, columns=['avg_ch_cntr_cnt', 'fund_cd_num', 'avg_jn_amt', 'fund_ratio'])\n",
    "pred_data_std.head(3)"
   ]
  },
  {
   "cell_type": "code",
   "execution_count": 280,
   "metadata": {
    "colab": {
     "base_uri": "https://localhost:8080/",
     "height": 143
    },
    "executionInfo": {
     "elapsed": 122,
     "status": "ok",
     "timestamp": 1632918876770,
     "user": {
      "displayName": "성균관대이지연",
      "photoUrl": "https://lh3.googleusercontent.com/a/default-user=s64",
      "userId": "06932829462441791260"
     },
     "user_tz": -540
    },
    "id": "YhfNa1INTcDs",
    "outputId": "79f2b69b-c329-459b-b9ab-979e2acffab5"
   },
   "outputs": [
    {
     "data": {
      "text/html": [
       "<div>\n",
       "<style scoped>\n",
       "    .dataframe tbody tr th:only-of-type {\n",
       "        vertical-align: middle;\n",
       "    }\n",
       "\n",
       "    .dataframe tbody tr th {\n",
       "        vertical-align: top;\n",
       "    }\n",
       "\n",
       "    .dataframe thead th {\n",
       "        text-align: right;\n",
       "    }\n",
       "</style>\n",
       "<table border=\"1\" class=\"dataframe\">\n",
       "  <thead>\n",
       "    <tr style=\"text-align: right;\">\n",
       "      <th></th>\n",
       "      <th>avg_ch_cntr_cnt</th>\n",
       "      <th>avg_jn_amt</th>\n",
       "      <th>fund_cd_num</th>\n",
       "      <th>fund_ratio</th>\n",
       "      <th>cluster</th>\n",
       "    </tr>\n",
       "  </thead>\n",
       "  <tbody>\n",
       "    <tr>\n",
       "      <th>0</th>\n",
       "      <td>1</td>\n",
       "      <td>3000</td>\n",
       "      <td>20</td>\n",
       "      <td>0.1</td>\n",
       "      <td>1</td>\n",
       "    </tr>\n",
       "    <tr>\n",
       "      <th>1</th>\n",
       "      <td>1</td>\n",
       "      <td>3000</td>\n",
       "      <td>20</td>\n",
       "      <td>0.2</td>\n",
       "      <td>1</td>\n",
       "    </tr>\n",
       "    <tr>\n",
       "      <th>2</th>\n",
       "      <td>1</td>\n",
       "      <td>3000</td>\n",
       "      <td>20</td>\n",
       "      <td>0.3</td>\n",
       "      <td>3</td>\n",
       "    </tr>\n",
       "  </tbody>\n",
       "</table>\n",
       "</div>"
      ],
      "text/plain": [
       "   avg_ch_cntr_cnt  avg_jn_amt  fund_cd_num  fund_ratio  cluster\n",
       "0                1        3000           20         0.1        1\n",
       "1                1        3000           20         0.2        1\n",
       "2                1        3000           20         0.3        3"
      ]
     },
     "execution_count": 280,
     "metadata": {},
     "output_type": "execute_result"
    }
   ],
   "source": [
    "# 클러스터 예측\n",
    "pred_y = km.predict(pred_data_std)\n",
    "pred_data['cluster'] = pred_y\n",
    "pred_data.head(3)"
   ]
  },
  {
   "cell_type": "code",
   "execution_count": 281,
   "metadata": {
    "executionInfo": {
     "elapsed": 120,
     "status": "ok",
     "timestamp": 1632918876771,
     "user": {
      "displayName": "성균관대이지연",
      "photoUrl": "https://lh3.googleusercontent.com/a/default-user=s64",
      "userId": "06932829462441791260"
     },
     "user_tz": -540
    },
    "id": "mlzjXPAMaIkQ"
   },
   "outputs": [],
   "source": [
    "# cluster column 생성\n",
    "pred_data['cluster'] = pred_data['cluster'].astype('str')"
   ]
  },
  {
   "cell_type": "code",
   "execution_count": 282,
   "metadata": {
    "colab": {
     "base_uri": "https://localhost:8080/",
     "height": 206
    },
    "executionInfo": {
     "elapsed": 120,
     "status": "ok",
     "timestamp": 1632918876772,
     "user": {
      "displayName": "성균관대이지연",
      "photoUrl": "https://lh3.googleusercontent.com/a/default-user=s64",
      "userId": "06932829462441791260"
     },
     "user_tz": -540
    },
    "id": "oDkJeqz7b15v",
    "outputId": "f44e94bf-9160-4ca5-cc40-13253ae8d13a"
   },
   "outputs": [
    {
     "data": {
      "text/html": [
       "<div>\n",
       "<style scoped>\n",
       "    .dataframe tbody tr th:only-of-type {\n",
       "        vertical-align: middle;\n",
       "    }\n",
       "\n",
       "    .dataframe tbody tr th {\n",
       "        vertical-align: top;\n",
       "    }\n",
       "\n",
       "    .dataframe thead th {\n",
       "        text-align: right;\n",
       "    }\n",
       "</style>\n",
       "<table border=\"1\" class=\"dataframe\">\n",
       "  <thead>\n",
       "    <tr style=\"text-align: right;\">\n",
       "      <th></th>\n",
       "      <th>avg_ch_cntr_cnt</th>\n",
       "      <th>avg_jn_amt</th>\n",
       "      <th>fund_cd_num</th>\n",
       "      <th>fund_ratio</th>\n",
       "    </tr>\n",
       "    <tr>\n",
       "      <th>cluster</th>\n",
       "      <th></th>\n",
       "      <th></th>\n",
       "      <th></th>\n",
       "      <th></th>\n",
       "    </tr>\n",
       "  </thead>\n",
       "  <tbody>\n",
       "    <tr>\n",
       "      <th>0</th>\n",
       "      <td>195</td>\n",
       "      <td>195</td>\n",
       "      <td>195</td>\n",
       "      <td>195</td>\n",
       "    </tr>\n",
       "    <tr>\n",
       "      <th>1</th>\n",
       "      <td>100</td>\n",
       "      <td>100</td>\n",
       "      <td>100</td>\n",
       "      <td>100</td>\n",
       "    </tr>\n",
       "    <tr>\n",
       "      <th>2</th>\n",
       "      <td>185</td>\n",
       "      <td>185</td>\n",
       "      <td>185</td>\n",
       "      <td>185</td>\n",
       "    </tr>\n",
       "    <tr>\n",
       "      <th>3</th>\n",
       "      <td>145</td>\n",
       "      <td>145</td>\n",
       "      <td>145</td>\n",
       "      <td>145</td>\n",
       "    </tr>\n",
       "  </tbody>\n",
       "</table>\n",
       "</div>"
      ],
      "text/plain": [
       "         avg_ch_cntr_cnt  avg_jn_amt  fund_cd_num  fund_ratio\n",
       "cluster                                                      \n",
       "0                    195         195          195         195\n",
       "1                    100         100          100         100\n",
       "2                    185         185          185         185\n",
       "3                    145         145          145         145"
      ]
     },
     "execution_count": 282,
     "metadata": {},
     "output_type": "execute_result"
    }
   ],
   "source": [
    "# 클러스터별 데이터 개수 확인\n",
    "pred_data.groupby('cluster').count()"
   ]
  },
  {
   "cell_type": "code",
   "execution_count": 283,
   "metadata": {
    "executionInfo": {
     "elapsed": 116,
     "status": "ok",
     "timestamp": 1632918876772,
     "user": {
      "displayName": "성균관대이지연",
      "photoUrl": "https://lh3.googleusercontent.com/a/default-user=s64",
      "userId": "06932829462441791260"
     },
     "user_tz": -540
    },
    "id": "tiXUW9S9R6Ac"
   },
   "outputs": [],
   "source": [
    "pred_data.to_csv('predict_data.csv', header = True, index = False)"
   ]
  },
  {
   "cell_type": "markdown",
   "metadata": {},
   "source": [
    "본 저작물의 저작권은 Apache License v2.0을 따릅니다."
   ]
  }
 ],
 "metadata": {
  "colab": {
   "collapsed_sections": [
    "s93y0-iwOh2C",
    "z85BDPxySQax",
    "_unk8_7gSfMm",
    "BBrKOxZpTigL",
    "BK8GdiAoBRs2",
    "OwENnoajKgAB",
    "0bFGKhoBQp_D",
    "th6ZMwCfTNvc",
    "g05b6E5aTQ49",
    "OjsnPyJSCHwP"
   ],
   "name": "2.투자성향기반_변액펀드_추천.ipynb",
   "provenance": []
  },
  "kernelspec": {
   "display_name": "Python 3",
   "language": "python",
   "name": "python3"
  },
  "language_info": {
   "codemirror_mode": {
    "name": "ipython",
    "version": 3
   },
   "file_extension": ".py",
   "mimetype": "text/x-python",
   "name": "python",
   "nbconvert_exporter": "python",
   "pygments_lexer": "ipython3",
   "version": "3.9.4"
  }
 },
 "nbformat": 4,
 "nbformat_minor": 1
}
