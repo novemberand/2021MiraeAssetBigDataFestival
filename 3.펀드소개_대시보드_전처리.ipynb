{
 "cells": [
  {
   "cell_type": "markdown",
   "metadata": {
    "id": "Mwc4kfPRX4lc"
   },
   "source": [
    "# 펀드소개 대시보드 시각화를 위한 데이터 전처리"
   ]
  },
  {
   "cell_type": "code",
   "execution_count": 1,
   "metadata": {
    "colab": {
     "base_uri": "https://localhost:8080/"
    },
    "executionInfo": {
     "elapsed": 26521,
     "status": "ok",
     "timestamp": 1632989383082,
     "user": {
      "displayName": "성균관대이지연",
      "photoUrl": "https://lh3.googleusercontent.com/a/default-user=s64",
      "userId": "06932829462441791260"
     },
     "user_tz": -540
    },
    "id": "zE_UPvZnin4N",
    "outputId": "0338c451-7dcf-458c-a298-929d03ef792c"
   },
   "outputs": [
    {
     "name": "stdout",
     "output_type": "stream",
     "text": [
      "Mounted at /content/drive\n"
     ]
    }
   ],
   "source": [
    "import pandas as pd\n",
    "import numpy as np\n",
    "import matplotlib.pyplot as plt\n",
    "import seaborn as sns\n",
    "\n",
    "import warnings\n",
    "warnings.filterwarnings('ignore')\n",
    "\n",
    "from google.colab import drive, files\n",
    "drive.mount('/content/drive')\n"
   ]
  },
  {
   "cell_type": "markdown",
   "metadata": {
    "id": "02RerSsE4kZN"
   },
   "source": [
    "[목차]\n",
    "\n",
    "\n",
    "1. 펀드별 기본정보 확인\n",
    "2. 파생변수 생성 \n",
    "3. 펀드별 그룹 요약 통계\n",
    "4. 펀드별운용성과 데이터 병합 \n",
    "5. 펀드별 키워드 - 워드클라우드 시각화\n",
    "6. 펀드별 수익률 - 시계열 그래프 시각화\n",
    "\n"
   ]
  },
  {
   "cell_type": "markdown",
   "metadata": {
    "id": "CdU81d385C4d"
   },
   "source": [
    "### 1. 펀드별 기본 정보 확인"
   ]
  },
  {
   "cell_type": "code",
   "execution_count": 2,
   "metadata": {
    "executionInfo": {
     "elapsed": 14446,
     "status": "ok",
     "timestamp": 1632989421149,
     "user": {
      "displayName": "성균관대이지연",
      "photoUrl": "https://lh3.googleusercontent.com/a/default-user=s64",
      "userId": "06932829462441791260"
     },
     "user_tz": -540
    },
    "id": "KW61_kTJi4WY"
   },
   "outputs": [],
   "source": [
    "mali_data = pd.read_csv('/content/drive/MyDrive/miraeasset/mali_data1.csv')"
   ]
  },
  {
   "cell_type": "code",
   "execution_count": 3,
   "metadata": {
    "executionInfo": {
     "elapsed": 400,
     "status": "ok",
     "timestamp": 1632989427851,
     "user": {
      "displayName": "성균관대이지연",
      "photoUrl": "https://lh3.googleusercontent.com/a/default-user=s64",
      "userId": "06932829462441791260"
     },
     "user_tz": -540
    },
    "id": "IoyUIX8svq0H"
   },
   "outputs": [],
   "source": [
    "# 펀드별 고유정보\n",
    "fund_data = mali_data[['fund_cd', 'fund_price', 'fund_nm', 'fund_set_dt', 'operation_rsk', 'operation_conm', 'fund_expln', 'stck_expln',\n",
    "                       'finan_bond_expln', 'fund_aset_cd', 'fund_stle_cd', 'insur_as_fund_cd', 'fund_diff_cd', 'finan_bond_cd','feh_cd']]"
   ]
  },
  {
   "cell_type": "markdown",
   "metadata": {
    "id": "TDsUYpMd5I-H"
   },
   "source": [
    "#### 범주형 변수 라벨 변경 \n"
   ]
  },
  {
   "cell_type": "code",
   "execution_count": 4,
   "metadata": {
    "executionInfo": {
     "elapsed": 866,
     "status": "ok",
     "timestamp": 1632989429817,
     "user": {
      "displayName": "성균관대이지연",
      "photoUrl": "https://lh3.googleusercontent.com/a/default-user=s64",
      "userId": "06932829462441791260"
     },
     "user_tz": -540
    },
    "id": "zOKCPixwbogl"
   },
   "outputs": [],
   "source": [
    "# 펀드자산구분코드\n",
    "fund_aset_dict = {1:'국내주식혼합', 2:'국내주식', 3:'국내채권혼합', 4:'국내채권', 5:'포트폴리오',\n",
    "                  6:'대안투자', 7:'해외주식혼합', 8:'해외주식', 9:'해외채권', 10:'해외채권혼합'}\n",
    "fund_data['fund_aset_cd'].replace(fund_aset_dict, inplace=True)\n",
    "mali_data['fund_aset_cd'].replace(fund_aset_dict, inplace=True)\n",
    "\n",
    "# 펀드스타일구분코드 \n",
    "fund_stle_dict = {1:'국내인덱스주식', 2:'국내성장주식', 3:'국내가치주식', 4:'국내배당주식', 5:'글로벌주식', 6:'이머징주식',\n",
    "                  7:'컨슈머주식', 8:'국내배당주식', 9:'국내MMF', 10:'글로벌채권', 11:'이머징채권', 12:'하이일드채권',\n",
    "                  13:'절대수익형', 14:'원자재', 15:'부동산', 16:'자산배분형', 17:'선진국주식', 18:'선진국채권'}\n",
    "fund_data['fund_stle_cd'].replace(fund_stle_dict, inplace=True)     \n",
    "mali_data['fund_stle_cd'].replace(fund_aset_dict, inplace=True)             "
   ]
  },
  {
   "cell_type": "code",
   "execution_count": 5,
   "metadata": {
    "executionInfo": {
     "elapsed": 1381,
     "status": "ok",
     "timestamp": 1632989431604,
     "user": {
      "displayName": "성균관대이지연",
      "photoUrl": "https://lh3.googleusercontent.com/a/default-user=s64",
      "userId": "06932829462441791260"
     },
     "user_tz": -540
    },
    "id": "KnxRm9cIqLkW"
   },
   "outputs": [],
   "source": [
    "# product_cd \n",
    "product_dict = {1:'변액연금보험', 2:'변액유니버셜보험'}\n",
    "mali_data['product_cd'].replace(product_dict, inplace=True)\n",
    "\n",
    "# age_cd\n",
    "age_dict = {'00_19':'0~19세', '20_35':'20~35세', '36_40':'36~0세',\n",
    "               '41_55':'41~55세', '56_70':'56~70세', '71':'71세 이상'}\n",
    "mali_data['age_cd'].replace(age_dict, inplace=True)\n",
    "\n",
    "# channel_cd\n",
    "channel_dict = {1:\"보험설계사 통해 가입\", 2:\"GA영업지점 통해 가입\", 3:\"방카슈랑스 통해 가입\", 4:\"온라인 통해 가입\"}\n",
    "mali_data['channel_cd'].replace(channel_dict, inplace=True)\n",
    "\n",
    "# gender\n",
    "gender_dict = {0:\"남성\", 1:\"여성\"}\n",
    "mali_data['gender'].replace(gender_dict, inplace=True)\n",
    "\n",
    "# job_cd\n",
    "job_dict = {'A':'사무관리직/전문직/공무원', 'B':'제조업현장관리자', 'C':'자영업자/주부/직업군인/일반서비스업종사자/영업사원/제조업현장작업자',\n",
    "            'D': '보험설계사/학생/의료직종사자/프리랜서', 'E':'위험직군/운수직종/계절적휴업자/건설토목종사자/금속화학종사자'}\n",
    "mali_data['job_cd'].replace(job_dict, inplace=True)\n",
    "\n",
    "# loan_ync\n",
    "loan_yn_dict = {0:\"약관대출 없음\", 1:\"약관대출 있음\"}\n",
    "mali_data['loan_yn'].replace(loan_yn_dict, inplace=True)\n",
    "\n",
    "# rider\n",
    "rider_dict = {0:\"특약 없음\", 1:\"특약 있음\"}\n",
    "mali_data['rider'].replace(rider_dict, inplace=True)\n",
    "\n",
    "#signgu_cd\n",
    "signgu_dict = {1:'시 거주', 2:'군 거주', 3:'구 거주'}\n",
    "mali_data['signgu_cd'].replace(signgu_dict, inplace=True)\n",
    "\n",
    "# pay_prd\n",
    "pay_prd_dict = {0:'보험료월납', 1:'보험료일시납'}\n",
    "mali_data['pay_prd'].replace(pay_prd_dict, inplace=True)\n",
    "\n",
    "# rcpt_cd\n",
    "rcpt_dict = {0:'소극적 수금', 1:'적극적 수금'}\n",
    "mali_data['rcpt_cd'].replace(rcpt_dict, inplace=True)"
   ]
  },
  {
   "cell_type": "code",
   "execution_count": 6,
   "metadata": {
    "colab": {
     "base_uri": "https://localhost:8080/",
     "height": 300
    },
    "executionInfo": {
     "elapsed": 7,
     "status": "ok",
     "timestamp": 1632989433112,
     "user": {
      "displayName": "성균관대이지연",
      "photoUrl": "https://lh3.googleusercontent.com/a/default-user=s64",
      "userId": "06932829462441791260"
     },
     "user_tz": -540
    },
    "id": "QTYFWYJ3f8ZL",
    "outputId": "1c45d63c-09e9-48f1-d7c6-b7b936fa13d4"
   },
   "outputs": [
    {
     "data": {
      "text/html": [
       "<div>\n",
       "<style scoped>\n",
       "    .dataframe tbody tr th:only-of-type {\n",
       "        vertical-align: middle;\n",
       "    }\n",
       "\n",
       "    .dataframe tbody tr th {\n",
       "        vertical-align: top;\n",
       "    }\n",
       "\n",
       "    .dataframe thead th {\n",
       "        text-align: right;\n",
       "    }\n",
       "</style>\n",
       "<table border=\"1\" class=\"dataframe\">\n",
       "  <thead>\n",
       "    <tr style=\"text-align: right;\">\n",
       "      <th></th>\n",
       "      <th>avg_in_fund_amt</th>\n",
       "      <th>avg_in_fund_atcnt</th>\n",
       "    </tr>\n",
       "  </thead>\n",
       "  <tbody>\n",
       "    <tr>\n",
       "      <th>count</th>\n",
       "      <td>890237.000000</td>\n",
       "      <td>890237.000000</td>\n",
       "    </tr>\n",
       "    <tr>\n",
       "      <th>mean</th>\n",
       "      <td>32.445910</td>\n",
       "      <td>26.365658</td>\n",
       "    </tr>\n",
       "    <tr>\n",
       "      <th>std</th>\n",
       "      <td>66.140652</td>\n",
       "      <td>63.043397</td>\n",
       "    </tr>\n",
       "    <tr>\n",
       "      <th>min</th>\n",
       "      <td>0.000000</td>\n",
       "      <td>0.000000</td>\n",
       "    </tr>\n",
       "    <tr>\n",
       "      <th>25%</th>\n",
       "      <td>4.000000</td>\n",
       "      <td>3.000000</td>\n",
       "    </tr>\n",
       "    <tr>\n",
       "      <th>50%</th>\n",
       "      <td>8.000000</td>\n",
       "      <td>5.000000</td>\n",
       "    </tr>\n",
       "    <tr>\n",
       "      <th>75%</th>\n",
       "      <td>19.000000</td>\n",
       "      <td>13.000000</td>\n",
       "    </tr>\n",
       "    <tr>\n",
       "      <th>max</th>\n",
       "      <td>271.000000</td>\n",
       "      <td>291.000000</td>\n",
       "    </tr>\n",
       "  </tbody>\n",
       "</table>\n",
       "</div>"
      ],
      "text/plain": [
       "       avg_in_fund_amt  avg_in_fund_atcnt\n",
       "count    890237.000000      890237.000000\n",
       "mean         32.445910          26.365658\n",
       "std          66.140652          63.043397\n",
       "min           0.000000           0.000000\n",
       "25%           4.000000           3.000000\n",
       "50%           8.000000           5.000000\n",
       "75%          19.000000          13.000000\n",
       "max         271.000000         291.000000"
      ]
     },
     "execution_count": 6,
     "metadata": {},
     "output_type": "execute_result"
    }
   ],
   "source": [
    "# 연속형 수치 분포 확인\n",
    "mali_data[[ 'avg_in_fund_amt', 'avg_in_fund_atcnt']].describe()"
   ]
  },
  {
   "cell_type": "code",
   "execution_count": 7,
   "metadata": {
    "colab": {
     "base_uri": "https://localhost:8080/",
     "height": 265
    },
    "executionInfo": {
     "elapsed": 1321,
     "status": "ok",
     "timestamp": 1632989435321,
     "user": {
      "displayName": "성균관대이지연",
      "photoUrl": "https://lh3.googleusercontent.com/a/default-user=s64",
      "userId": "06932829462441791260"
     },
     "user_tz": -540
    },
    "id": "2qsk1N-Ss8ru",
    "outputId": "14192b8b-02a8-4142-f68e-4713480879ae"
   },
   "outputs": [
    {
     "data": {
      "image/png": "[encoded data removed]",
      "text/plain": [
       "<Figure size 432x288 with 1 Axes>"
      ]
     },
     "metadata": {
      "needs_background": "light"
     },
     "output_type": "display_data"
    }
   ],
   "source": [
    "# 성별 연령별 그룹 시각화\n",
    "label = ['0~19세', '20~35세', '36~40세', '41~55세', '56~70세', '71세 이상']\n",
    "N = len(mali_data['age_cd'].unique())\n",
    "index = np.arange(N)\n",
    "alpha = 0.5\n",
    "\n",
    "cnt_by_m = mali_data[mali_data['gender']==\"남성\"].groupby('age_cd').size()\n",
    "cnt_by_f = mali_data[mali_data['gender']==\"여성\"].groupby('age_cd').size()\n",
    "\n",
    "p1 = plt.bar(index, cnt_by_m, color='b', alpha=alpha)\n",
    "p2 = plt.bar(index, cnt_by_f, color='r', alpha=alpha, bottom=cnt_by_m) # stacked bar chart\n",
    "\n",
    "plt.xticks(index, label)\n",
    "plt.legend((p1[0], p2[0]), ('Male', 'Female'))\n",
    "\n",
    "plt.show()"
   ]
  },
  {
   "cell_type": "code",
   "execution_count": 10,
   "metadata": {
    "executionInfo": {
     "elapsed": 3034,
     "status": "ok",
     "timestamp": 1632989462802,
     "user": {
      "displayName": "성균관대이지연",
      "photoUrl": "https://lh3.googleusercontent.com/a/default-user=s64",
      "userId": "06932829462441791260"
     },
     "user_tz": -540
    },
    "id": "Ko6OjUHF5swH"
   },
   "outputs": [],
   "source": [
    "# 연령분포 시각화를 위한 데이터 추출\n",
    "age_dist = mali_data[['fund_cd', 'age_cd']]\n",
    "age_dist.to_csv(\"/content/drive/MyDrive/miraeasset/대시보드용 데이터/age_dist.csv\", index = False, encoding = 'cp949')"
   ]
  },
  {
   "cell_type": "markdown",
   "metadata": {
    "id": "1jNpNqqq_K9B"
   },
   "source": [
    "### 2. 파생변수 생성\n",
    "\n",
    "- 펀드별 거래그룹의 유니크 개수 "
   ]
  },
  {
   "cell_type": "code",
   "execution_count": 11,
   "metadata": {
    "colab": {
     "base_uri": "https://localhost:8080/"
    },
    "executionInfo": {
     "elapsed": 359,
     "status": "ok",
     "timestamp": 1632989465537,
     "user": {
      "displayName": "성균관대이지연",
      "photoUrl": "https://lh3.googleusercontent.com/a/default-user=s64",
      "userId": "06932829462441791260"
     },
     "user_tz": -540
    },
    "id": "sZ1LfrFc_KWW",
    "outputId": "762ae4d7-507f-4e1e-e4cb-434e79d18c28"
   },
   "outputs": [
    {
     "data": {
      "text/plain": [
       "count      154.000000\n",
       "mean      7575.318182\n",
       "std       6238.848259\n",
       "min         36.000000\n",
       "25%       2488.750000\n",
       "50%       6324.000000\n",
       "75%      10632.250000\n",
       "max      26507.000000\n",
       "dtype: float64"
      ]
     },
     "execution_count": 11,
     "metadata": {},
     "output_type": "execute_result"
    }
   ],
   "source": [
    "# 펀드별 거래 그룹 수 \n",
    "gid_info = ['gid','product_cd', 'age_cd', 'channel_cd', 'gender', 'job_cd','loan_yn', 'rider', 'cntr_cnt', 'signgu_cd', 'avg_cssc',\n",
    "                      'avg_ch_cntr_cnt', 'cntr_no_cnt', 'pay_prd', 'rcpt_cd', 'avg_max_pay', 'avg_jn_amt', 'sum_fee_amt']\n",
    "\n",
    "mali_data[gid_info].groupby(mali_data['fund_cd']).size().describe()"
   ]
  },
  {
   "cell_type": "code",
   "execution_count": 12,
   "metadata": {
    "colab": {
     "base_uri": "https://localhost:8080/",
     "height": 411
    },
    "executionInfo": {
     "elapsed": 461,
     "status": "ok",
     "timestamp": 1632989467407,
     "user": {
      "displayName": "성균관대이지연",
      "photoUrl": "https://lh3.googleusercontent.com/a/default-user=s64",
      "userId": "06932829462441791260"
     },
     "user_tz": -540
    },
    "id": "cy759PMJoJn7",
    "outputId": "993a2d30-847e-4e0f-b935-fa9e68ff6a50"
   },
   "outputs": [
    {
     "data": {
      "text/plain": [
       "{'boxes': [<matplotlib.lines.Line2D at 0x7f1d3cb7b590>],\n",
       " 'caps': [<matplotlib.lines.Line2D at 0x7f1d3c72b5d0>,\n",
       "  <matplotlib.lines.Line2D at 0x7f1d3c72bb10>],\n",
       " 'fliers': [<matplotlib.lines.Line2D at 0x7f1d3c732610>],\n",
       " 'means': [],\n",
       " 'medians': [<matplotlib.lines.Line2D at 0x7f1d3c7320d0>],\n",
       " 'whiskers': [<matplotlib.lines.Line2D at 0x7f1d3c727b10>,\n",
       "  <matplotlib.lines.Line2D at 0x7f1d3c72b090>]}"
      ]
     },
     "execution_count": 12,
     "metadata": {},
     "output_type": "execute_result"
    },
    {
     "data": {
      "image/png": "[encoded data removed]",
      "text/plain": [
       "<Figure size 432x288 with 1 Axes>"
      ]
     },
     "metadata": {
      "needs_background": "light"
     },
     "output_type": "display_data"
    }
   ],
   "source": [
    "# 펀드별 거래그룹수 분포 Boxplot\n",
    "fig, ax = plt.subplots()\n",
    "ax.boxplot(mali_data[gid_info].groupby(mali_data['fund_cd']).size())"
   ]
  },
  {
   "cell_type": "code",
   "execution_count": 13,
   "metadata": {
    "executionInfo": {
     "elapsed": 1629,
     "status": "ok",
     "timestamp": 1632989471055,
     "user": {
      "displayName": "성균관대이지연",
      "photoUrl": "https://lh3.googleusercontent.com/a/default-user=s64",
      "userId": "06932829462441791260"
     },
     "user_tz": -540
    },
    "id": "uJv-3UtAGPLJ"
   },
   "outputs": [],
   "source": [
    "gid_cnt = mali_data[gid_info+['fund_cd']].drop_duplicates()\n",
    "gid_cnt = gid_cnt.groupby(mali_data['fund_cd']).size().to_frame('gid_count').reset_index()"
   ]
  },
  {
   "cell_type": "code",
   "execution_count": 14,
   "metadata": {
    "executionInfo": {
     "elapsed": 799,
     "status": "ok",
     "timestamp": 1632989479744,
     "user": {
      "displayName": "성균관대이지연",
      "photoUrl": "https://lh3.googleusercontent.com/a/default-user=s64",
      "userId": "06932829462441791260"
     },
     "user_tz": -540
    },
    "id": "sSe9DFbpH68z"
   },
   "outputs": [],
   "source": [
    "gid_cnt.to_csv(\"/content/drive/MyDrive/miraeasset/대시보드용 데이터/gid_cnt.csv\", index = False, encoding = 'cp949')"
   ]
  },
  {
   "cell_type": "code",
   "execution_count": 15,
   "metadata": {
    "executionInfo": {
     "elapsed": 3289,
     "status": "ok",
     "timestamp": 1632989484415,
     "user": {
      "displayName": "성균관대이지연",
      "photoUrl": "https://lh3.googleusercontent.com/a/default-user=s64",
      "userId": "06932829462441791260"
     },
     "user_tz": -540
    },
    "id": "u6Av7zBk_4R-"
   },
   "outputs": [],
   "source": [
    "fund_data = fund_data.merge(gid_cnt, on='fund_cd', how='left')\n",
    "mali_data = mali_data.merge(gid_cnt, on='fund_cd', how='left')"
   ]
  },
  {
   "cell_type": "markdown",
   "metadata": {
    "id": "PBe6cAFaviKj"
   },
   "source": [
    "###3.  펀드별 그룹 요약통계 \n",
    "범주형 변수는 최빈값(mod) / 연속형 변수는 평균(mean)"
   ]
  },
  {
   "cell_type": "code",
   "execution_count": 16,
   "metadata": {
    "colab": {
     "base_uri": "https://localhost:8080/",
     "height": 400
    },
    "executionInfo": {
     "elapsed": 1805,
     "status": "ok",
     "timestamp": 1632989487665,
     "user": {
      "displayName": "성균관대이지연",
      "photoUrl": "https://lh3.googleusercontent.com/a/default-user=s64",
      "userId": "06932829462441791260"
     },
     "user_tz": -540
    },
    "id": "fNbr-IWzBcv5",
    "outputId": "02f8b34a-43c4-4e5b-b214-b5a8a1714623"
   },
   "outputs": [
    {
     "data": {
      "text/html": [
       "<div>\n",
       "<style scoped>\n",
       "    .dataframe tbody tr th:only-of-type {\n",
       "        vertical-align: middle;\n",
       "    }\n",
       "\n",
       "    .dataframe tbody tr th {\n",
       "        vertical-align: top;\n",
       "    }\n",
       "\n",
       "    .dataframe thead th {\n",
       "        text-align: right;\n",
       "    }\n",
       "</style>\n",
       "<table border=\"1\" class=\"dataframe\">\n",
       "  <thead>\n",
       "    <tr style=\"text-align: right;\">\n",
       "      <th></th>\n",
       "      <th>fund_cd</th>\n",
       "      <th>mod_product_cd</th>\n",
       "      <th>mod_age_cd</th>\n",
       "      <th>mod_channel_cd</th>\n",
       "      <th>mod_gender</th>\n",
       "      <th>mod_job_cd</th>\n",
       "      <th>mod_loan_yn</th>\n",
       "      <th>mod_rider</th>\n",
       "      <th>mod_pay_prd</th>\n",
       "      <th>mod_rcpt_cd</th>\n",
       "      <th>mean_cntr_cnt</th>\n",
       "      <th>mean_avg_cssc</th>\n",
       "      <th>mean_avg_ch_cntr_cnt</th>\n",
       "      <th>mean_cntr_no_cnt</th>\n",
       "      <th>mean_avg_max_pay</th>\n",
       "      <th>mean_avg_jn_amt</th>\n",
       "      <th>mean_sum_fee_amt</th>\n",
       "    </tr>\n",
       "  </thead>\n",
       "  <tbody>\n",
       "    <tr>\n",
       "      <th>0</th>\n",
       "      <td>N100</td>\n",
       "      <td>변액연금보험</td>\n",
       "      <td>41~55세</td>\n",
       "      <td>보험설계사 통해 가입</td>\n",
       "      <td>여성</td>\n",
       "      <td>사무관리직/전문직/공무원</td>\n",
       "      <td>약관대출 없음</td>\n",
       "      <td>특약 없음</td>\n",
       "      <td>보험료일시납</td>\n",
       "      <td>적극적 수금</td>\n",
       "      <td>2.222144</td>\n",
       "      <td>710.538548</td>\n",
       "      <td>4.130838</td>\n",
       "      <td>131.144204</td>\n",
       "      <td>88.749578</td>\n",
       "      <td>2735.211733</td>\n",
       "      <td>4580.063731</td>\n",
       "    </tr>\n",
       "    <tr>\n",
       "      <th>1</th>\n",
       "      <td>N110</td>\n",
       "      <td>변액유니버셜보험</td>\n",
       "      <td>41~55세</td>\n",
       "      <td>보험설계사 통해 가입</td>\n",
       "      <td>여성</td>\n",
       "      <td>사무관리직/전문직/공무원</td>\n",
       "      <td>약관대출 없음</td>\n",
       "      <td>특약 없음</td>\n",
       "      <td>보험료일시납</td>\n",
       "      <td>적극적 수금</td>\n",
       "      <td>2.104437</td>\n",
       "      <td>793.695023</td>\n",
       "      <td>4.265261</td>\n",
       "      <td>168.275067</td>\n",
       "      <td>66.550380</td>\n",
       "      <td>3817.741358</td>\n",
       "      <td>10821.805344</td>\n",
       "    </tr>\n",
       "    <tr>\n",
       "      <th>2</th>\n",
       "      <td>N120</td>\n",
       "      <td>변액연금보험</td>\n",
       "      <td>41~55세</td>\n",
       "      <td>보험설계사 통해 가입</td>\n",
       "      <td>여성</td>\n",
       "      <td>사무관리직/전문직/공무원</td>\n",
       "      <td>약관대출 없음</td>\n",
       "      <td>특약 없음</td>\n",
       "      <td>보험료일시납</td>\n",
       "      <td>적극적 수금</td>\n",
       "      <td>2.276736</td>\n",
       "      <td>758.939361</td>\n",
       "      <td>4.529217</td>\n",
       "      <td>216.248071</td>\n",
       "      <td>85.244763</td>\n",
       "      <td>2982.014333</td>\n",
       "      <td>9750.433297</td>\n",
       "    </tr>\n",
       "    <tr>\n",
       "      <th>3</th>\n",
       "      <td>N130</td>\n",
       "      <td>변액유니버셜보험</td>\n",
       "      <td>41~55세</td>\n",
       "      <td>보험설계사 통해 가입</td>\n",
       "      <td>여성</td>\n",
       "      <td>사무관리직/전문직/공무원</td>\n",
       "      <td>약관대출 없음</td>\n",
       "      <td>특약 없음</td>\n",
       "      <td>보험료일시납</td>\n",
       "      <td>적극적 수금</td>\n",
       "      <td>2.149781</td>\n",
       "      <td>760.163787</td>\n",
       "      <td>5.025212</td>\n",
       "      <td>114.284527</td>\n",
       "      <td>67.951069</td>\n",
       "      <td>3375.686245</td>\n",
       "      <td>6196.328976</td>\n",
       "    </tr>\n",
       "    <tr>\n",
       "      <th>4</th>\n",
       "      <td>N140</td>\n",
       "      <td>변액유니버셜보험</td>\n",
       "      <td>41~55세</td>\n",
       "      <td>보험설계사 통해 가입</td>\n",
       "      <td>여성</td>\n",
       "      <td>사무관리직/전문직/공무원</td>\n",
       "      <td>약관대출 없음</td>\n",
       "      <td>특약 없음</td>\n",
       "      <td>보험료일시납</td>\n",
       "      <td>적극적 수금</td>\n",
       "      <td>2.241711</td>\n",
       "      <td>804.682935</td>\n",
       "      <td>5.101785</td>\n",
       "      <td>122.514027</td>\n",
       "      <td>60.808602</td>\n",
       "      <td>3628.789937</td>\n",
       "      <td>7054.017737</td>\n",
       "    </tr>\n",
       "  </tbody>\n",
       "</table>\n",
       "</div>"
      ],
      "text/plain": [
       "  fund_cd mod_product_cd  ... mean_avg_jn_amt mean_sum_fee_amt\n",
       "0    N100         변액연금보험  ...     2735.211733      4580.063731\n",
       "1    N110       변액유니버셜보험  ...     3817.741358     10821.805344\n",
       "2    N120         변액연금보험  ...     2982.014333      9750.433297\n",
       "3    N130       변액유니버셜보험  ...     3375.686245      6196.328976\n",
       "4    N140       변액유니버셜보험  ...     3628.789937      7054.017737\n",
       "\n",
       "[5 rows x 17 columns]"
      ]
     },
     "execution_count": 16,
     "metadata": {},
     "output_type": "execute_result"
    }
   ],
   "source": [
    "gid_summary = mali_data.groupby('fund_cd').agg(**{\n",
    "    \n",
    "    # 범주형\n",
    "    'mod_product_cd':pd.NamedAgg(column='product_cd', aggfunc=lambda x:x.mode()),\n",
    "    'mod_age_cd':pd.NamedAgg(column='age_cd', aggfunc=lambda x:x.mode()),\n",
    "    'mod_channel_cd':pd.NamedAgg(column='channel_cd', aggfunc=lambda x:x.mode()),\n",
    "    'mod_gender':pd.NamedAgg(column='gender', aggfunc=lambda x:x.mode()),\n",
    "    'mod_job_cd':pd.NamedAgg(column='job_cd', aggfunc=lambda x:x.mode()),\n",
    "    'mod_loan_yn':pd.NamedAgg(column='loan_yn', aggfunc=lambda x:x.mode()),\n",
    "    'mod_rider':pd.NamedAgg(column='rider', aggfunc=lambda x:x.mode()),\n",
    "    'mod_pay_prd':pd.NamedAgg(column='pay_prd', aggfunc=lambda x:x.mode()),\n",
    "    'mod_rcpt_cd':pd.NamedAgg(column='rcpt_cd', aggfunc=lambda x:x.mode()),\n",
    "\n",
    "\n",
    "    # 연속형\n",
    "    'mean_cntr_cnt':pd.NamedAgg(column='cntr_cnt', aggfunc='mean'),\n",
    "    'mean_avg_cssc':pd.NamedAgg(column='avg_cssc', aggfunc='mean'),\n",
    "    'mean_avg_ch_cntr_cnt':pd.NamedAgg(column='avg_ch_cntr_cnt', aggfunc='mean'),\n",
    "    'mean_cntr_no_cnt':pd.NamedAgg(column='cntr_no_cnt', aggfunc='mean'),\n",
    "    'mean_avg_max_pay':pd.NamedAgg(column='avg_max_pay', aggfunc='mean'),\n",
    "    'mean_avg_jn_amt':pd.NamedAgg(column='avg_jn_amt', aggfunc='mean'),\n",
    "    'mean_sum_fee_amt':pd.NamedAgg(column='sum_fee_amt', aggfunc='mean')\n",
    "}).reset_index()\n",
    "\n",
    "gid_summary.head()"
   ]
  },
  {
   "cell_type": "code",
   "execution_count": 18,
   "metadata": {
    "executionInfo": {
     "elapsed": 1097,
     "status": "ok",
     "timestamp": 1632989512405,
     "user": {
      "displayName": "성균관대이지연",
      "photoUrl": "https://lh3.googleusercontent.com/a/default-user=s64",
      "userId": "06932829462441791260"
     },
     "user_tz": -540
    },
    "id": "Sr2XFmVe2TO1"
   },
   "outputs": [],
   "source": [
    "gid_summary.to_csv(\"/content/drive/MyDrive/miraeasset/대시보드용 데이터/gid_summary.csv\", index = False, encoding = 'cp949')"
   ]
  },
  {
   "cell_type": "markdown",
   "metadata": {
    "id": "uPhpaVqWagJF"
   },
   "source": [
    "### 4. 펀드별 운용성과 데이터 병합"
   ]
  },
  {
   "cell_type": "code",
   "execution_count": 19,
   "metadata": {
    "colab": {
     "base_uri": "https://localhost:8080/",
     "height": 310
    },
    "executionInfo": {
     "elapsed": 834,
     "status": "ok",
     "timestamp": 1632989515740,
     "user": {
      "displayName": "성균관대이지연",
      "photoUrl": "https://lh3.googleusercontent.com/a/default-user=s64",
      "userId": "06932829462441791260"
     },
     "user_tz": -540
    },
    "id": "_NskpNxd1kSS",
    "outputId": "e92aa0a2-941c-44a4-e61a-aa8643674a72"
   },
   "outputs": [
    {
     "data": {
      "text/html": [
       "<div>\n",
       "<style scoped>\n",
       "    .dataframe tbody tr th:only-of-type {\n",
       "        vertical-align: middle;\n",
       "    }\n",
       "\n",
       "    .dataframe tbody tr th {\n",
       "        vertical-align: top;\n",
       "    }\n",
       "\n",
       "    .dataframe thead th {\n",
       "        text-align: right;\n",
       "    }\n",
       "</style>\n",
       "<table border=\"1\" class=\"dataframe\">\n",
       "  <thead>\n",
       "    <tr style=\"text-align: right;\">\n",
       "      <th></th>\n",
       "      <th>fund_cd</th>\n",
       "      <th>세부유형</th>\n",
       "      <th>위험등급</th>\n",
       "      <th>주식편입비</th>\n",
       "      <th>채권편입비</th>\n",
       "      <th>수익률1개월</th>\n",
       "      <th>수익률3개월</th>\n",
       "      <th>수익률6개월</th>\n",
       "      <th>수익률1년</th>\n",
       "      <th>수익률3년</th>\n",
       "      <th>수익률5년</th>\n",
       "      <th>수익률누적</th>\n",
       "      <th>수익률연평균</th>\n",
       "      <th>변동성</th>\n",
       "      <th>순자산(억원)</th>\n",
       "      <th>총자산대비외화자산비중</th>\n",
       "      <th>외화자산대비환헤지비율</th>\n",
       "      <th>전일대비</th>\n",
       "      <th>운용사명</th>\n",
       "      <th>수탁사명</th>\n",
       "      <th>사무관리회사명</th>\n",
       "    </tr>\n",
       "  </thead>\n",
       "  <tbody>\n",
       "    <tr>\n",
       "      <th>0</th>\n",
       "      <td>N140</td>\n",
       "      <td>가치</td>\n",
       "      <td>고위험(2등급)</td>\n",
       "      <td>60%~100%</td>\n",
       "      <td>0%~40%</td>\n",
       "      <td>1.31</td>\n",
       "      <td>-3.31</td>\n",
       "      <td>0.32</td>\n",
       "      <td>30.12</td>\n",
       "      <td>28.77</td>\n",
       "      <td>47.51</td>\n",
       "      <td>60.52</td>\n",
       "      <td>6.92</td>\n",
       "      <td>22.90</td>\n",
       "      <td>138</td>\n",
       "      <td>0.00%</td>\n",
       "      <td>0.00%</td>\n",
       "      <td>-0.03</td>\n",
       "      <td>미래에셋자산운용</td>\n",
       "      <td>KB국민은행</td>\n",
       "      <td>미래에셋펀드서비스</td>\n",
       "    </tr>\n",
       "    <tr>\n",
       "      <th>1</th>\n",
       "      <td>N1F0</td>\n",
       "      <td>가치</td>\n",
       "      <td>고위험(2등급)</td>\n",
       "      <td>0%~100%</td>\n",
       "      <td>0%~40%</td>\n",
       "      <td>1.35</td>\n",
       "      <td>-3.09</td>\n",
       "      <td>0.44</td>\n",
       "      <td>31.13</td>\n",
       "      <td>26.32</td>\n",
       "      <td>42.98</td>\n",
       "      <td>86.49</td>\n",
       "      <td>7.54</td>\n",
       "      <td>23.02</td>\n",
       "      <td>511</td>\n",
       "      <td>0.00%</td>\n",
       "      <td>0.00%</td>\n",
       "      <td>-0.02</td>\n",
       "      <td>미래에셋자산운용</td>\n",
       "      <td>한국씨티은행</td>\n",
       "      <td>미래에셋펀드서비스</td>\n",
       "    </tr>\n",
       "    <tr>\n",
       "      <th>2</th>\n",
       "      <td>N110</td>\n",
       "      <td>배당</td>\n",
       "      <td>고위험(2등급)</td>\n",
       "      <td>60%~100%</td>\n",
       "      <td>0%~40%</td>\n",
       "      <td>4.31</td>\n",
       "      <td>-1.99</td>\n",
       "      <td>4.57</td>\n",
       "      <td>34.16</td>\n",
       "      <td>41.83</td>\n",
       "      <td>45.44</td>\n",
       "      <td>50.24</td>\n",
       "      <td>5.23</td>\n",
       "      <td>21.57</td>\n",
       "      <td>51</td>\n",
       "      <td>0.00%</td>\n",
       "      <td>0.00%</td>\n",
       "      <td>-0.02</td>\n",
       "      <td>미래에셋자산운용</td>\n",
       "      <td>KB국민은행</td>\n",
       "      <td>미래에셋펀드서비스</td>\n",
       "    </tr>\n",
       "    <tr>\n",
       "      <th>3</th>\n",
       "      <td>N1E0</td>\n",
       "      <td>배당</td>\n",
       "      <td>고위험(2등급)</td>\n",
       "      <td>0%~100%</td>\n",
       "      <td>0%~40%</td>\n",
       "      <td>3.48</td>\n",
       "      <td>-2.9</td>\n",
       "      <td>3.01</td>\n",
       "      <td>34.55</td>\n",
       "      <td>42.47</td>\n",
       "      <td>57.37</td>\n",
       "      <td>220.88</td>\n",
       "      <td>16.72</td>\n",
       "      <td>20.61</td>\n",
       "      <td>2241</td>\n",
       "      <td>0.00%</td>\n",
       "      <td>0.00%</td>\n",
       "      <td>-0.03</td>\n",
       "      <td>미래에셋자산운용</td>\n",
       "      <td>한국씨티은행</td>\n",
       "      <td>미래에셋펀드서비스</td>\n",
       "    </tr>\n",
       "    <tr>\n",
       "      <th>4</th>\n",
       "      <td>N130</td>\n",
       "      <td>인덱스</td>\n",
       "      <td>고위험(2등급)</td>\n",
       "      <td>60%~100%</td>\n",
       "      <td>0%~40%</td>\n",
       "      <td>2.18</td>\n",
       "      <td>-4.4</td>\n",
       "      <td>-0.57</td>\n",
       "      <td>29.41</td>\n",
       "      <td>40.28</td>\n",
       "      <td>67.09</td>\n",
       "      <td>66.54</td>\n",
       "      <td>7.02</td>\n",
       "      <td>20.52</td>\n",
       "      <td>289</td>\n",
       "      <td>0.00%</td>\n",
       "      <td>0.00%</td>\n",
       "      <td>-0.02</td>\n",
       "      <td>교보악사자산운용</td>\n",
       "      <td>KB국민은행</td>\n",
       "      <td>미래에셋펀드서비스</td>\n",
       "    </tr>\n",
       "  </tbody>\n",
       "</table>\n",
       "</div>"
      ],
      "text/plain": [
       "  fund_cd 세부유형      위험등급     주식편입비  ...   전일대비      운용사명    수탁사명    사무관리회사명\n",
       "0    N140   가치  고위험(2등급)  60%~100%  ...  -0.03  미래에셋자산운용  KB국민은행  미래에셋펀드서비스\n",
       "1    N1F0   가치  고위험(2등급)   0%~100%  ...  -0.02  미래에셋자산운용  한국씨티은행  미래에셋펀드서비스\n",
       "2    N110   배당  고위험(2등급)  60%~100%  ...  -0.02  미래에셋자산운용  KB국민은행  미래에셋펀드서비스\n",
       "3    N1E0   배당  고위험(2등급)   0%~100%  ...  -0.03  미래에셋자산운용  한국씨티은행  미래에셋펀드서비스\n",
       "4    N130  인덱스  고위험(2등급)  60%~100%  ...  -0.02  교보악사자산운용  KB국민은행  미래에셋펀드서비스\n",
       "\n",
       "[5 rows x 21 columns]"
      ]
     },
     "execution_count": 19,
     "metadata": {},
     "output_type": "execute_result"
    }
   ],
   "source": [
    "# MAP 운용성과 데이터\n",
    "operation_pf = pd.read_csv('/content/drive/MyDrive/miraeasset/변액펀드MAP_운용성과_20210922.xls.csv', encoding='cp949', skiprows=[0,1,2,3,5])\n",
    "operation_pf.columns = ['fund_cd', 'fund_nm', '자산군', '세부유형', '위험등급', '주식편입비', '채권편입비', '수익률1개월', '수익률3개월', '수익률6개월',\n",
    "                        '수익률1년', '수익률3년', '수익률5년', '수익률연초후', '수익률누적', '수익률연평균', '변동성', '순자산(억원)','총자산대비외화자산비중', \n",
    "                        '외화자산대비환헤지비율','기준가(원)','전일대비','설정일','펀드소개','운용사명', '수탁사명', '사무관리회사명']\n",
    "operation_pf = operation_pf.drop(['fund_nm', '자산군', '수익률연초후', '기준가(원)', '설정일', '펀드소개'], axis=1)\n",
    "operation_pf.head()"
   ]
  },
  {
   "cell_type": "code",
   "execution_count": 20,
   "metadata": {
    "colab": {
     "base_uri": "https://localhost:8080/",
     "height": 531
    },
    "executionInfo": {
     "elapsed": 1328,
     "status": "ok",
     "timestamp": 1632989518615,
     "user": {
      "displayName": "성균관대이지연",
      "photoUrl": "https://lh3.googleusercontent.com/a/default-user=s64",
      "userId": "06932829462441791260"
     },
     "user_tz": -540
    },
    "id": "S9XEG_Pr5NfD",
    "outputId": "d3877f46-e55a-45ce-c1e8-0fd3d7576c2e"
   },
   "outputs": [
    {
     "data": {
      "text/html": [
       "<div>\n",
       "<style scoped>\n",
       "    .dataframe tbody tr th:only-of-type {\n",
       "        vertical-align: middle;\n",
       "    }\n",
       "\n",
       "    .dataframe tbody tr th {\n",
       "        vertical-align: top;\n",
       "    }\n",
       "\n",
       "    .dataframe thead th {\n",
       "        text-align: right;\n",
       "    }\n",
       "</style>\n",
       "<table border=\"1\" class=\"dataframe\">\n",
       "  <thead>\n",
       "    <tr style=\"text-align: right;\">\n",
       "      <th></th>\n",
       "      <th>fund_cd</th>\n",
       "      <th>fund_price</th>\n",
       "      <th>fund_nm</th>\n",
       "      <th>fund_set_dt</th>\n",
       "      <th>operation_rsk</th>\n",
       "      <th>operation_conm</th>\n",
       "      <th>fund_expln</th>\n",
       "      <th>stck_expln</th>\n",
       "      <th>finan_bond_expln</th>\n",
       "      <th>fund_aset_cd</th>\n",
       "      <th>fund_stle_cd</th>\n",
       "      <th>insur_as_fund_cd</th>\n",
       "      <th>fund_diff_cd</th>\n",
       "      <th>finan_bond_cd</th>\n",
       "      <th>feh_cd</th>\n",
       "      <th>gid_count</th>\n",
       "      <th>세부유형</th>\n",
       "      <th>위험등급</th>\n",
       "      <th>주식편입비</th>\n",
       "      <th>채권편입비</th>\n",
       "      <th>수익률1개월</th>\n",
       "      <th>수익률3개월</th>\n",
       "      <th>수익률6개월</th>\n",
       "      <th>수익률1년</th>\n",
       "      <th>수익률3년</th>\n",
       "      <th>수익률5년</th>\n",
       "      <th>수익률누적</th>\n",
       "      <th>수익률연평균</th>\n",
       "      <th>변동성</th>\n",
       "      <th>순자산(억원)</th>\n",
       "      <th>총자산대비외화자산비중</th>\n",
       "      <th>외화자산대비환헤지비율</th>\n",
       "      <th>전일대비</th>\n",
       "      <th>운용사명</th>\n",
       "      <th>수탁사명</th>\n",
       "      <th>사무관리회사명</th>\n",
       "    </tr>\n",
       "  </thead>\n",
       "  <tbody>\n",
       "    <tr>\n",
       "      <th>0</th>\n",
       "      <td>N2C0</td>\n",
       "      <td>1313.65</td>\n",
       "      <td>아시아인프라</td>\n",
       "      <td>20080415</td>\n",
       "      <td>3</td>\n",
       "      <td>이스트스프링자산운용</td>\n",
       "      <td>자산의 60% 이상을 아시아 국가의 인프라관련 주식 및 아시아국가 인프라 주식을 주...</td>\n",
       "      <td>60% 이상을 아시아 각국의 인프라 산업과 관련된 주식 및 주식형 펀드</td>\n",
       "      <td>40% 이내에서 현예금(외화 현예금 포함), MMF 등을 포함한 유동성 자산</td>\n",
       "      <td>해외주식</td>\n",
       "      <td>이머징주식</td>\n",
       "      <td>KLVL3400W15</td>\n",
       "      <td>2</td>\n",
       "      <td>2</td>\n",
       "      <td>2</td>\n",
       "      <td>498</td>\n",
       "      <td>이머징</td>\n",
       "      <td>고위험(2등급)</td>\n",
       "      <td>0%~100%</td>\n",
       "      <td>0%~40%</td>\n",
       "      <td>1.64</td>\n",
       "      <td>3.14</td>\n",
       "      <td>8.95</td>\n",
       "      <td>17.35</td>\n",
       "      <td>11.9</td>\n",
       "      <td>28.55</td>\n",
       "      <td>50.28</td>\n",
       "      <td>3.74</td>\n",
       "      <td>14.74</td>\n",
       "      <td>68</td>\n",
       "      <td>90.63%</td>\n",
       "      <td>0.00%</td>\n",
       "      <td>-</td>\n",
       "      <td>이스트스프링자산운용</td>\n",
       "      <td>한국씨티은행</td>\n",
       "      <td>미래에셋펀드서비스</td>\n",
       "    </tr>\n",
       "    <tr>\n",
       "      <th>1</th>\n",
       "      <td>N5A0</td>\n",
       "      <td>1438.67</td>\n",
       "      <td>MMF형</td>\n",
       "      <td>20040607</td>\n",
       "      <td>5</td>\n",
       "      <td>KB자산운용</td>\n",
       "      <td>MMF형 펀드, 콜론 등의 단기유동성 금융자산에 90% 이상 투자</td>\n",
       "      <td>투자하지 않음</td>\n",
       "      <td>단기유동성 금융자산</td>\n",
       "      <td>국내채권</td>\n",
       "      <td>국내MMF</td>\n",
       "      <td>KLVL3400V14</td>\n",
       "      <td>4</td>\n",
       "      <td>1</td>\n",
       "      <td>2</td>\n",
       "      <td>1528</td>\n",
       "      <td>단기채권</td>\n",
       "      <td>초저위험(5등급)</td>\n",
       "      <td>0%</td>\n",
       "      <td>0%~100%</td>\n",
       "      <td>0.03</td>\n",
       "      <td>0.07</td>\n",
       "      <td>0.14</td>\n",
       "      <td>0.29</td>\n",
       "      <td>2.48</td>\n",
       "      <td>4.81</td>\n",
       "      <td>44.62</td>\n",
       "      <td>2.58</td>\n",
       "      <td>0.07</td>\n",
       "      <td>1802</td>\n",
       "      <td>0.00%</td>\n",
       "      <td>0.00%</td>\n",
       "      <td>-0.01</td>\n",
       "      <td>KB자산운용</td>\n",
       "      <td>한국씨티은행</td>\n",
       "      <td>미래에셋펀드서비스</td>\n",
       "    </tr>\n",
       "  </tbody>\n",
       "</table>\n",
       "</div>"
      ],
      "text/plain": [
       "  fund_cd  fund_price fund_nm  ...        운용사명    수탁사명    사무관리회사명\n",
       "0    N2C0     1313.65  아시아인프라  ...  이스트스프링자산운용  한국씨티은행  미래에셋펀드서비스\n",
       "1    N5A0     1438.67    MMF형  ...      KB자산운용  한국씨티은행  미래에셋펀드서비스\n",
       "\n",
       "[2 rows x 36 columns]"
      ]
     },
     "execution_count": 20,
     "metadata": {},
     "output_type": "execute_result"
    }
   ],
   "source": [
    "fund_data = fund_data.merge(operation_pf, on='fund_cd', how='left')\n",
    "fund_data.head(2)"
   ]
  },
  {
   "cell_type": "code",
   "execution_count": 22,
   "metadata": {
    "executionInfo": {
     "elapsed": 32496,
     "status": "ok",
     "timestamp": 1632989568047,
     "user": {
      "displayName": "성균관대이지연",
      "photoUrl": "https://lh3.googleusercontent.com/a/default-user=s64",
      "userId": "06932829462441791260"
     },
     "user_tz": -540
    },
    "id": "bsAxKody5jkG"
   },
   "outputs": [],
   "source": [
    "fund_data.to_csv(\"/content/drive/MyDrive/miraeasset/대시보드용 데이터/fund_data.csv\", index = False, encoding = 'cp949')"
   ]
  },
  {
   "cell_type": "markdown",
   "metadata": {
    "id": "KotYvpXqtYzA"
   },
   "source": [
    "### 5. 펀드별 키워드 전처리 \n",
    "- 펀드코드와 키워드를 연결하여 워드클라우드 시각화가 가능한 데이터 생성"
   ]
  },
  {
   "cell_type": "code",
   "execution_count": 23,
   "metadata": {
    "executionInfo": {
     "elapsed": 851,
     "status": "ok",
     "timestamp": 1632989571304,
     "user": {
      "displayName": "성균관대이지연",
      "photoUrl": "https://lh3.googleusercontent.com/a/default-user=s64",
      "userId": "06932829462441791260"
     },
     "user_tz": -540
    },
    "id": "9XFiHRkgh4DL"
   },
   "outputs": [],
   "source": [
    "## 키워드 전처리\n",
    "fund_keyword = pd.read_csv('/content/drive/MyDrive/miraeasset/fund_keyword.csv', encoding='cp949')\n",
    "fund_keyword['keyword'] = fund_keyword['keyword'].str.replace(\"'\",'')\n",
    "fund_keyword['keyword'] = fund_keyword['keyword'].str.replace(\"[\",'')\n",
    "fund_keyword['keyword'] = fund_keyword['keyword'].str.replace(\"]\",'')\n",
    "#str(fund_keyword['keyword']).split(',')\n",
    "\n",
    "keyword_list = []\n",
    "for i in range(len(fund_keyword)):\n",
    "  string = str(fund_keyword['keyword'][i]).split(',')\n",
    "  keyword_list.append(string)"
   ]
  },
  {
   "cell_type": "code",
   "execution_count": 24,
   "metadata": {
    "colab": {
     "base_uri": "https://localhost:8080/"
    },
    "executionInfo": {
     "elapsed": 342,
     "status": "ok",
     "timestamp": 1632989572323,
     "user": {
      "displayName": "성균관대이지연",
      "photoUrl": "https://lh3.googleusercontent.com/a/default-user=s64",
      "userId": "06932829462441791260"
     },
     "user_tz": -540
    },
    "id": "STgwwZaOjdrT",
    "outputId": "97591f59-95fb-4c95-f8a5-69c6b0adfee5"
   },
   "outputs": [
    {
     "data": {
      "text/plain": [
       "<bound method DataFrame.transpose of      N2C0 N5A0   N1B0    N4C0    N750  ...  N9H0  N250     N9D0  U204     N9E0\n",
       "0     인프라   단기     기여     고배당      단기  ...    상품    중국      초이스    중국      초이스\n",
       "1   코로나19   콜론     실적      배당      미국  ...    파생    기업       맥스    인도       맥스\n",
       "2     아시아   금리     증감      수익      국채  ...    국내    산업   이스트스프링    기업   이스트스프링\n",
       "3      배당   양도     국내   코로나19      공사  ...    장외    대표       신탁    절반       신탁\n",
       "4      섹터   증서     가능      안정      정책  ...    수익    규제       증권    인구       보험\n",
       "5      종식   금융     업종      섹터      표시  ...    지수   플랫폼       집합    대표       증권\n",
       "6      미국   매수    반도체      종식   인플레이션  ...   대부분    증시       보험    변화       집합\n",
       "7     재투자   예금     예정      미국     크레딧  ...    증권    이슈       현금    차지       현금\n",
       "8      국가   우려     부정      자본      경기  ...    확보    이익       안정    적응       안정\n",
       "9      누적   만기   바이오팜      증식      은행  ...    안정    주요       상품   수혜주       상품\n",
       "\n",
       "[10 rows x 154 columns]>"
      ]
     },
     "execution_count": 24,
     "metadata": {},
     "output_type": "execute_result"
    }
   ],
   "source": [
    "keyword_matrix = pd.DataFrame(keyword_list).transpose()\n",
    "keyword_matrix.columns = fund_keyword['fund_cd'].to_list()\n",
    "keyword_matrix.transpose"
   ]
  },
  {
   "cell_type": "code",
   "execution_count": 25,
   "metadata": {
    "colab": {
     "base_uri": "https://localhost:8080/",
     "height": 206
    },
    "executionInfo": {
     "elapsed": 6,
     "status": "ok",
     "timestamp": 1632989575395,
     "user": {
      "displayName": "성균관대이지연",
      "photoUrl": "https://lh3.googleusercontent.com/a/default-user=s64",
      "userId": "06932829462441791260"
     },
     "user_tz": -540
    },
    "id": "q1He-g7yrMHh",
    "outputId": "eb1ade8e-50db-4b7f-82f1-82b6751f4735"
   },
   "outputs": [
    {
     "data": {
      "text/html": [
       "<div>\n",
       "<style scoped>\n",
       "    .dataframe tbody tr th:only-of-type {\n",
       "        vertical-align: middle;\n",
       "    }\n",
       "\n",
       "    .dataframe tbody tr th {\n",
       "        vertical-align: top;\n",
       "    }\n",
       "\n",
       "    .dataframe thead th {\n",
       "        text-align: right;\n",
       "    }\n",
       "</style>\n",
       "<table border=\"1\" class=\"dataframe\">\n",
       "  <thead>\n",
       "    <tr style=\"text-align: right;\">\n",
       "      <th></th>\n",
       "      <th>fund_cd</th>\n",
       "      <th>keyword</th>\n",
       "    </tr>\n",
       "  </thead>\n",
       "  <tbody>\n",
       "    <tr>\n",
       "      <th>0</th>\n",
       "      <td>N2C0</td>\n",
       "      <td>인프라</td>\n",
       "    </tr>\n",
       "    <tr>\n",
       "      <th>1</th>\n",
       "      <td>N2C0</td>\n",
       "      <td>코로나19</td>\n",
       "    </tr>\n",
       "    <tr>\n",
       "      <th>2</th>\n",
       "      <td>N2C0</td>\n",
       "      <td>아시아</td>\n",
       "    </tr>\n",
       "    <tr>\n",
       "      <th>3</th>\n",
       "      <td>N2C0</td>\n",
       "      <td>배당</td>\n",
       "    </tr>\n",
       "    <tr>\n",
       "      <th>4</th>\n",
       "      <td>N2C0</td>\n",
       "      <td>섹터</td>\n",
       "    </tr>\n",
       "  </tbody>\n",
       "</table>\n",
       "</div>"
      ],
      "text/plain": [
       "  fund_cd keyword\n",
       "0    N2C0     인프라\n",
       "1    N2C0   코로나19\n",
       "2    N2C0     아시아\n",
       "3    N2C0      배당\n",
       "4    N2C0      섹터"
      ]
     },
     "execution_count": 25,
     "metadata": {},
     "output_type": "execute_result"
    }
   ],
   "source": [
    "x = np.array(fund_keyword['fund_cd'].to_list())\n",
    "fund_cd_rept_list = np.repeat(x, 10, axis=0)\n",
    "keyword_rept_list = sum(keyword_list, [])\n",
    "\n",
    "df = pd.DataFrame({'fund_cd':fund_cd_rept_list, 'keyword':keyword_rept_list})\n",
    "df.head()"
   ]
  },
  {
   "cell_type": "code",
   "execution_count": 27,
   "metadata": {
    "executionInfo": {
     "elapsed": 827,
     "status": "ok",
     "timestamp": 1632989585633,
     "user": {
      "displayName": "성균관대이지연",
      "photoUrl": "https://lh3.googleusercontent.com/a/default-user=s64",
      "userId": "06932829462441791260"
     },
     "user_tz": -540
    },
    "id": "lV2ZYUeJsFHl"
   },
   "outputs": [],
   "source": [
    "df.to_csv('/content/drive/MyDrive/miraeasset/대시보드용 데이터/fund_keyword_for_wc.csv', index=False, encoding='cp949')"
   ]
  },
  {
   "cell_type": "markdown",
   "metadata": {
    "id": "z64Xsbcatcmt"
   },
   "source": [
    "### 6. 펀드별 수익률 추이\n",
    "펀드의 시기별 수익률 추이를 시계열 그래프로 시각화가 가능한 데이터 생성"
   ]
  },
  {
   "cell_type": "code",
   "execution_count": 28,
   "metadata": {
    "colab": {
     "base_uri": "https://localhost:8080/",
     "height": 206
    },
    "executionInfo": {
     "elapsed": 837,
     "status": "ok",
     "timestamp": 1632989589031,
     "user": {
      "displayName": "성균관대이지연",
      "photoUrl": "https://lh3.googleusercontent.com/a/default-user=s64",
      "userId": "06932829462441791260"
     },
     "user_tz": -540
    },
    "id": "zkFtcpQLxk8x",
    "outputId": "4d5fea28-9433-4485-eb3d-cfeead50df00"
   },
   "outputs": [
    {
     "data": {
      "text/html": [
       "<div>\n",
       "<style scoped>\n",
       "    .dataframe tbody tr th:only-of-type {\n",
       "        vertical-align: middle;\n",
       "    }\n",
       "\n",
       "    .dataframe tbody tr th {\n",
       "        vertical-align: top;\n",
       "    }\n",
       "\n",
       "    .dataframe thead th {\n",
       "        text-align: right;\n",
       "    }\n",
       "</style>\n",
       "<table border=\"1\" class=\"dataframe\">\n",
       "  <thead>\n",
       "    <tr style=\"text-align: right;\">\n",
       "      <th></th>\n",
       "      <th>fund_cd</th>\n",
       "      <th>base_ym</th>\n",
       "      <th>fund_avg_income_ratio</th>\n",
       "      <th>fund_min_income_ratio</th>\n",
       "      <th>fund_max_income_ratio</th>\n",
       "    </tr>\n",
       "  </thead>\n",
       "  <tbody>\n",
       "    <tr>\n",
       "      <th>0</th>\n",
       "      <td>N100</td>\n",
       "      <td>2020-01</td>\n",
       "      <td>15.019002</td>\n",
       "      <td>0.637637</td>\n",
       "      <td>46.261015</td>\n",
       "    </tr>\n",
       "    <tr>\n",
       "      <th>1</th>\n",
       "      <td>N100</td>\n",
       "      <td>2020-02</td>\n",
       "      <td>15.551772</td>\n",
       "      <td>0.735844</td>\n",
       "      <td>48.045348</td>\n",
       "    </tr>\n",
       "    <tr>\n",
       "      <th>2</th>\n",
       "      <td>N100</td>\n",
       "      <td>2020-03</td>\n",
       "      <td>13.859251</td>\n",
       "      <td>-1.510932</td>\n",
       "      <td>46.643844</td>\n",
       "    </tr>\n",
       "    <tr>\n",
       "      <th>3</th>\n",
       "      <td>N100</td>\n",
       "      <td>2020-04</td>\n",
       "      <td>3.588289</td>\n",
       "      <td>-12.818605</td>\n",
       "      <td>33.931429</td>\n",
       "    </tr>\n",
       "    <tr>\n",
       "      <th>4</th>\n",
       "      <td>N100</td>\n",
       "      <td>2020-05</td>\n",
       "      <td>9.754067</td>\n",
       "      <td>-6.905261</td>\n",
       "      <td>42.004067</td>\n",
       "    </tr>\n",
       "  </tbody>\n",
       "</table>\n",
       "</div>"
      ],
      "text/plain": [
       "  fund_cd  base_ym  ...  fund_min_income_ratio  fund_max_income_ratio\n",
       "0    N100  2020-01  ...               0.637637              46.261015\n",
       "1    N100  2020-02  ...               0.735844              48.045348\n",
       "2    N100  2020-03  ...              -1.510932              46.643844\n",
       "3    N100  2020-04  ...             -12.818605              33.931429\n",
       "4    N100  2020-05  ...              -6.905261              42.004067\n",
       "\n",
       "[5 rows x 5 columns]"
      ]
     },
     "execution_count": 28,
     "metadata": {},
     "output_type": "execute_result"
    }
   ],
   "source": [
    "yield_series = mali_data.groupby(['fund_cd','base_ym'])[['fund_avg_income_ratio', 'fund_min_income_ratio', 'fund_max_income_ratio']].mean().reset_index()\n",
    "yield_series.head()"
   ]
  },
  {
   "cell_type": "code",
   "execution_count": 29,
   "metadata": {
    "executionInfo": {
     "elapsed": 820,
     "status": "ok",
     "timestamp": 1632989596912,
     "user": {
      "displayName": "성균관대이지연",
      "photoUrl": "https://lh3.googleusercontent.com/a/default-user=s64",
      "userId": "06932829462441791260"
     },
     "user_tz": -540
    },
    "id": "Ifi3CuIBzNmg"
   },
   "outputs": [],
   "source": [
    "yield_series.to_csv(\"/content/drive/MyDrive/miraeasset/대시보드용 데이터/yield_series.csv\", index = False, encoding = 'cp949')"
   ]
  },
  {
   "cell_type": "markdown",
   "metadata": {},
   "source": [
    "본 저작물의 저작권은 Apache License v2.0을 따릅니다."
   ]
  }
 ],
 "metadata": {
  "colab": {
   "authorship_tag": "ABX9TyPYw6EGx2/fmkbtzzXDfBzS",
   "collapsed_sections": [],
   "name": "3.펀드소개_대시보드_전처리.ipynb",
   "provenance": []
  },
  "kernelspec": {
   "display_name": "Python 3",
   "language": "python",
   "name": "python3"
  },
  "language_info": {
   "codemirror_mode": {
    "name": "ipython",
    "version": 3
   },
   "file_extension": ".py",
   "mimetype": "text/x-python",
   "name": "python",
   "nbconvert_exporter": "python",
   "pygments_lexer": "ipython3",
   "version": "3.9.4"
  }
 },
 "nbformat": 4,
 "nbformat_minor": 1
}
